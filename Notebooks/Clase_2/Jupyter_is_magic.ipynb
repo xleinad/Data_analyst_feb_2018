{
 "cells": [
  {
   "cell_type": "markdown",
   "metadata": {},
   "source": [
    "# Jupyter Magic "
   ]
  },
  {
   "cell_type": "markdown",
   "metadata": {},
   "source": [
    "En este libro vamos a revisar algunos tips que nos van a ayudar a convertirnos en power users de Jupyter."
   ]
  },
  {
   "cell_type": "markdown",
   "metadata": {},
   "source": [
    "## Tips Varios"
   ]
  },
  {
   "cell_type": "markdown",
   "metadata": {},
   "source": [
    "### Utiliza Shortcuts"
   ]
  },
  {
   "cell_type": "markdown",
   "metadata": {},
   "source": [
    "Primero que nada podemos presionar 'h' en command mode ('esc') para ver la lista de shortcuts disponibles. (Del mismo modo podemos entrar en help>keyboard shortcuts.)"
   ]
  },
  {
   "cell_type": "markdown",
   "metadata": {
    "collapsed": true
   },
   "source": []
  },
  {
   "cell_type": "markdown",
   "metadata": {},
   "source": [
    "## Magic Commands"
   ]
  },
  {
   "cell_type": "markdown",
   "metadata": {},
   "source": [
    "### Comandos disponibles"
   ]
  },
  {
   "cell_type": "markdown",
   "metadata": {},
   "source": [
    "Podemos ver los magic commands corriendo el siguiente comando:"
   ]
  },
  {
   "cell_type": "code",
   "execution_count": 1,
   "metadata": {},
   "outputs": [
    {
     "data": {
      "application/json": {
       "cell": {
        "!": "OSMagics",
        "HTML": "Other",
        "SVG": "Other",
        "bash": "Other",
        "capture": "ExecutionMagics",
        "debug": "ExecutionMagics",
        "file": "Other",
        "html": "DisplayMagics",
        "javascript": "DisplayMagics",
        "js": "DisplayMagics",
        "latex": "DisplayMagics",
        "markdown": "DisplayMagics",
        "perl": "Other",
        "prun": "ExecutionMagics",
        "pypy": "Other",
        "python": "Other",
        "python2": "Other",
        "python3": "Other",
        "ruby": "Other",
        "script": "ScriptMagics",
        "sh": "Other",
        "svg": "DisplayMagics",
        "sx": "OSMagics",
        "system": "OSMagics",
        "time": "ExecutionMagics",
        "timeit": "ExecutionMagics",
        "writefile": "OSMagics"
       },
       "line": {
        "alias": "OSMagics",
        "alias_magic": "BasicMagics",
        "autocall": "AutoMagics",
        "automagic": "AutoMagics",
        "autosave": "KernelMagics",
        "bookmark": "OSMagics",
        "cat": "Other",
        "cd": "OSMagics",
        "clear": "KernelMagics",
        "colors": "BasicMagics",
        "config": "ConfigMagics",
        "connect_info": "KernelMagics",
        "cp": "Other",
        "debug": "ExecutionMagics",
        "dhist": "OSMagics",
        "dirs": "OSMagics",
        "doctest_mode": "BasicMagics",
        "ed": "Other",
        "edit": "KernelMagics",
        "env": "OSMagics",
        "gui": "BasicMagics",
        "hist": "Other",
        "history": "HistoryMagics",
        "killbgscripts": "ScriptMagics",
        "ldir": "Other",
        "less": "KernelMagics",
        "lf": "Other",
        "lk": "Other",
        "ll": "Other",
        "load": "CodeMagics",
        "load_ext": "ExtensionMagics",
        "loadpy": "CodeMagics",
        "logoff": "LoggingMagics",
        "logon": "LoggingMagics",
        "logstart": "LoggingMagics",
        "logstate": "LoggingMagics",
        "logstop": "LoggingMagics",
        "ls": "Other",
        "lsmagic": "BasicMagics",
        "lx": "Other",
        "macro": "ExecutionMagics",
        "magic": "BasicMagics",
        "man": "KernelMagics",
        "matplotlib": "PylabMagics",
        "mkdir": "Other",
        "more": "KernelMagics",
        "mv": "Other",
        "notebook": "BasicMagics",
        "page": "BasicMagics",
        "pastebin": "CodeMagics",
        "pdb": "ExecutionMagics",
        "pdef": "NamespaceMagics",
        "pdoc": "NamespaceMagics",
        "pfile": "NamespaceMagics",
        "pinfo": "NamespaceMagics",
        "pinfo2": "NamespaceMagics",
        "pip": "BasicMagics",
        "popd": "OSMagics",
        "pprint": "BasicMagics",
        "precision": "BasicMagics",
        "profile": "BasicMagics",
        "prun": "ExecutionMagics",
        "psearch": "NamespaceMagics",
        "psource": "NamespaceMagics",
        "pushd": "OSMagics",
        "pwd": "OSMagics",
        "pycat": "OSMagics",
        "pylab": "PylabMagics",
        "qtconsole": "KernelMagics",
        "quickref": "BasicMagics",
        "recall": "HistoryMagics",
        "rehashx": "OSMagics",
        "reload_ext": "ExtensionMagics",
        "rep": "Other",
        "rerun": "HistoryMagics",
        "reset": "NamespaceMagics",
        "reset_selective": "NamespaceMagics",
        "rm": "Other",
        "rmdir": "Other",
        "run": "ExecutionMagics",
        "save": "CodeMagics",
        "sc": "OSMagics",
        "set_env": "OSMagics",
        "store": "StoreMagics",
        "sx": "OSMagics",
        "system": "OSMagics",
        "tb": "ExecutionMagics",
        "time": "ExecutionMagics",
        "timeit": "ExecutionMagics",
        "unalias": "OSMagics",
        "unload_ext": "ExtensionMagics",
        "who": "NamespaceMagics",
        "who_ls": "NamespaceMagics",
        "whos": "NamespaceMagics",
        "xdel": "NamespaceMagics",
        "xmode": "BasicMagics"
       }
      },
      "text/plain": [
       "Available line magics:\n",
       "%alias  %alias_magic  %autocall  %automagic  %autosave  %bookmark  %cat  %cd  %clear  %colors  %config  %connect_info  %cp  %debug  %dhist  %dirs  %doctest_mode  %ed  %edit  %env  %gui  %hist  %history  %killbgscripts  %ldir  %less  %lf  %lk  %ll  %load  %load_ext  %loadpy  %logoff  %logon  %logstart  %logstate  %logstop  %ls  %lsmagic  %lx  %macro  %magic  %man  %matplotlib  %mkdir  %more  %mv  %notebook  %page  %pastebin  %pdb  %pdef  %pdoc  %pfile  %pinfo  %pinfo2  %popd  %pprint  %precision  %profile  %prun  %psearch  %psource  %pushd  %pwd  %pycat  %pylab  %qtconsole  %quickref  %recall  %rehashx  %reload_ext  %rep  %rerun  %reset  %reset_selective  %rm  %rmdir  %run  %save  %sc  %set_env  %store  %sx  %system  %tb  %time  %timeit  %unalias  %unload_ext  %who  %who_ls  %whos  %xdel  %xmode\n",
       "\n",
       "Available cell magics:\n",
       "%%!  %%HTML  %%SVG  %%bash  %%capture  %%debug  %%file  %%html  %%javascript  %%js  %%latex  %%markdown  %%perl  %%prun  %%pypy  %%python  %%python2  %%python3  %%ruby  %%script  %%sh  %%svg  %%sx  %%system  %%time  %%timeit  %%writefile\n",
       "\n",
       "Automagic is ON, % prefix IS NOT needed for line magics."
      ]
     },
     "execution_count": 1,
     "metadata": {},
     "output_type": "execute_result"
    }
   ],
   "source": [
    "%lsmagic"
   ]
  },
  {
   "cell_type": "markdown",
   "metadata": {},
   "source": [
    "Enseguida vamos a explorar algunos de los magic commands más útiles"
   ]
  },
  {
   "cell_type": "markdown",
   "metadata": {},
   "source": [
    "### Documentación"
   ]
  },
  {
   "cell_type": "markdown",
   "metadata": {},
   "source": [
    "Para preguntar la documentación utilizamos el signo de ? antes del comando sobre el cual queremos la ayuda"
   ]
  },
  {
   "cell_type": "code",
   "execution_count": 2,
   "metadata": {},
   "outputs": [],
   "source": [
    "?%history"
   ]
  },
  {
   "cell_type": "code",
   "execution_count": 3,
   "metadata": {},
   "outputs": [
    {
     "name": "stdout",
     "output_type": "stream",
     "text": [
      "%lsmagic\n",
      "?%history\n",
      "%history\n"
     ]
    }
   ],
   "source": [
    "%history"
   ]
  },
  {
   "cell_type": "markdown",
   "metadata": {},
   "source": [
    "del mismo modo que lo hacemos con cualquier función en Python"
   ]
  },
  {
   "cell_type": "code",
   "execution_count": 4,
   "metadata": {},
   "outputs": [],
   "source": [
    "?range"
   ]
  },
  {
   "cell_type": "code",
   "execution_count": 5,
   "metadata": {},
   "outputs": [],
   "source": [
    "?str.replace()"
   ]
  },
  {
   "cell_type": "markdown",
   "metadata": {},
   "source": [
    "### Tiempo"
   ]
  },
  {
   "cell_type": "markdown",
   "metadata": {},
   "source": [
    "%time te va a dar información acerca del tiempo que tarda en correr la celda (una sola vez)"
   ]
  },
  {
   "cell_type": "code",
   "execution_count": 6,
   "metadata": {},
   "outputs": [
    {
     "name": "stdout",
     "output_type": "stream",
     "text": [
      "CPU times: user 5 µs, sys: 1e+03 ns, total: 6 µs\n",
      "Wall time: 7.87 µs\n"
     ]
    }
   ],
   "source": [
    "%time x = range(10000) "
   ]
  },
  {
   "cell_type": "markdown",
   "metadata": {},
   "source": [
    "%timeit corre una celda 100,000 veces y te da el promedio de las tres veces más rápidas"
   ]
  },
  {
   "cell_type": "code",
   "execution_count": 7,
   "metadata": {},
   "outputs": [
    {
     "name": "stdout",
     "output_type": "stream",
     "text": [
      "214 ns ± 18.2 ns per loop (mean ± std. dev. of 7 runs, 1000000 loops each)\n"
     ]
    }
   ],
   "source": [
    "%timeit x = range(10000)"
   ]
  },
  {
   "cell_type": "markdown",
   "metadata": {
    "collapsed": true
   },
   "source": [
    "### Correr archivos .py"
   ]
  },
  {
   "cell_type": "code",
   "execution_count": 8,
   "metadata": {},
   "outputs": [
    {
     "name": "stdout",
     "output_type": "stream",
     "text": [
      "Writing hello-world.py\n"
     ]
    }
   ],
   "source": [
    "%%writefile hello-world.py\n",
    "\n",
    "print('hoooooola!')"
   ]
  },
  {
   "cell_type": "code",
   "execution_count": 9,
   "metadata": {},
   "outputs": [
    {
     "name": "stdout",
     "output_type": "stream",
     "text": [
      "Jupyter_is_magic.ipynb Python_Classes.ipynb   hello-world.py\r\n"
     ]
    }
   ],
   "source": [
    "!ls"
   ]
  },
  {
   "cell_type": "code",
   "execution_count": 10,
   "metadata": {},
   "outputs": [
    {
     "name": "stdout",
     "output_type": "stream",
     "text": [
      "hoooooola!\n"
     ]
    }
   ],
   "source": [
    "%run hello-world.py"
   ]
  },
  {
   "cell_type": "code",
   "execution_count": 11,
   "metadata": {},
   "outputs": [
    {
     "name": "stdout",
     "output_type": "stream",
     "text": [
      "Writing funciones.py\n"
     ]
    }
   ],
   "source": [
    "%%writefile funciones.py\n",
    "\n",
    "def printMe(text):\n",
    "    print(text)"
   ]
  },
  {
   "cell_type": "code",
   "execution_count": 12,
   "metadata": {},
   "outputs": [],
   "source": [
    "import funciones"
   ]
  },
  {
   "cell_type": "code",
   "execution_count": 13,
   "metadata": {},
   "outputs": [
    {
     "name": "stdout",
     "output_type": "stream",
     "text": [
      "heyyyy\n"
     ]
    }
   ],
   "source": [
    "funciones.printMe(\"heyyyy\")"
   ]
  },
  {
   "cell_type": "markdown",
   "metadata": {},
   "source": [
    "### Exportar los contenidos de una celda/ Mostrar los contenidos de un script externo"
   ]
  },
  {
   "cell_type": "code",
   "execution_count": 14,
   "metadata": {},
   "outputs": [
    {
     "name": "stdout",
     "output_type": "stream",
     "text": [
      "Writing pythoncode.py\n"
     ]
    }
   ],
   "source": [
    "%%writefile pythoncode.py\n",
    "\n",
    "import numpy\n",
    "def append_if_not_exists(arr, x):\n",
    "    if x not in arr:\n",
    "        arr.append(x)\n",
    "        \n",
    "def some_useless_slow_function():\n",
    "    arr = list()\n",
    "    for i in range(10000):\n",
    "        x = numpy.random.randint(0, 10000)\n",
    "        append_if_not_exists(arr, x)"
   ]
  },
  {
   "cell_type": "code",
   "execution_count": 15,
   "metadata": {},
   "outputs": [],
   "source": [
    "%pycat pythoncode.py"
   ]
  },
  {
   "cell_type": "markdown",
   "metadata": {},
   "source": [
    "### Muestra cuanto tiempo tarda tu código en cada función"
   ]
  },
  {
   "cell_type": "code",
   "execution_count": 16,
   "metadata": {},
   "outputs": [],
   "source": [
    "%run pythoncode.py"
   ]
  },
  {
   "cell_type": "code",
   "execution_count": 17,
   "metadata": {},
   "outputs": [
    {
     "name": "stdout",
     "output_type": "stream",
     "text": [
      " "
     ]
    }
   ],
   "source": [
    "%prun some_useless_slow_function()"
   ]
  },
  {
   "cell_type": "markdown",
   "metadata": {},
   "source": [
    "### Activa el python debugger en una celda"
   ]
  },
  {
   "cell_type": "code",
   "execution_count": 18,
   "metadata": {
    "collapsed": true
   },
   "outputs": [
    {
     "name": "stdout",
     "output_type": "stream",
     "text": [
      "Automatic pdb calling has been turned ON\n"
     ]
    },
    {
     "ename": "NotImplementedError",
     "evalue": "",
     "output_type": "error",
     "traceback": [
      "\u001b[0;31m---------------------------------------------------------------------------\u001b[0m",
      "\u001b[0;31mNotImplementedError\u001b[0m                       Traceback (most recent call last)",
      "\u001b[0;32m<ipython-input-18-f6967ad498fb>\u001b[0m in \u001b[0;36m<module>\u001b[0;34m()\u001b[0m\n\u001b[1;32m      5\u001b[0m     \u001b[0;32mraise\u001b[0m \u001b[0mNotImplementedError\u001b[0m\u001b[0;34m(\u001b[0m\u001b[0;34m)\u001b[0m\u001b[0;34m\u001b[0m\u001b[0m\n\u001b[1;32m      6\u001b[0m \u001b[0;34m\u001b[0m\u001b[0m\n\u001b[0;32m----> 7\u001b[0;31m \u001b[0mpick_and_take\u001b[0m\u001b[0;34m(\u001b[0m\u001b[0;34m)\u001b[0m\u001b[0;34m\u001b[0m\u001b[0m\n\u001b[0m",
      "\u001b[0;32m<ipython-input-18-f6967ad498fb>\u001b[0m in \u001b[0;36mpick_and_take\u001b[0;34m()\u001b[0m\n\u001b[1;32m      3\u001b[0m \u001b[0;32mdef\u001b[0m \u001b[0mpick_and_take\u001b[0m\u001b[0;34m(\u001b[0m\u001b[0;34m)\u001b[0m\u001b[0;34m:\u001b[0m\u001b[0;34m\u001b[0m\u001b[0m\n\u001b[1;32m      4\u001b[0m     \u001b[0mpicked\u001b[0m \u001b[0;34m=\u001b[0m \u001b[0mnumpy\u001b[0m\u001b[0;34m.\u001b[0m\u001b[0mrandom\u001b[0m\u001b[0;34m.\u001b[0m\u001b[0mrandint\u001b[0m\u001b[0;34m(\u001b[0m\u001b[0;36m0\u001b[0m\u001b[0;34m,\u001b[0m \u001b[0;36m1000\u001b[0m\u001b[0;34m)\u001b[0m\u001b[0;34m\u001b[0m\u001b[0m\n\u001b[0;32m----> 5\u001b[0;31m     \u001b[0;32mraise\u001b[0m \u001b[0mNotImplementedError\u001b[0m\u001b[0;34m(\u001b[0m\u001b[0;34m)\u001b[0m\u001b[0;34m\u001b[0m\u001b[0m\n\u001b[0m\u001b[1;32m      6\u001b[0m \u001b[0;34m\u001b[0m\u001b[0m\n\u001b[1;32m      7\u001b[0m \u001b[0mpick_and_take\u001b[0m\u001b[0;34m(\u001b[0m\u001b[0;34m)\u001b[0m\u001b[0;34m\u001b[0m\u001b[0m\n",
      "\u001b[0;31mNotImplementedError\u001b[0m: "
     ]
    },
    {
     "name": "stdout",
     "output_type": "stream",
     "text": [
      "> \u001b[0;32m<ipython-input-18-f6967ad498fb>\u001b[0m(5)\u001b[0;36mpick_and_take\u001b[0;34m()\u001b[0m\n",
      "\u001b[0;32m      3 \u001b[0;31m\u001b[0;32mdef\u001b[0m \u001b[0mpick_and_take\u001b[0m\u001b[0;34m(\u001b[0m\u001b[0;34m)\u001b[0m\u001b[0;34m:\u001b[0m\u001b[0;34m\u001b[0m\u001b[0m\n",
      "\u001b[0m\u001b[0;32m      4 \u001b[0;31m    \u001b[0mpicked\u001b[0m \u001b[0;34m=\u001b[0m \u001b[0mnumpy\u001b[0m\u001b[0;34m.\u001b[0m\u001b[0mrandom\u001b[0m\u001b[0;34m.\u001b[0m\u001b[0mrandint\u001b[0m\u001b[0;34m(\u001b[0m\u001b[0;36m0\u001b[0m\u001b[0;34m,\u001b[0m \u001b[0;36m1000\u001b[0m\u001b[0;34m)\u001b[0m\u001b[0;34m\u001b[0m\u001b[0m\n",
      "\u001b[0m\u001b[0;32m----> 5 \u001b[0;31m    \u001b[0;32mraise\u001b[0m \u001b[0mNotImplementedError\u001b[0m\u001b[0;34m(\u001b[0m\u001b[0;34m)\u001b[0m\u001b[0;34m\u001b[0m\u001b[0m\n",
      "\u001b[0m\u001b[0;32m      6 \u001b[0;31m\u001b[0;34m\u001b[0m\u001b[0m\n",
      "\u001b[0m\u001b[0;32m      7 \u001b[0;31m\u001b[0mpick_and_take\u001b[0m\u001b[0;34m(\u001b[0m\u001b[0;34m)\u001b[0m\u001b[0;34m\u001b[0m\u001b[0m\n",
      "\u001b[0m\n",
      "ipdb> print(picked)\n",
      "657\n",
      "--KeyboardInterrupt--\n",
      "ipdb> quit()\n"
     ]
    }
   ],
   "source": [
    "%pdb\n",
    "\n",
    "def pick_and_take():\n",
    "    picked = numpy.random.randint(0, 1000)\n",
    "    raise NotImplementedError()\n",
    "    \n",
    "pick_and_take()"
   ]
  },
  {
   "cell_type": "code",
   "execution_count": 25,
   "metadata": {},
   "outputs": [
    {
     "name": "stdout",
     "output_type": "stream",
     "text": [
      "Automatic pdb calling has been turned OFF\n"
     ]
    }
   ],
   "source": [
    "%pdb off"
   ]
  },
  {
   "cell_type": "markdown",
   "metadata": {},
   "source": [
    "### Matplotlib inline y suprimir el output de una celda"
   ]
  },
  {
   "cell_type": "code",
   "execution_count": 19,
   "metadata": {},
   "outputs": [],
   "source": [
    "%matplotlib inline\n",
    "from matplotlib import pyplot as plt\n",
    "import numpy\n",
    "x = numpy.linspace(0, 1, 1000)**1.5"
   ]
  },
  {
   "cell_type": "code",
   "execution_count": 20,
   "metadata": {},
   "outputs": [
    {
     "data": {
      "text/plain": [
       "(array([ 216.,  126.,  106.,   95.,   87.,   81.,   77.,   73.,   71.,   68.]),\n",
       " array([ 0. ,  0.1,  0.2,  0.3,  0.4,  0.5,  0.6,  0.7,  0.8,  0.9,  1. ]),\n",
       " <a list of 10 Patch objects>)"
      ]
     },
     "execution_count": 20,
     "metadata": {},
     "output_type": "execute_result"
    },
    {
     "data": {
      "image/png": "[encoded data removed]",
      "text/plain": [
       "<matplotlib.figure.Figure at 0x1050d3b00>"
      ]
     },
     "metadata": {},
     "output_type": "display_data"
    }
   ],
   "source": [
    "# Aquí te muestra el output de la función\n",
    "plt.hist(x)"
   ]
  },
  {
   "cell_type": "code",
   "execution_count": 21,
   "metadata": {},
   "outputs": [
    {
     "data": {
      "image/png": "[encoded data removed]",
      "text/plain": [
       "<matplotlib.figure.Figure at 0x10630a0f0>"
      ]
     },
     "metadata": {},
     "output_type": "display_data"
    }
   ],
   "source": [
    "# Aquí NO te muestra el output de la función\n",
    "plt.hist(x);"
   ]
  },
  {
   "cell_type": "markdown",
   "metadata": {},
   "source": [
    "### Cargar archivos hacia una celda"
   ]
  },
  {
   "cell_type": "markdown",
   "metadata": {},
   "source": [
    "El método mágico %load sustituye el contenido de la celda por aquello que se encuentra en un script"
   ]
  },
  {
   "cell_type": "code",
   "execution_count": 22,
   "metadata": {},
   "outputs": [
    {
     "name": "stdout",
     "output_type": "stream",
     "text": [
      "Writing var_x_y.py\n"
     ]
    }
   ],
   "source": [
    "%%writefile var_x_y.py\n",
    "x = 10\n",
    "y = 23"
   ]
  },
  {
   "cell_type": "code",
   "execution_count": null,
   "metadata": {},
   "outputs": [],
   "source": [
    "%load var_x_y.py"
   ]
  },
  {
   "cell_type": "code",
   "execution_count": null,
   "metadata": {
    "collapsed": true
   },
   "outputs": [],
   "source": [
    "# %load var_x_y.py\n",
    "x = 10\n",
    "y = 23"
   ]
  },
  {
   "cell_type": "markdown",
   "metadata": {},
   "source": [
    "### Pasar variables entre notebooks"
   ]
  },
  {
   "cell_type": "code",
   "execution_count": 24,
   "metadata": {},
   "outputs": [
    {
     "ename": "NameError",
     "evalue": "name 'df' is not defined",
     "output_type": "error",
     "traceback": [
      "\u001b[0;31m---------------------------------------------------------------------------\u001b[0m",
      "\u001b[0;31mNameError\u001b[0m                                 Traceback (most recent call last)",
      "\u001b[0;32m<ipython-input-24-00cf07b74dcd>\u001b[0m in \u001b[0;36m<module>\u001b[0;34m()\u001b[0m\n\u001b[0;32m----> 1\u001b[0;31m \u001b[0mdf\u001b[0m\u001b[0;34m\u001b[0m\u001b[0m\n\u001b[0m",
      "\u001b[0;31mNameError\u001b[0m: name 'df' is not defined"
     ]
    },
    {
     "name": "stdout",
     "output_type": "stream",
     "text": [
      "> \u001b[0;32m<ipython-input-24-00cf07b74dcd>\u001b[0m(1)\u001b[0;36m<module>\u001b[0;34m()\u001b[0m\n",
      "\u001b[0;32m----> 1 \u001b[0;31m\u001b[0mdf\u001b[0m\u001b[0;34m\u001b[0m\u001b[0m\n",
      "\u001b[0m\n",
      "ipdb> quit()\n"
     ]
    }
   ],
   "source": [
    "df"
   ]
  },
  {
   "cell_type": "markdown",
   "metadata": {},
   "source": [
    "Ahora vamos a otro notebook a guardar la variable df"
   ]
  },
  {
   "cell_type": "code",
   "execution_count": 26,
   "metadata": {},
   "outputs": [],
   "source": [
    "%store -r df"
   ]
  },
  {
   "cell_type": "code",
   "execution_count": 27,
   "metadata": {},
   "outputs": [
    {
     "data": {
      "text/html": [
       "<div>\n",
       "<style>\n",
       "    .dataframe thead tr:only-child th {\n",
       "        text-align: right;\n",
       "    }\n",
       "\n",
       "    .dataframe thead th {\n",
       "        text-align: left;\n",
       "    }\n",
       "\n",
       "    .dataframe tbody tr th {\n",
       "        vertical-align: top;\n",
       "    }\n",
       "</style>\n",
       "<table border=\"1\" class=\"dataframe\">\n",
       "  <thead>\n",
       "    <tr style=\"text-align: right;\">\n",
       "      <th></th>\n",
       "      <th>A</th>\n",
       "      <th>B</th>\n",
       "      <th>C</th>\n",
       "    </tr>\n",
       "  </thead>\n",
       "  <tbody>\n",
       "    <tr>\n",
       "      <th>2000-01-01</th>\n",
       "      <td>-0.179932</td>\n",
       "      <td>-0.928861</td>\n",
       "      <td>-1.146662</td>\n",
       "    </tr>\n",
       "    <tr>\n",
       "      <th>2000-01-02</th>\n",
       "      <td>-0.695610</td>\n",
       "      <td>-1.147890</td>\n",
       "      <td>0.356506</td>\n",
       "    </tr>\n",
       "    <tr>\n",
       "      <th>2000-01-03</th>\n",
       "      <td>-1.467226</td>\n",
       "      <td>-0.070315</td>\n",
       "      <td>-2.213198</td>\n",
       "    </tr>\n",
       "    <tr>\n",
       "      <th>2000-01-04</th>\n",
       "      <td>-0.331564</td>\n",
       "      <td>0.091667</td>\n",
       "      <td>-1.124017</td>\n",
       "    </tr>\n",
       "    <tr>\n",
       "      <th>2000-01-05</th>\n",
       "      <td>-0.543047</td>\n",
       "      <td>0.613211</td>\n",
       "      <td>-0.911126</td>\n",
       "    </tr>\n",
       "    <tr>\n",
       "      <th>2000-01-06</th>\n",
       "      <td>1.816549</td>\n",
       "      <td>1.213280</td>\n",
       "      <td>1.146233</td>\n",
       "    </tr>\n",
       "    <tr>\n",
       "      <th>2000-01-07</th>\n",
       "      <td>0.259592</td>\n",
       "      <td>-0.533768</td>\n",
       "      <td>-1.015491</td>\n",
       "    </tr>\n",
       "    <tr>\n",
       "      <th>2000-01-08</th>\n",
       "      <td>0.138186</td>\n",
       "      <td>0.584892</td>\n",
       "      <td>-0.619871</td>\n",
       "    </tr>\n",
       "  </tbody>\n",
       "</table>\n",
       "</div>"
      ],
      "text/plain": [
       "                   A         B         C\n",
       "2000-01-01 -0.179932 -0.928861 -1.146662\n",
       "2000-01-02 -0.695610 -1.147890  0.356506\n",
       "2000-01-03 -1.467226 -0.070315 -2.213198\n",
       "2000-01-04 -0.331564  0.091667 -1.124017\n",
       "2000-01-05 -0.543047  0.613211 -0.911126\n",
       "2000-01-06  1.816549  1.213280  1.146233\n",
       "2000-01-07  0.259592 -0.533768 -1.015491\n",
       "2000-01-08  0.138186  0.584892 -0.619871"
      ]
     },
     "execution_count": 27,
     "metadata": {},
     "output_type": "execute_result"
    }
   ],
   "source": [
    "df"
   ]
  },
  {
   "cell_type": "markdown",
   "metadata": {},
   "source": [
    "### Listar todas las variables (globales) en el notebook"
   ]
  },
  {
   "cell_type": "code",
   "execution_count": 28,
   "metadata": {},
   "outputs": [],
   "source": [
    "import random"
   ]
  },
  {
   "cell_type": "code",
   "execution_count": 29,
   "metadata": {},
   "outputs": [],
   "source": [
    "x = random.randint(1,10)"
   ]
  },
  {
   "cell_type": "code",
   "execution_count": 30,
   "metadata": {},
   "outputs": [],
   "source": [
    "y = random.randint(11,20)"
   ]
  },
  {
   "cell_type": "code",
   "execution_count": 31,
   "metadata": {},
   "outputs": [
    {
     "name": "stdout",
     "output_type": "stream",
     "text": [
      "append_if_not_exists\t df\t funciones\t numpy\t pick_and_take\t plt\t random\t some_useless_slow_function\t x\t \n",
      "y\t \n"
     ]
    }
   ],
   "source": [
    "%who"
   ]
  },
  {
   "cell_type": "code",
   "execution_count": 32,
   "metadata": {
    "collapsed": true
   },
   "outputs": [
    {
     "data": {
      "text/plain": [
       "{'Apple_PubSub_Socket_Render': '/private/tmp/com.apple.launchd.6flwsHPHS2/Render',\n",
       " 'CLICOLOR': '1',\n",
       " 'GIT_PAGER': 'cat',\n",
       " 'HOME': '/Users/jpdebotton',\n",
       " 'JPY_PARENT_PID': '99213',\n",
       " 'LC_CTYPE': 'UTF-8',\n",
       " 'LOGNAME': 'jpdebotton',\n",
       " 'MPLBACKEND': 'module://ipykernel.pylab.backend_inline',\n",
       " 'OLDPWD': '/Users/jpdebotton/Documents/GitHub/Data_Analyst_Feb2018/Notebooks',\n",
       " 'PAGER': 'cat',\n",
       " 'PATH': '/Users/jpdebotton/anaconda3/bin:/Users/jpdebotton/anaconda3/bin:/usr/local/bin:/usr/bin:/bin:/usr/sbin:/sbin:/Applications/VMware Fusion.app/Contents/Public',\n",
       " 'PWD': '/Users/jpdebotton/Documents/GitHub/Data_Analyst_Feb2018',\n",
       " 'PYSPARK_DRIVER_PYTHON': 'jupyter',\n",
       " 'PYSPARK_DRIVER_PYTHON_OPTS': 'notebook',\n",
       " 'PYSPARK_PYTHON': 'python3',\n",
       " 'SHELL': '/bin/bash',\n",
       " 'SHLVL': '1',\n",
       " 'SSH_AUTH_SOCK': '/private/tmp/com.apple.launchd.Pr7XomapfY/Listeners',\n",
       " 'TERM': 'xterm-color',\n",
       " 'TERM_PROGRAM': 'Apple_Terminal',\n",
       " 'TERM_PROGRAM_VERSION': '400',\n",
       " 'TERM_SESSION_ID': '35BD2630-68E0-4C3A-8AF0-948BAE6406FF',\n",
       " 'TMPDIR': '/var/folders/c4/72mnw4hd2xs9981dh3y35h600000gn/T/',\n",
       " 'USER': 'jpdebotton',\n",
       " 'XPC_FLAGS': '0x0',\n",
       " 'XPC_SERVICE_NAME': '0',\n",
       " '_': '/Users/jpdebotton/anaconda3/bin/jupyter',\n",
       " '__CF_USER_TEXT_ENCODING': '0x1F5:0x0:0x0'}"
      ]
     },
     "execution_count": 32,
     "metadata": {},
     "output_type": "execute_result"
    }
   ],
   "source": [
    "%env"
   ]
  },
  {
   "cell_type": "markdown",
   "metadata": {
    "collapsed": true
   },
   "source": [
    "### Ejecutar comandos de Shell"
   ]
  },
  {
   "cell_type": "code",
   "execution_count": 33,
   "metadata": {},
   "outputs": [
    {
     "name": "stdout",
     "output_type": "stream",
     "text": [
      "funciones.py   hello-world.py pythoncode.py  var_x_y.py\r\n"
     ]
    }
   ],
   "source": [
    "!ls *.py"
   ]
  },
  {
   "cell_type": "code",
   "execution_count": 34,
   "metadata": {},
   "outputs": [
    {
     "name": "stdout",
     "output_type": "stream",
     "text": [
      "Requirement already satisfied: numpy in /Users/jpdebotton/anaconda3/lib/python3.6/site-packages\n",
      "\u001b[31mDEPRECATION: The default format will switch to columns in the future. You can use --format=(legacy|columns) (or define a format=(legacy|columns) in your pip.conf under the [list] section) to disable this warning.\u001b[0m\n",
      "pandas (0.20.3)\n"
     ]
    }
   ],
   "source": [
    "!pip install numpy\n",
    "!pip list | grep pandas"
   ]
  },
  {
   "cell_type": "code",
   "execution_count": 35,
   "metadata": {},
   "outputs": [
    {
     "name": "stdout",
     "output_type": "stream",
     "text": [
      "a\n",
      "b\n",
      "c\n"
     ]
    }
   ],
   "source": [
    "%%bash\n",
    "for i in a b c\n",
    "do \n",
    "echo $i\n",
    "done"
   ]
  },
  {
   "cell_type": "markdown",
   "metadata": {},
   "source": [
    "### Multiples cursores a la vez: edición cool"
   ]
  },
  {
   "cell_type": "markdown",
   "metadata": {},
   "source": [
    "Utilicemos cmd al tiempo que editamos con el cursor"
   ]
  },
  {
   "cell_type": "code",
   "execution_count": 32,
   "metadata": {},
   "outputs": [
    {
     "name": "stdout",
     "output_type": "stream",
     "text": [
      "Juan Pablo\n",
      "Mariana\n",
      "Sergio\n"
     ]
    }
   ],
   "source": [
    "print('Juan Pablo ')\n",
    "print('Mariana ')\n",
    "print('Sergio')"
   ]
  },
  {
   "cell_type": "code",
   "execution_count": null,
   "metadata": {
    "collapsed": true
   },
   "outputs": [],
   "source": [
    "print('Juan Pablo de Botton')\n",
    "print('Mariana de Botton')\n",
    "print('Sergio de Botton')"
   ]
  },
  {
   "cell_type": "markdown",
   "metadata": {},
   "source": [
    "Reemplacemos el apellido Martinez por Emmert utilizando Esc>F"
   ]
  },
  {
   "cell_type": "code",
   "execution_count": null,
   "metadata": {
    "collapsed": true
   },
   "outputs": [],
   "source": []
  },
  {
   "cell_type": "code",
   "execution_count": null,
   "metadata": {
    "collapsed": true
   },
   "outputs": [],
   "source": []
  },
  {
   "cell_type": "markdown",
   "metadata": {},
   "source": [
    "### Insertar Latex o HTML"
   ]
  },
  {
   "cell_type": "markdown",
   "metadata": {},
   "source": [
    "#### Latex"
   ]
  },
  {
   "cell_type": "markdown",
   "metadata": {},
   "source": [
    "Utilizando doble signo de pesos '$$' podemos insertar código de latex que compilara nuestro Jupyter. Ejemplo:"
   ]
  },
  {
   "cell_type": "code",
   "execution_count": 24,
   "metadata": {},
   "outputs": [
    {
     "data": {
      "text/latex": [
       "Podemos escribir la fórmula para calcular la hipotenusa en línea con el texto $c = \\sqrt{a^2 + b^2}$ \n",
       "o fuera del texto $$c = \\sqrt{a^2 + b^2}$$"
      ],
      "text/plain": [
       "<IPython.core.display.Latex object>"
      ]
     },
     "metadata": {},
     "output_type": "display_data"
    }
   ],
   "source": [
    "%%latex\n",
    "Podemos escribir la fórmula para calcular la hipotenusa en línea con el texto $c = \\sqrt{a^2 + b^2}$ \n",
    "o fuera del texto $$c = \\sqrt{a^2 + b^2}$$"
   ]
  },
  {
   "cell_type": "markdown",
   "metadata": {},
   "source": [
    "#### HTML"
   ]
  },
  {
   "cell_type": "markdown",
   "metadata": {},
   "source": [
    "Los notebooks de Jupyter pueden renderear HTML:"
   ]
  },
  {
   "cell_type": "code",
   "execution_count": 40,
   "metadata": {},
   "outputs": [
    {
     "data": {
      "text/html": [
       "<h4> Jupyter can render HTML! </h1> \n",
       "<p> Fantástico! </p>"
      ],
      "text/plain": [
       "<IPython.core.display.HTML object>"
      ]
     },
     "metadata": {},
     "output_type": "display_data"
    }
   ],
   "source": [
    "%%HTML\n",
    "<h4> Jupyter can render HTML! </h1> \n",
    "<p> Fantástico! </p>"
   ]
  },
  {
   "cell_type": "markdown",
   "metadata": {},
   "source": [
    "<li> Soy un elemento </li>\n",
    "<li> Soy un elemento </li>\n",
    "<li> Soy un elemento </li>\n"
   ]
  },
  {
   "cell_type": "markdown",
   "metadata": {},
   "source": [
    "#### R y otros lenguajes de programación"
   ]
  },
  {
   "cell_type": "markdown",
   "metadata": {},
   "source": [
    "Es importante saber que su Jupyter puede ejecutar comandos en Python2 o algún otro lenguaje siempre y cuando tengan instalado el Kernel. [Aquí](https://www.datacamp.com/community/blog/jupyter-notebook-r) hay un tutorial para instalar los componentes necesarios"
   ]
  },
  {
   "cell_type": "code",
   "execution_count": 37,
   "metadata": {
    "collapsed": true
   },
   "outputs": [
    {
     "name": "stdout",
     "output_type": "stream",
     "text": [
      "Collecting rpy2\n",
      "  Using cached rpy2-2.9.2.tar.gz\n",
      "Requirement already satisfied: six in /Users/jpdebotton/anaconda3/lib/python3.6/site-packages (from rpy2)\n",
      "Requirement already satisfied: jinja2 in /Users/jpdebotton/anaconda3/lib/python3.6/site-packages (from rpy2)\n",
      "Requirement already satisfied: MarkupSafe>=0.23 in /Users/jpdebotton/anaconda3/lib/python3.6/site-packages (from jinja2->rpy2)\n",
      "Building wheels for collected packages: rpy2\n",
      "  Running setup.py bdist_wheel for rpy2 ... \u001b[?25lerror\n",
      "  Complete output from command /Users/jpdebotton/anaconda3/bin/python -u -c \"import setuptools, tokenize;__file__='/private/var/folders/c4/72mnw4hd2xs9981dh3y35h600000gn/T/pip-build-z8n4job4/rpy2/setup.py';f=getattr(tokenize, 'open', open)(__file__);code=f.read().replace('\\r\\n', '\\n');f.close();exec(compile(code, __file__, 'exec'))\" bdist_wheel -d /var/folders/c4/72mnw4hd2xs9981dh3y35h600000gn/T/tmpbb4m4hqqpip-wheel- --python-tag cp36:\n",
      "  R version 3.4.3 (2017-11-30) -- \"Kite-Eating Tree\"\n",
      "  /Library/Frameworks/R.framework/Resources/bin/R CMD config --ldflags\n",
      "  /Library/Frameworks/R.framework/Resources/bin/R CMD config --cppflags\n",
      "  \n",
      "      Compilation parameters for rpy2's C components:\n",
      "          include_dirs    = ['/Library/Frameworks/R.framework/Resources/include']\n",
      "          library_dirs    = ['/usr/local/lib']\n",
      "          libraries       = ['pcre', 'lzma', 'bz2', 'z', 'icucore', 'm', 'iconv']\n",
      "          extra_link_args = ['-fopenmp', '-F/Library/Frameworks/R.framework/..', '-framework', 'R']\n",
      "  \n",
      "  running bdist_wheel\n",
      "  running build\n",
      "  running build_py\n",
      "  creating build\n",
      "  creating build/lib.macosx-10.7-x86_64-3.6\n",
      "  creating build/lib.macosx-10.7-x86_64-3.6/rpy2\n",
      "  copying ./rpy/situation.py -> build/lib.macosx-10.7-x86_64-3.6/rpy2\n",
      "  copying ./rpy/rpy_classic.py -> build/lib.macosx-10.7-x86_64-3.6/rpy2\n",
      "  copying ./rpy/__init__.py -> build/lib.macosx-10.7-x86_64-3.6/rpy2\n",
      "  copying ./rpy/tests.py -> build/lib.macosx-10.7-x86_64-3.6/rpy2\n",
      "  copying ./rpy/tests_rpy_classic.py -> build/lib.macosx-10.7-x86_64-3.6/rpy2\n",
      "  creating build/lib.macosx-10.7-x86_64-3.6/rpy2/rlike\n",
      "  copying ./rpy/rlike/__init__.py -> build/lib.macosx-10.7-x86_64-3.6/rpy2/rlike\n",
      "  copying ./rpy/rlike/container.py -> build/lib.macosx-10.7-x86_64-3.6/rpy2/rlike\n",
      "  copying ./rpy/rlike/functional.py -> build/lib.macosx-10.7-x86_64-3.6/rpy2/rlike\n",
      "  copying ./rpy/rlike/indexing.py -> build/lib.macosx-10.7-x86_64-3.6/rpy2/rlike\n",
      "  creating build/lib.macosx-10.7-x86_64-3.6/rpy2/rlike/tests\n",
      "  copying ./rpy/rlike/tests/test_container.py -> build/lib.macosx-10.7-x86_64-3.6/rpy2/rlike/tests\n",
      "  copying ./rpy/rlike/tests/test_functional.py -> build/lib.macosx-10.7-x86_64-3.6/rpy2/rlike/tests\n",
      "  copying ./rpy/rlike/tests/__init__.py -> build/lib.macosx-10.7-x86_64-3.6/rpy2/rlike/tests\n",
      "  copying ./rpy/rlike/tests/test_indexing.py -> build/lib.macosx-10.7-x86_64-3.6/rpy2/rlike/tests\n",
      "  creating build/lib.macosx-10.7-x86_64-3.6/rpy2/rinterface\n",
      "  copying ./rpy/rinterface/__init__.py -> build/lib.macosx-10.7-x86_64-3.6/rpy2/rinterface\n",
      "  creating build/lib.macosx-10.7-x86_64-3.6/rpy2/rinterface/tests\n",
      "  copying ./rpy/rinterface/tests/test_SexpVector.py -> build/lib.macosx-10.7-x86_64-3.6/rpy2/rinterface/tests\n",
      "  copying ./rpy/rinterface/tests/test_SexpEnvironment.py -> build/lib.macosx-10.7-x86_64-3.6/rpy2/rinterface/tests\n",
      "  copying ./rpy/rinterface/tests/test_SexpSymbol.py -> build/lib.macosx-10.7-x86_64-3.6/rpy2/rinterface/tests\n",
      "  copying ./rpy/rinterface/tests/__init__.py -> build/lib.macosx-10.7-x86_64-3.6/rpy2/rinterface/tests\n",
      "  copying ./rpy/rinterface/tests/test_SexpVectorNumeric.py -> build/lib.macosx-10.7-x86_64-3.6/rpy2/rinterface/tests\n",
      "  copying ./rpy/rinterface/tests/test_SexpClosure.py -> build/lib.macosx-10.7-x86_64-3.6/rpy2/rinterface/tests\n",
      "  copying ./rpy/rinterface/tests/test_SexpExtPtr.py -> build/lib.macosx-10.7-x86_64-3.6/rpy2/rinterface/tests\n",
      "  copying ./rpy/rinterface/tests/test_Device.py -> build/lib.macosx-10.7-x86_64-3.6/rpy2/rinterface/tests\n",
      "  copying ./rpy/rinterface/tests/test_EmbeddedR.py -> build/lib.macosx-10.7-x86_64-3.6/rpy2/rinterface/tests\n",
      "  copying ./rpy/rinterface/tests/test_Sexp.py -> build/lib.macosx-10.7-x86_64-3.6/rpy2/rinterface/tests\n",
      "  creating build/lib.macosx-10.7-x86_64-3.6/rpy2/robjects\n",
      "  copying ./rpy/robjects/functions.py -> build/lib.macosx-10.7-x86_64-3.6/rpy2/robjects\n",
      "  copying ./rpy/robjects/vectors.py -> build/lib.macosx-10.7-x86_64-3.6/rpy2/robjects\n",
      "  copying ./rpy/robjects/numpy2ri.py -> build/lib.macosx-10.7-x86_64-3.6/rpy2/robjects\n",
      "  copying ./rpy/robjects/methods.py -> build/lib.macosx-10.7-x86_64-3.6/rpy2/robjects\n",
      "  copying ./rpy/robjects/constants.py -> build/lib.macosx-10.7-x86_64-3.6/rpy2/robjects\n",
      "  copying ./rpy/robjects/conversion.py -> build/lib.macosx-10.7-x86_64-3.6/rpy2/robjects\n",
      "  copying ./rpy/robjects/packages_utils.py -> build/lib.macosx-10.7-x86_64-3.6/rpy2/robjects\n",
      "  copying ./rpy/robjects/__init__.py -> build/lib.macosx-10.7-x86_64-3.6/rpy2/robjects\n",
      "  copying ./rpy/robjects/pandas2ri.py -> build/lib.macosx-10.7-x86_64-3.6/rpy2/robjects\n",
      "  copying ./rpy/robjects/packages.py -> build/lib.macosx-10.7-x86_64-3.6/rpy2/robjects\n",
      "  copying ./rpy/robjects/language.py -> build/lib.macosx-10.7-x86_64-3.6/rpy2/robjects\n",
      "  copying ./rpy/robjects/environments.py -> build/lib.macosx-10.7-x86_64-3.6/rpy2/robjects\n",
      "  copying ./rpy/robjects/help.py -> build/lib.macosx-10.7-x86_64-3.6/rpy2/robjects\n",
      "  copying ./rpy/robjects/robject.py -> build/lib.macosx-10.7-x86_64-3.6/rpy2/robjects\n",
      "  creating build/lib.macosx-10.7-x86_64-3.6/rpy2/robjects/tests\n",
      "  copying ./rpy/robjects/tests/testArray.py -> build/lib.macosx-10.7-x86_64-3.6/rpy2/robjects/tests\n",
      "  copying ./rpy/robjects/tests/testEnvironment.py -> build/lib.macosx-10.7-x86_64-3.6/rpy2/robjects/tests\n",
      "  copying ./rpy/robjects/tests/testRobjects.py -> build/lib.macosx-10.7-x86_64-3.6/rpy2/robjects/tests\n",
      "  copying ./rpy/robjects/tests/testDataFrame.py -> build/lib.macosx-10.7-x86_64-3.6/rpy2/robjects/tests\n",
      "  copying ./rpy/robjects/tests/testMethods.py -> build/lib.macosx-10.7-x86_64-3.6/rpy2/robjects/tests\n",
      "  copying ./rpy/robjects/tests/testFormula.py -> build/lib.macosx-10.7-x86_64-3.6/rpy2/robjects/tests\n",
      "  copying ./rpy/robjects/tests/testHelp.py -> build/lib.macosx-10.7-x86_64-3.6/rpy2/robjects/tests\n",
      "  copying ./rpy/robjects/tests/testPackages.py -> build/lib.macosx-10.7-x86_64-3.6/rpy2/robjects/tests\n",
      "  copying ./rpy/robjects/tests/testNumpyConversions.py -> build/lib.macosx-10.7-x86_64-3.6/rpy2/robjects/tests\n",
      "  copying ./rpy/robjects/tests/testPandasConversions.py -> build/lib.macosx-10.7-x86_64-3.6/rpy2/robjects/tests\n",
      "  copying ./rpy/robjects/tests/__init__.py -> build/lib.macosx-10.7-x86_64-3.6/rpy2/robjects/tests\n",
      "  copying ./rpy/robjects/tests/testRObject.py -> build/lib.macosx-10.7-x86_64-3.6/rpy2/robjects/tests\n",
      "  copying ./rpy/robjects/tests/testLanguage.py -> build/lib.macosx-10.7-x86_64-3.6/rpy2/robjects/tests\n",
      "  copying ./rpy/robjects/tests/testVector.py -> build/lib.macosx-10.7-x86_64-3.6/rpy2/robjects/tests\n",
      "  copying ./rpy/robjects/tests/testFunction.py -> build/lib.macosx-10.7-x86_64-3.6/rpy2/robjects/tests\n",
      "  creating build/lib.macosx-10.7-x86_64-3.6/rpy2/robjects/lib\n",
      "  copying ./rpy/robjects/lib/grid.py -> build/lib.macosx-10.7-x86_64-3.6/rpy2/robjects/lib\n",
      "  copying ./rpy/robjects/lib/tidyr.py -> build/lib.macosx-10.7-x86_64-3.6/rpy2/robjects/lib\n",
      "  copying ./rpy/robjects/lib/test_dplyr.py -> build/lib.macosx-10.7-x86_64-3.6/rpy2/robjects/lib\n",
      "  copying ./rpy/robjects/lib/ggplot2.py -> build/lib.macosx-10.7-x86_64-3.6/rpy2/robjects/lib\n",
      "  copying ./rpy/robjects/lib/__init__.py -> build/lib.macosx-10.7-x86_64-3.6/rpy2/robjects/lib\n",
      "  copying ./rpy/robjects/lib/grdevices.py -> build/lib.macosx-10.7-x86_64-3.6/rpy2/robjects/lib\n",
      "  copying ./rpy/robjects/lib/dbplyr.py -> build/lib.macosx-10.7-x86_64-3.6/rpy2/robjects/lib\n",
      "  copying ./rpy/robjects/lib/dplyr.py -> build/lib.macosx-10.7-x86_64-3.6/rpy2/robjects/lib\n",
      "  creating build/lib.macosx-10.7-x86_64-3.6/rpy2/robjects/lib/tests\n",
      "  copying ./rpy/robjects/lib/tests/test_grdevices.py -> build/lib.macosx-10.7-x86_64-3.6/rpy2/robjects/lib/tests\n",
      "  copying ./rpy/robjects/lib/tests/test_ggplot2.py -> build/lib.macosx-10.7-x86_64-3.6/rpy2/robjects/lib/tests\n",
      "  copying ./rpy/robjects/lib/tests/test_dplyr.py -> build/lib.macosx-10.7-x86_64-3.6/rpy2/robjects/lib/tests\n",
      "  copying ./rpy/robjects/lib/tests/__init__.py -> build/lib.macosx-10.7-x86_64-3.6/rpy2/robjects/lib/tests\n",
      "  creating build/lib.macosx-10.7-x86_64-3.6/rpy2/interactive\n",
      "  copying ./rpy/interactive/__init__.py -> build/lib.macosx-10.7-x86_64-3.6/rpy2/interactive\n",
      "  copying ./rpy/interactive/packages.py -> build/lib.macosx-10.7-x86_64-3.6/rpy2/interactive\n",
      "  copying ./rpy/interactive/process_revents.py -> build/lib.macosx-10.7-x86_64-3.6/rpy2/interactive\n",
      "  creating build/lib.macosx-10.7-x86_64-3.6/rpy2/interactive/tests\n",
      "  copying ./rpy/interactive/tests/__init__.py -> build/lib.macosx-10.7-x86_64-3.6/rpy2/interactive/tests\n",
      "  creating build/lib.macosx-10.7-x86_64-3.6/rpy2/ipython\n",
      "  copying ./rpy/ipython/rmagic.py -> build/lib.macosx-10.7-x86_64-3.6/rpy2/ipython\n",
      "  copying ./rpy/ipython/html.py -> build/lib.macosx-10.7-x86_64-3.6/rpy2/ipython\n",
      "  copying ./rpy/ipython/__init__.py -> build/lib.macosx-10.7-x86_64-3.6/rpy2/ipython\n",
      "  copying ./rpy/ipython/ggplot.py -> build/lib.macosx-10.7-x86_64-3.6/rpy2/ipython\n",
      "  creating build/lib.macosx-10.7-x86_64-3.6/rpy2/ipython/tests\n",
      "  copying ./rpy/ipython/tests/__init__.py -> build/lib.macosx-10.7-x86_64-3.6/rpy2/ipython/tests\n",
      "  copying ./rpy/ipython/tests/test_rmagic.py -> build/lib.macosx-10.7-x86_64-3.6/rpy2/ipython/tests\n",
      "  running build_clib\n",
      "  building 'r_utils' library\n",
      "  creating build/temp.macosx-10.7-x86_64-3.6\n",
      "  creating build/temp.macosx-10.7-x86_64-3.6/rpy\n",
      "  creating build/temp.macosx-10.7-x86_64-3.6/rpy/rinterface\n",
      "  gcc -Wno-unused-result -Wsign-compare -Wunreachable-code -DNDEBUG -g -fwrapv -O3 -Wall -Wstrict-prototypes -I/Users/jpdebotton/anaconda3/include -arch x86_64 -I/Users/jpdebotton/anaconda3/include -arch x86_64 -I./rpy/rinterface -I/Library/Frameworks/R.framework/Resources/include -c ./rpy/rinterface/r_utils.c -o build/temp.macosx-10.7-x86_64-3.6/./rpy/rinterface/r_utils.o\n",
      "  In file included from ./rpy/rinterface/r_utils.c:24:\n",
      "  In file included from /Library/Frameworks/R.framework/Resources/include/Rdefines.h:36:\n",
      "  /Library/Frameworks/R.framework/Resources/include/R_ext/Memory.h:48:17: warning: this function declaration is not a prototype [-Wstrict-prototypes]\n",
      "  int     R_gc_running();\n",
      "                      ^\n",
      "                       void\n",
      "  In file included from ./rpy/rinterface/r_utils.c:24:\n",
      "  In file included from /Library/Frameworks/R.framework/Resources/include/Rdefines.h:40:\n",
      "  In file included from /Library/Frameworks/R.framework/Resources/include/Rinternals.h:51:\n",
      "  /Library/Frameworks/R.framework/Resources/include/R_ext/Rdynload.h:38:26: warning: this function declaration is not a prototype [-Wstrict-prototypes]\n",
      "  typedef void * (*DL_FUNC)();\n",
      "                           ^\n",
      "                            void\n",
      "  In file included from ./rpy/rinterface/r_utils.c:24:\n",
      "  In file included from /Library/Frameworks/R.framework/Resources/include/Rdefines.h:40:\n",
      "  /Library/Frameworks/R.framework/Resources/include/Rinternals.h:919:26: warning: this function declaration is not a prototype [-Wstrict-prototypes]\n",
      "  const char *R_curErrorBuf();\n",
      "                           ^\n",
      "                            void\n",
      "  3 warnings generated.\n",
      "  ar rc build/temp.macosx-10.7-x86_64-3.6/libr_utils.a build/temp.macosx-10.7-x86_64-3.6/./rpy/rinterface/r_utils.o\n",
      "  ranlib build/temp.macosx-10.7-x86_64-3.6/libr_utils.a\n",
      "  running build_ext\n",
      "  R version 3.4.3 (2017-11-30) -- \"Kite-Eating Tree\"\n",
      "  building 'rpy2.rinterface._rinterface' extension\n",
      "  gcc -Wno-unused-result -Wsign-compare -Wunreachable-code -DNDEBUG -g -fwrapv -O3 -Wall -Wstrict-prototypes -I/Users/jpdebotton/anaconda3/include -arch x86_64 -I/Users/jpdebotton/anaconda3/include -arch x86_64 -DR_INTERFACE_PTRS=1 -DHAVE_POSIX_SIGJMP=1 -DRIF_HAS_RSIGHAND=1 -DCSTACK_DEFNS=1 -DHAS_READLINE=1 -I./rpy/rinterface -I/Library/Frameworks/R.framework/Resources/include -I/Users/jpdebotton/anaconda3/include/python3.6m -c ./rpy/rinterface/_rinterface.c -o build/temp.macosx-10.7-x86_64-3.6/./rpy/rinterface/_rinterface.o\n",
      "  In file included from ./rpy/rinterface/_rinterface.c:52:\n",
      "  In file included from ./rpy/rinterface/_rinterface.h:8:\n",
      "  In file included from /Library/Frameworks/R.framework/Resources/include/R.h:87:\n",
      "  /Library/Frameworks/R.framework/Resources/include/R_ext/Memory.h:48:17: warning: this function declaration is not a prototype [-Wstrict-prototypes]\n",
      "  int     R_gc_running();\n",
      "                      ^\n",
      "                       void\n",
      "  In file included from ./rpy/rinterface/_rinterface.c:52:\n",
      "  In file included from ./rpy/rinterface/_rinterface.h:9:\n",
      "  In file included from /Library/Frameworks/R.framework/Resources/include/Rinternals.h:51:\n",
      "  /Library/Frameworks/R.framework/Resources/include/R_ext/Rdynload.h:38:26: warning: this function declaration is not a prototype [-Wstrict-prototypes]\n",
      "  typedef void * (*DL_FUNC)();\n",
      "                           ^\n",
      "                            void\n",
      "  In file included from ./rpy/rinterface/_rinterface.c:52:\n",
      "  In file included from ./rpy/rinterface/_rinterface.h:9:\n",
      "  /Library/Frameworks/R.framework/Resources/include/Rinternals.h:919:26: warning: this function declaration is not a prototype [-Wstrict-prototypes]\n",
      "  const char *R_curErrorBuf();\n",
      "                           ^\n",
      "                            void\n",
      "  In file included from ./rpy/rinterface/_rinterface.c:64:\n",
      "  /Library/Frameworks/R.framework/Resources/include/Rinterface.h:157:35: warning: this function declaration is not a prototype [-Wstrict-prototypes]\n",
      "  extern void (*ptr_R_ProcessEvents)();\n",
      "                                    ^\n",
      "                                     void\n",
      "  In file included from ./rpy/rinterface/_rinterface.c:80:\n",
      "  In file included from /Users/jpdebotton/anaconda3/include/readline/readline.h:36:\n",
      "  /Users/jpdebotton/anaconda3/include/readline/rltypedefs.h:35:22: warning: this function declaration is not a prototype [-Wstrict-prototypes]\n",
      "  typedef int Function () __attribute__ ((deprecated));\n",
      "                       ^\n",
      "                        void\n",
      "  /Users/jpdebotton/anaconda3/include/readline/rltypedefs.h:36:24: warning: this function declaration is not a prototype [-Wstrict-prototypes]\n",
      "  typedef void VFunction () __attribute__ ((deprecated));\n",
      "                         ^\n",
      "                          void\n",
      "  /Users/jpdebotton/anaconda3/include/readline/rltypedefs.h:37:26: warning: this function declaration is not a prototype [-Wstrict-prototypes]\n",
      "  typedef char *CPFunction () __attribute__ ((deprecated));\n",
      "                           ^\n",
      "                            void\n",
      "  /Users/jpdebotton/anaconda3/include/readline/rltypedefs.h:38:28: warning: this function declaration is not a prototype [-Wstrict-prototypes]\n",
      "  typedef char **CPPFunction () __attribute__ ((deprecated));\n",
      "                             ^\n",
      "                              void\n",
      "  In file included from ./rpy/rinterface/_rinterface.c:80:\n",
      "  /Users/jpdebotton/anaconda3/include/readline/readline.h:390:23: warning: this function declaration is not a prototype [-Wstrict-prototypes]\n",
      "  extern int rl_message ();\n",
      "                        ^\n",
      "                         void\n",
      "  In file included from ./rpy/rinterface/_rinterface.c:94:\n",
      "  ./rpy/rinterface/embeddedr.h:6:27: warning: duplicate 'const' declaration specifier [-Wduplicate-decl-specifier]\n",
      "  extern const unsigned int const RPY_R_INITIALIZED;\n",
      "                            ^\n",
      "  ./rpy/rinterface/embeddedr.h:7:27: warning: duplicate 'const' declaration specifier [-Wduplicate-decl-specifier]\n",
      "  extern const unsigned int const RPY_R_BUSY;\n",
      "                            ^\n",
      "  In file included from ./rpy/rinterface/_rinterface.c:112:\n",
      "  ./rpy/rinterface/embeddedr.c:5:20: warning: duplicate 'const' declaration specifier [-Wduplicate-decl-specifier]\n",
      "  const unsigned int const RPY_R_INITIALIZED = 0x01;\n",
      "                     ^\n",
      "  ./rpy/rinterface/embeddedr.c:6:20: warning: duplicate 'const' declaration specifier [-Wduplicate-decl-specifier]\n",
      "  const unsigned int const RPY_R_BUSY = 0x02;\n",
      "                     ^\n",
      "  ./rpy/rinterface/embeddedr.c:48:12: warning: unused variable 'res' [-Wunused-variable]\n",
      "        SEXP res = rpy2_remove(Rf_mkString(name_buf),\n",
      "             ^\n",
      "  In file included from ./rpy/rinterface/_rinterface.c:115:\n",
      "  ./rpy/rinterface/sexp.c:679:13: warning: unused variable 'copy' [-Wunused-variable]\n",
      "    PyObject *copy = Py_True;\n",
      "              ^\n",
      "  ./rpy/rinterface/_rinterface.c:1719:21: warning: incompatible pointer types assigning to 'const char *' from 'SEXP' (aka 'struct SEXPREC *') [-Wincompatible-pointer-types]\n",
      "        argNameString = Rf_mkCharCE(PyBytes_AsString(pybytes), CE_UTF8);\n",
      "                      ^ ~~~~~~~~~~~~~~~~~~~~~~~~~~~~~~~~~~~~~~~~~~~~~~~\n",
      "  ./rpy/rinterface/_rinterface.c:1720:32: warning: incompatible pointer types passing 'const char *' to parameter of type 'SEXP' (aka 'struct SEXPREC *') [-Wincompatible-pointer-types]\n",
      "        SET_TAG(c_R, installChar(argNameString));\n",
      "                                 ^~~~~~~~~~~~~\n",
      "  /Library/Frameworks/R.framework/Resources/include/Rinternals.h:855:25: note: passing argument to parameter here\n",
      "  SEXP Rf_installChar(SEXP);\n",
      "                          ^\n",
      "  In file included from ./rpy/rinterface/_rinterface.c:52:\n",
      "  ./rpy/rinterface/_rinterface.h:194:44: warning: unused function 'PyRinterface_IsInitialized' [-Wunused-function]\n",
      "    static PyRinterface_IsInitialized_RETURN PyRinterface_IsInitialized PyRinterface_IsInitialized_PROTO;\n",
      "                                             ^\n",
      "  ./rpy/rinterface/_rinterface.h:195:38: warning: unused function 'PyRinterface_FindFun' [-Wunused-function]\n",
      "    static PyRinterface_FindFun_RETURN PyRinterface_FindFun PyRinterface_FindFun_PROTO;\n",
      "                                       ^\n",
      "  In file included from ./rpy/rinterface/_rinterface.c:118:\n",
      "  ./rpy/rinterface/sequence.c:1986:1: warning: unused function 'ComplexVectorSexp_AsSexp' [-Wunused-function]\n",
      "  ComplexVectorSexp_AsSexp(PyObject *pyfloat) {\n",
      "  ^\n",
      "  20 warnings generated.\n",
      "  gcc -bundle -undefined dynamic_lookup -L/Users/jpdebotton/anaconda3/lib -arch x86_64 -L/Users/jpdebotton/anaconda3/lib -arch x86_64 -arch x86_64 build/temp.macosx-10.7-x86_64-3.6/./rpy/rinterface/_rinterface.o -L/usr/local/lib -L/Users/jpdebotton/anaconda3/lib -Lbuild/temp.macosx-10.7-x86_64-3.6 -L/usr/local/lib -lpcre -llzma -lbz2 -lz -licucore -lm -liconv -lr_utils -o build/lib.macosx-10.7-x86_64-3.6/rpy2/rinterface/_rinterface.cpython-36m-darwin.so -fopenmp -F/Library/Frameworks/R.framework/.. -framework R\n",
      "  clang: error: unsupported option '-fopenmp'\n",
      "  error: command 'gcc' failed with exit status 1\n",
      "  \n",
      "  ----------------------------------------\n",
      "\u001b[31m  Failed building wheel for rpy2\u001b[0m\n",
      "\u001b[?25h  Running setup.py clean for rpy2\n"
     ]
    },
    {
     "name": "stdout",
     "output_type": "stream",
     "text": [
      "Failed to build rpy2\n",
      "Installing collected packages: rpy2\n",
      "  Running setup.py install for rpy2 ... \u001b[?25lerror\n",
      "    Complete output from command /Users/jpdebotton/anaconda3/bin/python -u -c \"import setuptools, tokenize;__file__='/private/var/folders/c4/72mnw4hd2xs9981dh3y35h600000gn/T/pip-build-z8n4job4/rpy2/setup.py';f=getattr(tokenize, 'open', open)(__file__);code=f.read().replace('\\r\\n', '\\n');f.close();exec(compile(code, __file__, 'exec'))\" install --record /var/folders/c4/72mnw4hd2xs9981dh3y35h600000gn/T/pip-0xh5ujmt-record/install-record.txt --single-version-externally-managed --compile:\n",
      "    R version 3.4.3 (2017-11-30) -- \"Kite-Eating Tree\"\n",
      "    /Library/Frameworks/R.framework/Resources/bin/R CMD config --ldflags\n",
      "    /Library/Frameworks/R.framework/Resources/bin/R CMD config --cppflags\n",
      "    \n",
      "        Compilation parameters for rpy2's C components:\n",
      "            include_dirs    = ['/Library/Frameworks/R.framework/Resources/include']\n",
      "            library_dirs    = ['/usr/local/lib']\n",
      "            libraries       = ['pcre', 'lzma', 'bz2', 'z', 'icucore', 'm', 'iconv']\n",
      "            extra_link_args = ['-fopenmp', '-F/Library/Frameworks/R.framework/..', '-framework', 'R']\n",
      "    \n",
      "    running install\n",
      "    running build\n",
      "    running build_py\n",
      "    creating build\n",
      "    creating build/lib.macosx-10.7-x86_64-3.6\n",
      "    creating build/lib.macosx-10.7-x86_64-3.6/rpy2\n",
      "    copying ./rpy/situation.py -> build/lib.macosx-10.7-x86_64-3.6/rpy2\n",
      "    copying ./rpy/rpy_classic.py -> build/lib.macosx-10.7-x86_64-3.6/rpy2\n",
      "    copying ./rpy/__init__.py -> build/lib.macosx-10.7-x86_64-3.6/rpy2\n",
      "    copying ./rpy/tests.py -> build/lib.macosx-10.7-x86_64-3.6/rpy2\n",
      "    copying ./rpy/tests_rpy_classic.py -> build/lib.macosx-10.7-x86_64-3.6/rpy2\n",
      "    creating build/lib.macosx-10.7-x86_64-3.6/rpy2/rlike\n",
      "    copying ./rpy/rlike/__init__.py -> build/lib.macosx-10.7-x86_64-3.6/rpy2/rlike\n",
      "    copying ./rpy/rlike/container.py -> build/lib.macosx-10.7-x86_64-3.6/rpy2/rlike\n",
      "    copying ./rpy/rlike/functional.py -> build/lib.macosx-10.7-x86_64-3.6/rpy2/rlike\n",
      "    copying ./rpy/rlike/indexing.py -> build/lib.macosx-10.7-x86_64-3.6/rpy2/rlike\n",
      "    creating build/lib.macosx-10.7-x86_64-3.6/rpy2/rlike/tests\n",
      "    copying ./rpy/rlike/tests/test_container.py -> build/lib.macosx-10.7-x86_64-3.6/rpy2/rlike/tests\n",
      "    copying ./rpy/rlike/tests/test_functional.py -> build/lib.macosx-10.7-x86_64-3.6/rpy2/rlike/tests\n",
      "    copying ./rpy/rlike/tests/__init__.py -> build/lib.macosx-10.7-x86_64-3.6/rpy2/rlike/tests\n",
      "    copying ./rpy/rlike/tests/test_indexing.py -> build/lib.macosx-10.7-x86_64-3.6/rpy2/rlike/tests\n",
      "    creating build/lib.macosx-10.7-x86_64-3.6/rpy2/rinterface\n",
      "    copying ./rpy/rinterface/__init__.py -> build/lib.macosx-10.7-x86_64-3.6/rpy2/rinterface\n",
      "    creating build/lib.macosx-10.7-x86_64-3.6/rpy2/rinterface/tests\n",
      "    copying ./rpy/rinterface/tests/test_SexpVector.py -> build/lib.macosx-10.7-x86_64-3.6/rpy2/rinterface/tests\n",
      "    copying ./rpy/rinterface/tests/test_SexpEnvironment.py -> build/lib.macosx-10.7-x86_64-3.6/rpy2/rinterface/tests\n",
      "    copying ./rpy/rinterface/tests/test_SexpSymbol.py -> build/lib.macosx-10.7-x86_64-3.6/rpy2/rinterface/tests\n",
      "    copying ./rpy/rinterface/tests/__init__.py -> build/lib.macosx-10.7-x86_64-3.6/rpy2/rinterface/tests\n",
      "    copying ./rpy/rinterface/tests/test_SexpVectorNumeric.py -> build/lib.macosx-10.7-x86_64-3.6/rpy2/rinterface/tests\n",
      "    copying ./rpy/rinterface/tests/test_SexpClosure.py -> build/lib.macosx-10.7-x86_64-3.6/rpy2/rinterface/tests\n",
      "    copying ./rpy/rinterface/tests/test_SexpExtPtr.py -> build/lib.macosx-10.7-x86_64-3.6/rpy2/rinterface/tests\n",
      "    copying ./rpy/rinterface/tests/test_Device.py -> build/lib.macosx-10.7-x86_64-3.6/rpy2/rinterface/tests\n",
      "    copying ./rpy/rinterface/tests/test_EmbeddedR.py -> build/lib.macosx-10.7-x86_64-3.6/rpy2/rinterface/tests\n",
      "    copying ./rpy/rinterface/tests/test_Sexp.py -> build/lib.macosx-10.7-x86_64-3.6/rpy2/rinterface/tests\n",
      "    creating build/lib.macosx-10.7-x86_64-3.6/rpy2/robjects\n",
      "    copying ./rpy/robjects/functions.py -> build/lib.macosx-10.7-x86_64-3.6/rpy2/robjects\n",
      "    copying ./rpy/robjects/vectors.py -> build/lib.macosx-10.7-x86_64-3.6/rpy2/robjects\n",
      "    copying ./rpy/robjects/numpy2ri.py -> build/lib.macosx-10.7-x86_64-3.6/rpy2/robjects\n",
      "    copying ./rpy/robjects/methods.py -> build/lib.macosx-10.7-x86_64-3.6/rpy2/robjects\n",
      "    copying ./rpy/robjects/constants.py -> build/lib.macosx-10.7-x86_64-3.6/rpy2/robjects\n",
      "    copying ./rpy/robjects/conversion.py -> build/lib.macosx-10.7-x86_64-3.6/rpy2/robjects\n",
      "    copying ./rpy/robjects/packages_utils.py -> build/lib.macosx-10.7-x86_64-3.6/rpy2/robjects\n",
      "    copying ./rpy/robjects/__init__.py -> build/lib.macosx-10.7-x86_64-3.6/rpy2/robjects\n",
      "    copying ./rpy/robjects/pandas2ri.py -> build/lib.macosx-10.7-x86_64-3.6/rpy2/robjects\n",
      "    copying ./rpy/robjects/packages.py -> build/lib.macosx-10.7-x86_64-3.6/rpy2/robjects\n",
      "    copying ./rpy/robjects/language.py -> build/lib.macosx-10.7-x86_64-3.6/rpy2/robjects\n",
      "    copying ./rpy/robjects/environments.py -> build/lib.macosx-10.7-x86_64-3.6/rpy2/robjects\n",
      "    copying ./rpy/robjects/help.py -> build/lib.macosx-10.7-x86_64-3.6/rpy2/robjects\n",
      "    copying ./rpy/robjects/robject.py -> build/lib.macosx-10.7-x86_64-3.6/rpy2/robjects\n",
      "    creating build/lib.macosx-10.7-x86_64-3.6/rpy2/robjects/tests\n",
      "    copying ./rpy/robjects/tests/testArray.py -> build/lib.macosx-10.7-x86_64-3.6/rpy2/robjects/tests\n",
      "    copying ./rpy/robjects/tests/testEnvironment.py -> build/lib.macosx-10.7-x86_64-3.6/rpy2/robjects/tests\n",
      "    copying ./rpy/robjects/tests/testRobjects.py -> build/lib.macosx-10.7-x86_64-3.6/rpy2/robjects/tests\n",
      "    copying ./rpy/robjects/tests/testDataFrame.py -> build/lib.macosx-10.7-x86_64-3.6/rpy2/robjects/tests\n",
      "    copying ./rpy/robjects/tests/testMethods.py -> build/lib.macosx-10.7-x86_64-3.6/rpy2/robjects/tests\n",
      "    copying ./rpy/robjects/tests/testFormula.py -> build/lib.macosx-10.7-x86_64-3.6/rpy2/robjects/tests\n",
      "    copying ./rpy/robjects/tests/testHelp.py -> build/lib.macosx-10.7-x86_64-3.6/rpy2/robjects/tests\n",
      "    copying ./rpy/robjects/tests/testPackages.py -> build/lib.macosx-10.7-x86_64-3.6/rpy2/robjects/tests\n",
      "    copying ./rpy/robjects/tests/testNumpyConversions.py -> build/lib.macosx-10.7-x86_64-3.6/rpy2/robjects/tests\n",
      "    copying ./rpy/robjects/tests/testPandasConversions.py -> build/lib.macosx-10.7-x86_64-3.6/rpy2/robjects/tests\n",
      "    copying ./rpy/robjects/tests/__init__.py -> build/lib.macosx-10.7-x86_64-3.6/rpy2/robjects/tests\n",
      "    copying ./rpy/robjects/tests/testRObject.py -> build/lib.macosx-10.7-x86_64-3.6/rpy2/robjects/tests\n",
      "    copying ./rpy/robjects/tests/testLanguage.py -> build/lib.macosx-10.7-x86_64-3.6/rpy2/robjects/tests\n",
      "    copying ./rpy/robjects/tests/testVector.py -> build/lib.macosx-10.7-x86_64-3.6/rpy2/robjects/tests\n",
      "    copying ./rpy/robjects/tests/testFunction.py -> build/lib.macosx-10.7-x86_64-3.6/rpy2/robjects/tests\n",
      "    creating build/lib.macosx-10.7-x86_64-3.6/rpy2/robjects/lib\n",
      "    copying ./rpy/robjects/lib/grid.py -> build/lib.macosx-10.7-x86_64-3.6/rpy2/robjects/lib\n",
      "    copying ./rpy/robjects/lib/tidyr.py -> build/lib.macosx-10.7-x86_64-3.6/rpy2/robjects/lib\n",
      "    copying ./rpy/robjects/lib/test_dplyr.py -> build/lib.macosx-10.7-x86_64-3.6/rpy2/robjects/lib\n",
      "    copying ./rpy/robjects/lib/ggplot2.py -> build/lib.macosx-10.7-x86_64-3.6/rpy2/robjects/lib\n",
      "    copying ./rpy/robjects/lib/__init__.py -> build/lib.macosx-10.7-x86_64-3.6/rpy2/robjects/lib\n",
      "    copying ./rpy/robjects/lib/grdevices.py -> build/lib.macosx-10.7-x86_64-3.6/rpy2/robjects/lib\n",
      "    copying ./rpy/robjects/lib/dbplyr.py -> build/lib.macosx-10.7-x86_64-3.6/rpy2/robjects/lib\n",
      "    copying ./rpy/robjects/lib/dplyr.py -> build/lib.macosx-10.7-x86_64-3.6/rpy2/robjects/lib\n",
      "    creating build/lib.macosx-10.7-x86_64-3.6/rpy2/robjects/lib/tests\n",
      "    copying ./rpy/robjects/lib/tests/test_grdevices.py -> build/lib.macosx-10.7-x86_64-3.6/rpy2/robjects/lib/tests\n",
      "    copying ./rpy/robjects/lib/tests/test_ggplot2.py -> build/lib.macosx-10.7-x86_64-3.6/rpy2/robjects/lib/tests\n",
      "    copying ./rpy/robjects/lib/tests/test_dplyr.py -> build/lib.macosx-10.7-x86_64-3.6/rpy2/robjects/lib/tests\n",
      "    copying ./rpy/robjects/lib/tests/__init__.py -> build/lib.macosx-10.7-x86_64-3.6/rpy2/robjects/lib/tests\n",
      "    creating build/lib.macosx-10.7-x86_64-3.6/rpy2/interactive\n",
      "    copying ./rpy/interactive/__init__.py -> build/lib.macosx-10.7-x86_64-3.6/rpy2/interactive\n",
      "    copying ./rpy/interactive/packages.py -> build/lib.macosx-10.7-x86_64-3.6/rpy2/interactive\n",
      "    copying ./rpy/interactive/process_revents.py -> build/lib.macosx-10.7-x86_64-3.6/rpy2/interactive\n",
      "    creating build/lib.macosx-10.7-x86_64-3.6/rpy2/interactive/tests\n",
      "    copying ./rpy/interactive/tests/__init__.py -> build/lib.macosx-10.7-x86_64-3.6/rpy2/interactive/tests\n",
      "    creating build/lib.macosx-10.7-x86_64-3.6/rpy2/ipython\n",
      "    copying ./rpy/ipython/rmagic.py -> build/lib.macosx-10.7-x86_64-3.6/rpy2/ipython\n",
      "    copying ./rpy/ipython/html.py -> build/lib.macosx-10.7-x86_64-3.6/rpy2/ipython\n",
      "    copying ./rpy/ipython/__init__.py -> build/lib.macosx-10.7-x86_64-3.6/rpy2/ipython\n",
      "    copying ./rpy/ipython/ggplot.py -> build/lib.macosx-10.7-x86_64-3.6/rpy2/ipython\n",
      "    creating build/lib.macosx-10.7-x86_64-3.6/rpy2/ipython/tests\n",
      "    copying ./rpy/ipython/tests/__init__.py -> build/lib.macosx-10.7-x86_64-3.6/rpy2/ipython/tests\n",
      "    copying ./rpy/ipython/tests/test_rmagic.py -> build/lib.macosx-10.7-x86_64-3.6/rpy2/ipython/tests\n",
      "    running build_clib\n",
      "    building 'r_utils' library\n",
      "    creating build/temp.macosx-10.7-x86_64-3.6\n",
      "    creating build/temp.macosx-10.7-x86_64-3.6/rpy\n",
      "    creating build/temp.macosx-10.7-x86_64-3.6/rpy/rinterface\n",
      "    gcc -Wno-unused-result -Wsign-compare -Wunreachable-code -DNDEBUG -g -fwrapv -O3 -Wall -Wstrict-prototypes -I/Users/jpdebotton/anaconda3/include -arch x86_64 -I/Users/jpdebotton/anaconda3/include -arch x86_64 -I./rpy/rinterface -I/Library/Frameworks/R.framework/Resources/include -c ./rpy/rinterface/r_utils.c -o build/temp.macosx-10.7-x86_64-3.6/./rpy/rinterface/r_utils.o\n",
      "    In file included from ./rpy/rinterface/r_utils.c:24:\n",
      "    In file included from /Library/Frameworks/R.framework/Resources/include/Rdefines.h:36:\n",
      "    /Library/Frameworks/R.framework/Resources/include/R_ext/Memory.h:48:17: warning: this function declaration is not a prototype [-Wstrict-prototypes]\n",
      "    int     R_gc_running();\n",
      "                        ^\n",
      "                         void\n",
      "    In file included from ./rpy/rinterface/r_utils.c:24:\n",
      "    In file included from /Library/Frameworks/R.framework/Resources/include/Rdefines.h:40:\n",
      "    In file included from /Library/Frameworks/R.framework/Resources/include/Rinternals.h:51:\n",
      "    /Library/Frameworks/R.framework/Resources/include/R_ext/Rdynload.h:38:26: warning: this function declaration is not a prototype [-Wstrict-prototypes]\n",
      "    typedef void * (*DL_FUNC)();\n",
      "                             ^\n",
      "                              void\n",
      "    In file included from ./rpy/rinterface/r_utils.c:24:\n",
      "    In file included from /Library/Frameworks/R.framework/Resources/include/Rdefines.h:40:\n",
      "    /Library/Frameworks/R.framework/Resources/include/Rinternals.h:919:26: warning: this function declaration is not a prototype [-Wstrict-prototypes]\n",
      "    const char *R_curErrorBuf();\n",
      "                             ^\n",
      "                              void\n",
      "    3 warnings generated.\n",
      "    ar rc build/temp.macosx-10.7-x86_64-3.6/libr_utils.a build/temp.macosx-10.7-x86_64-3.6/./rpy/rinterface/r_utils.o\n",
      "    ranlib build/temp.macosx-10.7-x86_64-3.6/libr_utils.a\n",
      "    running build_ext\n",
      "    R version 3.4.3 (2017-11-30) -- \"Kite-Eating Tree\"\n",
      "    building 'rpy2.rinterface._rinterface' extension\n",
      "    gcc -Wno-unused-result -Wsign-compare -Wunreachable-code -DNDEBUG -g -fwrapv -O3 -Wall -Wstrict-prototypes -I/Users/jpdebotton/anaconda3/include -arch x86_64 -I/Users/jpdebotton/anaconda3/include -arch x86_64 -DR_INTERFACE_PTRS=1 -DHAVE_POSIX_SIGJMP=1 -DRIF_HAS_RSIGHAND=1 -DCSTACK_DEFNS=1 -DHAS_READLINE=1 -I./rpy/rinterface -I/Library/Frameworks/R.framework/Resources/include -I/Users/jpdebotton/anaconda3/include/python3.6m -c ./rpy/rinterface/_rinterface.c -o build/temp.macosx-10.7-x86_64-3.6/./rpy/rinterface/_rinterface.o\n",
      "    In file included from ./rpy/rinterface/_rinterface.c:52:\n",
      "    In file included from ./rpy/rinterface/_rinterface.h:8:\n",
      "    In file included from /Library/Frameworks/R.framework/Resources/include/R.h:87:\n",
      "    /Library/Frameworks/R.framework/Resources/include/R_ext/Memory.h:48:17: warning: this function declaration is not a prototype [-Wstrict-prototypes]\n",
      "    int     R_gc_running();\n",
      "                        ^\n",
      "                         void\n",
      "    In file included from ./rpy/rinterface/_rinterface.c:52:\n",
      "    In file included from ./rpy/rinterface/_rinterface.h:9:\n",
      "    In file included from /Library/Frameworks/R.framework/Resources/include/Rinternals.h:51:\n",
      "    /Library/Frameworks/R.framework/Resources/include/R_ext/Rdynload.h:38:26: warning: this function declaration is not a prototype [-Wstrict-prototypes]\n",
      "    typedef void * (*DL_FUNC)();\n",
      "                             ^\n",
      "                              void\n",
      "    In file included from ./rpy/rinterface/_rinterface.c:52:\n",
      "    In file included from ./rpy/rinterface/_rinterface.h:9:\n",
      "    /Library/Frameworks/R.framework/Resources/include/Rinternals.h:919:26: warning: this function declaration is not a prototype [-Wstrict-prototypes]\n",
      "    const char *R_curErrorBuf();\n",
      "                             ^\n",
      "                              void\n",
      "    In file included from ./rpy/rinterface/_rinterface.c:64:\n",
      "    /Library/Frameworks/R.framework/Resources/include/Rinterface.h:157:35: warning: this function declaration is not a prototype [-Wstrict-prototypes]\n",
      "    extern void (*ptr_R_ProcessEvents)();\n",
      "                                      ^\n",
      "                                       void\n",
      "    In file included from ./rpy/rinterface/_rinterface.c:80:\n",
      "    In file included from /Users/jpdebotton/anaconda3/include/readline/readline.h:36:\n",
      "    /Users/jpdebotton/anaconda3/include/readline/rltypedefs.h:35:22: warning: this function declaration is not a prototype [-Wstrict-prototypes]\n",
      "    typedef int Function () __attribute__ ((deprecated));\n",
      "                         ^\n",
      "                          void\n",
      "    /Users/jpdebotton/anaconda3/include/readline/rltypedefs.h:36:24: warning: this function declaration is not a prototype [-Wstrict-prototypes]\n",
      "    typedef void VFunction () __attribute__ ((deprecated));\n",
      "                           ^\n",
      "                            void\n",
      "    /Users/jpdebotton/anaconda3/include/readline/rltypedefs.h:37:26: warning: this function declaration is not a prototype [-Wstrict-prototypes]\n",
      "    typedef char *CPFunction () __attribute__ ((deprecated));\n",
      "                             ^\n",
      "                              void\n",
      "    /Users/jpdebotton/anaconda3/include/readline/rltypedefs.h:38:28: warning: this function declaration is not a prototype [-Wstrict-prototypes]\n",
      "    typedef char **CPPFunction () __attribute__ ((deprecated));\n",
      "                               ^\n",
      "                                void\n",
      "    In file included from ./rpy/rinterface/_rinterface.c:80:\n",
      "    /Users/jpdebotton/anaconda3/include/readline/readline.h:390:23: warning: this function declaration is not a prototype [-Wstrict-prototypes]\n",
      "    extern int rl_message ();\n",
      "                          ^\n",
      "                           void\n",
      "    In file included from ./rpy/rinterface/_rinterface.c:94:\n",
      "    ./rpy/rinterface/embeddedr.h:6:27: warning: duplicate 'const' declaration specifier [-Wduplicate-decl-specifier]\n",
      "    extern const unsigned int const RPY_R_INITIALIZED;\n",
      "                              ^\n",
      "    ./rpy/rinterface/embeddedr.h:7:27: warning: duplicate 'const' declaration specifier [-Wduplicate-decl-specifier]\n",
      "    extern const unsigned int const RPY_R_BUSY;\n",
      "                              ^\n",
      "    In file included from ./rpy/rinterface/_rinterface.c:112:\n",
      "    ./rpy/rinterface/embeddedr.c:5:20: warning: duplicate 'const' declaration specifier [-Wduplicate-decl-specifier]\n",
      "    const unsigned int const RPY_R_INITIALIZED = 0x01;\n",
      "                       ^\n",
      "    ./rpy/rinterface/embeddedr.c:6:20: warning: duplicate 'const' declaration specifier [-Wduplicate-decl-specifier]\n",
      "    const unsigned int const RPY_R_BUSY = 0x02;\n",
      "                       ^\n",
      "    ./rpy/rinterface/embeddedr.c:48:12: warning: unused variable 'res' [-Wunused-variable]\n",
      "          SEXP res = rpy2_remove(Rf_mkString(name_buf),\n",
      "               ^\n",
      "    In file included from ./rpy/rinterface/_rinterface.c:115:\n",
      "    ./rpy/rinterface/sexp.c:679:13: warning: unused variable 'copy' [-Wunused-variable]\n",
      "      PyObject *copy = Py_True;\n",
      "                ^\n",
      "    ./rpy/rinterface/_rinterface.c:1719:21: warning: incompatible pointer types assigning to 'const char *' from 'SEXP' (aka 'struct SEXPREC *') [-Wincompatible-pointer-types]\n",
      "          argNameString = Rf_mkCharCE(PyBytes_AsString(pybytes), CE_UTF8);\n",
      "                        ^ ~~~~~~~~~~~~~~~~~~~~~~~~~~~~~~~~~~~~~~~~~~~~~~~\n",
      "    ./rpy/rinterface/_rinterface.c:1720:32: warning: incompatible pointer types passing 'const char *' to parameter of type 'SEXP' (aka 'struct SEXPREC *') [-Wincompatible-pointer-types]\n",
      "          SET_TAG(c_R, installChar(argNameString));\n",
      "                                   ^~~~~~~~~~~~~\n",
      "    /Library/Frameworks/R.framework/Resources/include/Rinternals.h:855:25: note: passing argument to parameter here\n",
      "    SEXP Rf_installChar(SEXP);\n",
      "                            ^\n",
      "    In file included from ./rpy/rinterface/_rinterface.c:52:\n",
      "    ./rpy/rinterface/_rinterface.h:194:44: warning: unused function 'PyRinterface_IsInitialized' [-Wunused-function]\n",
      "      static PyRinterface_IsInitialized_RETURN PyRinterface_IsInitialized PyRinterface_IsInitialized_PROTO;\n",
      "                                               ^\n",
      "    ./rpy/rinterface/_rinterface.h:195:38: warning: unused function 'PyRinterface_FindFun' [-Wunused-function]\n",
      "      static PyRinterface_FindFun_RETURN PyRinterface_FindFun PyRinterface_FindFun_PROTO;\n",
      "                                         ^\n",
      "    In file included from ./rpy/rinterface/_rinterface.c:118:\n",
      "    ./rpy/rinterface/sequence.c:1986:1: warning: unused function 'ComplexVectorSexp_AsSexp' [-Wunused-function]\n",
      "    ComplexVectorSexp_AsSexp(PyObject *pyfloat) {\n",
      "    ^\n",
      "    20 warnings generated.\n",
      "    gcc -bundle -undefined dynamic_lookup -L/Users/jpdebotton/anaconda3/lib -arch x86_64 -L/Users/jpdebotton/anaconda3/lib -arch x86_64 -arch x86_64 build/temp.macosx-10.7-x86_64-3.6/./rpy/rinterface/_rinterface.o -L/usr/local/lib -L/Users/jpdebotton/anaconda3/lib -Lbuild/temp.macosx-10.7-x86_64-3.6 -L/usr/local/lib -lpcre -llzma -lbz2 -lz -licucore -lm -liconv -lr_utils -o build/lib.macosx-10.7-x86_64-3.6/rpy2/rinterface/_rinterface.cpython-36m-darwin.so -fopenmp -F/Library/Frameworks/R.framework/.. -framework R\n",
      "    clang: error: unsupported option '-fopenmp'\n",
      "    error: command 'gcc' failed with exit status 1\n",
      "    \n",
      "    ----------------------------------------\n",
      "\u001b[31mCommand \"/Users/jpdebotton/anaconda3/bin/python -u -c \"import setuptools, tokenize;__file__='/private/var/folders/c4/72mnw4hd2xs9981dh3y35h600000gn/T/pip-build-z8n4job4/rpy2/setup.py';f=getattr(tokenize, 'open', open)(__file__);code=f.read().replace('\\r\\n', '\\n');f.close();exec(compile(code, __file__, 'exec'))\" install --record /var/folders/c4/72mnw4hd2xs9981dh3y35h600000gn/T/pip-0xh5ujmt-record/install-record.txt --single-version-externally-managed --compile\" failed with error code 1 in /private/var/folders/c4/72mnw4hd2xs9981dh3y35h600000gn/T/pip-build-z8n4job4/rpy2/\u001b[0m\n"
     ]
    },
    {
     "name": "stdout",
     "output_type": "stream",
     "text": [
      "\u001b[?25h"
     ]
    }
   ],
   "source": [
    "!pip install rpy2"
   ]
  },
  {
   "cell_type": "code",
   "execution_count": 39,
   "metadata": {},
   "outputs": [],
   "source": [
    "?%load_ext"
   ]
  },
  {
   "cell_type": "code",
   "execution_count": 38,
   "metadata": {
    "collapsed": true
   },
   "outputs": [
    {
     "ename": "ModuleNotFoundError",
     "evalue": "No module named 'rpy2'",
     "output_type": "error",
     "traceback": [
      "\u001b[0;31m---------------------------------------------------------------------------\u001b[0m",
      "\u001b[0;31mModuleNotFoundError\u001b[0m                       Traceback (most recent call last)",
      "\u001b[0;32m<ipython-input-38-fb23c6edefe4>\u001b[0m in \u001b[0;36m<module>\u001b[0;34m()\u001b[0m\n\u001b[0;32m----> 1\u001b[0;31m \u001b[0mget_ipython\u001b[0m\u001b[0;34m(\u001b[0m\u001b[0;34m)\u001b[0m\u001b[0;34m.\u001b[0m\u001b[0mrun_line_magic\u001b[0m\u001b[0;34m(\u001b[0m\u001b[0;34m'load_ext'\u001b[0m\u001b[0;34m,\u001b[0m \u001b[0;34m'rpy2.ipython'\u001b[0m\u001b[0;34m)\u001b[0m\u001b[0;34m\u001b[0m\u001b[0m\n\u001b[0m",
      "\u001b[0;32m~/anaconda3/lib/python3.6/site-packages/IPython/core/interactiveshell.py\u001b[0m in \u001b[0;36mrun_line_magic\u001b[0;34m(self, magic_name, line, _stack_depth)\u001b[0m\n\u001b[1;32m   2093\u001b[0m                 \u001b[0mkwargs\u001b[0m\u001b[0;34m[\u001b[0m\u001b[0;34m'local_ns'\u001b[0m\u001b[0;34m]\u001b[0m \u001b[0;34m=\u001b[0m \u001b[0msys\u001b[0m\u001b[0;34m.\u001b[0m\u001b[0m_getframe\u001b[0m\u001b[0;34m(\u001b[0m\u001b[0mstack_depth\u001b[0m\u001b[0;34m)\u001b[0m\u001b[0;34m.\u001b[0m\u001b[0mf_locals\u001b[0m\u001b[0;34m\u001b[0m\u001b[0m\n\u001b[1;32m   2094\u001b[0m             \u001b[0;32mwith\u001b[0m \u001b[0mself\u001b[0m\u001b[0;34m.\u001b[0m\u001b[0mbuiltin_trap\u001b[0m\u001b[0;34m:\u001b[0m\u001b[0;34m\u001b[0m\u001b[0m\n\u001b[0;32m-> 2095\u001b[0;31m                 \u001b[0mresult\u001b[0m \u001b[0;34m=\u001b[0m \u001b[0mfn\u001b[0m\u001b[0;34m(\u001b[0m\u001b[0;34m*\u001b[0m\u001b[0margs\u001b[0m\u001b[0;34m,\u001b[0m\u001b[0;34m**\u001b[0m\u001b[0mkwargs\u001b[0m\u001b[0;34m)\u001b[0m\u001b[0;34m\u001b[0m\u001b[0m\n\u001b[0m\u001b[1;32m   2096\u001b[0m             \u001b[0;32mreturn\u001b[0m \u001b[0mresult\u001b[0m\u001b[0;34m\u001b[0m\u001b[0m\n\u001b[1;32m   2097\u001b[0m \u001b[0;34m\u001b[0m\u001b[0m\n",
      "\u001b[0;32m<decorator-gen-65>\u001b[0m in \u001b[0;36mload_ext\u001b[0;34m(self, module_str)\u001b[0m\n",
      "\u001b[0;32m~/anaconda3/lib/python3.6/site-packages/IPython/core/magic.py\u001b[0m in \u001b[0;36m<lambda>\u001b[0;34m(f, *a, **k)\u001b[0m\n\u001b[1;32m    185\u001b[0m     \u001b[0;31m# but it's overkill for just that one bit of state.\u001b[0m\u001b[0;34m\u001b[0m\u001b[0;34m\u001b[0m\u001b[0m\n\u001b[1;32m    186\u001b[0m     \u001b[0;32mdef\u001b[0m \u001b[0mmagic_deco\u001b[0m\u001b[0;34m(\u001b[0m\u001b[0marg\u001b[0m\u001b[0;34m)\u001b[0m\u001b[0;34m:\u001b[0m\u001b[0;34m\u001b[0m\u001b[0m\n\u001b[0;32m--> 187\u001b[0;31m         \u001b[0mcall\u001b[0m \u001b[0;34m=\u001b[0m \u001b[0;32mlambda\u001b[0m \u001b[0mf\u001b[0m\u001b[0;34m,\u001b[0m \u001b[0;34m*\u001b[0m\u001b[0ma\u001b[0m\u001b[0;34m,\u001b[0m \u001b[0;34m**\u001b[0m\u001b[0mk\u001b[0m\u001b[0;34m:\u001b[0m \u001b[0mf\u001b[0m\u001b[0;34m(\u001b[0m\u001b[0;34m*\u001b[0m\u001b[0ma\u001b[0m\u001b[0;34m,\u001b[0m \u001b[0;34m**\u001b[0m\u001b[0mk\u001b[0m\u001b[0;34m)\u001b[0m\u001b[0;34m\u001b[0m\u001b[0m\n\u001b[0m\u001b[1;32m    188\u001b[0m \u001b[0;34m\u001b[0m\u001b[0m\n\u001b[1;32m    189\u001b[0m         \u001b[0;32mif\u001b[0m \u001b[0mcallable\u001b[0m\u001b[0;34m(\u001b[0m\u001b[0marg\u001b[0m\u001b[0;34m)\u001b[0m\u001b[0;34m:\u001b[0m\u001b[0;34m\u001b[0m\u001b[0m\n",
      "\u001b[0;32m~/anaconda3/lib/python3.6/site-packages/IPython/core/magics/extension.py\u001b[0m in \u001b[0;36mload_ext\u001b[0;34m(self, module_str)\u001b[0m\n\u001b[1;32m     31\u001b[0m         \u001b[0;32mif\u001b[0m \u001b[0;32mnot\u001b[0m \u001b[0mmodule_str\u001b[0m\u001b[0;34m:\u001b[0m\u001b[0;34m\u001b[0m\u001b[0m\n\u001b[1;32m     32\u001b[0m             \u001b[0;32mraise\u001b[0m \u001b[0mUsageError\u001b[0m\u001b[0;34m(\u001b[0m\u001b[0;34m'Missing module name.'\u001b[0m\u001b[0;34m)\u001b[0m\u001b[0;34m\u001b[0m\u001b[0m\n\u001b[0;32m---> 33\u001b[0;31m         \u001b[0mres\u001b[0m \u001b[0;34m=\u001b[0m \u001b[0mself\u001b[0m\u001b[0;34m.\u001b[0m\u001b[0mshell\u001b[0m\u001b[0;34m.\u001b[0m\u001b[0mextension_manager\u001b[0m\u001b[0;34m.\u001b[0m\u001b[0mload_extension\u001b[0m\u001b[0;34m(\u001b[0m\u001b[0mmodule_str\u001b[0m\u001b[0;34m)\u001b[0m\u001b[0;34m\u001b[0m\u001b[0m\n\u001b[0m\u001b[1;32m     34\u001b[0m \u001b[0;34m\u001b[0m\u001b[0m\n\u001b[1;32m     35\u001b[0m         \u001b[0;32mif\u001b[0m \u001b[0mres\u001b[0m \u001b[0;34m==\u001b[0m \u001b[0;34m'already loaded'\u001b[0m\u001b[0;34m:\u001b[0m\u001b[0;34m\u001b[0m\u001b[0m\n",
      "\u001b[0;32m~/anaconda3/lib/python3.6/site-packages/IPython/core/extensions.py\u001b[0m in \u001b[0;36mload_extension\u001b[0;34m(self, module_str)\u001b[0m\n\u001b[1;32m     83\u001b[0m             \u001b[0;32mif\u001b[0m \u001b[0mmodule_str\u001b[0m \u001b[0;32mnot\u001b[0m \u001b[0;32min\u001b[0m \u001b[0msys\u001b[0m\u001b[0;34m.\u001b[0m\u001b[0mmodules\u001b[0m\u001b[0;34m:\u001b[0m\u001b[0;34m\u001b[0m\u001b[0m\n\u001b[1;32m     84\u001b[0m                 \u001b[0;32mwith\u001b[0m \u001b[0mprepended_to_syspath\u001b[0m\u001b[0;34m(\u001b[0m\u001b[0mself\u001b[0m\u001b[0;34m.\u001b[0m\u001b[0mipython_extension_dir\u001b[0m\u001b[0;34m)\u001b[0m\u001b[0;34m:\u001b[0m\u001b[0;34m\u001b[0m\u001b[0m\n\u001b[0;32m---> 85\u001b[0;31m                     \u001b[0mmod\u001b[0m \u001b[0;34m=\u001b[0m \u001b[0mimport_module\u001b[0m\u001b[0;34m(\u001b[0m\u001b[0mmodule_str\u001b[0m\u001b[0;34m)\u001b[0m\u001b[0;34m\u001b[0m\u001b[0m\n\u001b[0m\u001b[1;32m     86\u001b[0m                     \u001b[0;32mif\u001b[0m \u001b[0mmod\u001b[0m\u001b[0;34m.\u001b[0m\u001b[0m__file__\u001b[0m\u001b[0;34m.\u001b[0m\u001b[0mstartswith\u001b[0m\u001b[0;34m(\u001b[0m\u001b[0mself\u001b[0m\u001b[0;34m.\u001b[0m\u001b[0mipython_extension_dir\u001b[0m\u001b[0;34m)\u001b[0m\u001b[0;34m:\u001b[0m\u001b[0;34m\u001b[0m\u001b[0m\n\u001b[1;32m     87\u001b[0m                         print((\"Loading extensions from {dir} is deprecated. \"\n",
      "\u001b[0;32m~/anaconda3/lib/python3.6/importlib/__init__.py\u001b[0m in \u001b[0;36mimport_module\u001b[0;34m(name, package)\u001b[0m\n\u001b[1;32m    124\u001b[0m                 \u001b[0;32mbreak\u001b[0m\u001b[0;34m\u001b[0m\u001b[0m\n\u001b[1;32m    125\u001b[0m             \u001b[0mlevel\u001b[0m \u001b[0;34m+=\u001b[0m \u001b[0;36m1\u001b[0m\u001b[0;34m\u001b[0m\u001b[0m\n\u001b[0;32m--> 126\u001b[0;31m     \u001b[0;32mreturn\u001b[0m \u001b[0m_bootstrap\u001b[0m\u001b[0;34m.\u001b[0m\u001b[0m_gcd_import\u001b[0m\u001b[0;34m(\u001b[0m\u001b[0mname\u001b[0m\u001b[0;34m[\u001b[0m\u001b[0mlevel\u001b[0m\u001b[0;34m:\u001b[0m\u001b[0;34m]\u001b[0m\u001b[0;34m,\u001b[0m \u001b[0mpackage\u001b[0m\u001b[0;34m,\u001b[0m \u001b[0mlevel\u001b[0m\u001b[0;34m)\u001b[0m\u001b[0;34m\u001b[0m\u001b[0m\n\u001b[0m\u001b[1;32m    127\u001b[0m \u001b[0;34m\u001b[0m\u001b[0m\n\u001b[1;32m    128\u001b[0m \u001b[0;34m\u001b[0m\u001b[0m\n",
      "\u001b[0;32m~/anaconda3/lib/python3.6/importlib/_bootstrap.py\u001b[0m in \u001b[0;36m_gcd_import\u001b[0;34m(name, package, level)\u001b[0m\n",
      "\u001b[0;32m~/anaconda3/lib/python3.6/importlib/_bootstrap.py\u001b[0m in \u001b[0;36m_find_and_load\u001b[0;34m(name, import_)\u001b[0m\n",
      "\u001b[0;32m~/anaconda3/lib/python3.6/importlib/_bootstrap.py\u001b[0m in \u001b[0;36m_find_and_load_unlocked\u001b[0;34m(name, import_)\u001b[0m\n",
      "\u001b[0;32m~/anaconda3/lib/python3.6/importlib/_bootstrap.py\u001b[0m in \u001b[0;36m_call_with_frames_removed\u001b[0;34m(f, *args, **kwds)\u001b[0m\n",
      "\u001b[0;32m~/anaconda3/lib/python3.6/importlib/_bootstrap.py\u001b[0m in \u001b[0;36m_gcd_import\u001b[0;34m(name, package, level)\u001b[0m\n",
      "\u001b[0;32m~/anaconda3/lib/python3.6/importlib/_bootstrap.py\u001b[0m in \u001b[0;36m_find_and_load\u001b[0;34m(name, import_)\u001b[0m\n",
      "\u001b[0;32m~/anaconda3/lib/python3.6/importlib/_bootstrap.py\u001b[0m in \u001b[0;36m_find_and_load_unlocked\u001b[0;34m(name, import_)\u001b[0m\n",
      "\u001b[0;31mModuleNotFoundError\u001b[0m: No module named 'rpy2'"
     ]
    }
   ],
   "source": [
    "%load_ext rpy2.ipython"
   ]
  },
  {
   "cell_type": "code",
   "execution_count": 40,
   "metadata": {
    "collapsed": true
   },
   "outputs": [
    {
     "name": "stderr",
     "output_type": "stream",
     "text": [
      "UsageError: Line magic function `%R` not found.\n"
     ]
    }
   ],
   "source": [
    "%R require(ggplot2)"
   ]
  },
  {
   "cell_type": "code",
   "execution_count": 31,
   "metadata": {
    "collapsed": true
   },
   "outputs": [],
   "source": [
    "import pandas as pd\n",
    "df = pd.DataFrame({\n",
    "        'Letter': ['a', 'a', 'a', 'b', 'b', 'b', 'c', 'c', 'c'],\n",
    "        'X': [4, 3, 5, 2, 1, 7, 7, 5, 9],\n",
    "        'Y': [0, 4, 3, 6, 7, 10, 11, 9, 13],\n",
    "        'Z': [1, 2, 3, 1, 2, 3, 1, 2, 3]\n",
    "    })"
   ]
  },
  {
   "cell_type": "code",
   "execution_count": 32,
   "metadata": {},
   "outputs": [
    {
     "data": {
      "image/png": "[encoded data removed]"
     },
     "metadata": {},
     "output_type": "display_data"
    }
   ],
   "source": [
    "%%R -i df\n",
    "ggplot(data = df) + geom_point(aes(x = X, y= Y, color = Letter, size = Z))"
   ]
  }
 ],
 "metadata": {
  "kernelspec": {
   "display_name": "Python 3",
   "language": "python",
   "name": "python3"
  },
  "language_info": {
   "codemirror_mode": {
    "name": "ipython",
    "version": 3
   },
   "file_extension": ".py",
   "mimetype": "text/x-python",
   "name": "python",
   "nbconvert_exporter": "python",
   "pygments_lexer": "ipython3",
   "version": "3.6.3"
  }
 },
 "nbformat": 4,
 "nbformat_minor": 2
}
