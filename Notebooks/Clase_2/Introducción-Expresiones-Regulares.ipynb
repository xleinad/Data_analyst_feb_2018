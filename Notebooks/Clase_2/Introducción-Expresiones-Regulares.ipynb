{
 "cells": [
  {
   "cell_type": "markdown",
   "metadata": {},
   "source": [
    "# Expresiones Regulares"
   ]
  },
  {
   "cell_type": "markdown",
   "metadata": {},
   "source": [
    "Para utilizar expresiones regulares utilizamos la librería re"
   ]
  },
  {
   "cell_type": "code",
   "execution_count": 5,
   "metadata": {
    "collapsed": true
   },
   "outputs": [],
   "source": [
    "import re"
   ]
  },
  {
   "cell_type": "code",
   "execution_count": 6,
   "metadata": {
    "collapsed": true
   },
   "outputs": [],
   "source": [
    "message = \"Calle me at 554-593-0921 tomorrow, or at 712-579-2912\""
   ]
  },
  {
   "cell_type": "markdown",
   "metadata": {},
   "source": [
    "Nota: 'r' antes de un string nos sirve para marcar un string literal, es decir, podemos indicar que se trata de un string en bytes y que no interprete nuestros patrón como whitespace<"
   ]
  },
  {
   "cell_type": "markdown",
   "metadata": {},
   "source": [
    "Podemos buscar un patrón de número teléfonico con el método findall"
   ]
  },
  {
   "cell_type": "code",
   "execution_count": 7,
   "metadata": {
    "collapsed": true
   },
   "outputs": [],
   "source": [
    "phoneNumRegex = re.compile(r'\\d\\d\\d-\\d\\d\\d-\\d\\d\\d\\d')"
   ]
  },
  {
   "cell_type": "code",
   "execution_count": 8,
   "metadata": {
    "collapsed": true
   },
   "outputs": [],
   "source": [
    "match_obj = phoneNumRegex.findall(message)"
   ]
  },
  {
   "cell_type": "code",
   "execution_count": 9,
   "metadata": {},
   "outputs": [
    {
     "name": "stdout",
     "output_type": "stream",
     "text": [
      "['554-593-0921', '712-579-2912']\n"
     ]
    }
   ],
   "source": [
    "print(match_obj)"
   ]
  },
  {
   "cell_type": "markdown",
   "metadata": {},
   "source": [
    "o bien un patrón separado por grupos con el método search() donde utilizamos el método group para recuperar los resultados de nuestra búsqueda "
   ]
  },
  {
   "cell_type": "code",
   "execution_count": 10,
   "metadata": {
    "collapsed": true
   },
   "outputs": [],
   "source": [
    "phoneNumRegex2 = re.compile(r'(\\d\\d\\d)-(\\d\\d\\d-\\d\\d\\d\\d)')"
   ]
  },
  {
   "cell_type": "code",
   "execution_count": 11,
   "metadata": {},
   "outputs": [],
   "source": [
    "match_obj2= phoneNumRegex2.search(message)"
   ]
  },
  {
   "cell_type": "code",
   "execution_count": 14,
   "metadata": {},
   "outputs": [
    {
     "data": {
      "text/plain": [
       "_sre.SRE_Match"
      ]
     },
     "execution_count": 14,
     "metadata": {},
     "output_type": "execute_result"
    }
   ],
   "source": [
    "type(match_obj2)"
   ]
  },
  {
   "cell_type": "code",
   "execution_count": 12,
   "metadata": {},
   "outputs": [
    {
     "name": "stdout",
     "output_type": "stream",
     "text": [
      "554-593-0921\n"
     ]
    }
   ],
   "source": [
    "print(match_obj2.group())"
   ]
  },
  {
   "cell_type": "code",
   "execution_count": 15,
   "metadata": {},
   "outputs": [
    {
     "name": "stdout",
     "output_type": "stream",
     "text": [
      "554\n"
     ]
    }
   ],
   "source": [
    "print(match_obj2.group(1))"
   ]
  },
  {
   "cell_type": "code",
   "execution_count": 16,
   "metadata": {},
   "outputs": [
    {
     "name": "stdout",
     "output_type": "stream",
     "text": [
      "593-0921\n"
     ]
    }
   ],
   "source": [
    "print(match_obj2.group(2))"
   ]
  },
  {
   "cell_type": "markdown",
   "metadata": {
    "collapsed": true
   },
   "source": [
    "Podemos buscar distintas terminaciones de la misma palabra con la siguiente sintaxis"
   ]
  },
  {
   "cell_type": "code",
   "execution_count": 17,
   "metadata": {
    "collapsed": true
   },
   "outputs": [],
   "source": [
    "batiRegex = re.compile(r'bati(cueva|móvil|chica)')"
   ]
  },
  {
   "cell_type": "code",
   "execution_count": 18,
   "metadata": {
    "collapsed": true
   },
   "outputs": [],
   "source": [
    "match_obj_bati = batiRegex.search(\"El batimóvil perdió una rueda\")"
   ]
  },
  {
   "cell_type": "code",
   "execution_count": 23,
   "metadata": {},
   "outputs": [
    {
     "name": "stdout",
     "output_type": "stream",
     "text": [
      "batimóvil\n"
     ]
    }
   ],
   "source": [
    "print(match_obj_bati.group())"
   ]
  },
  {
   "cell_type": "markdown",
   "metadata": {},
   "source": [
    "El signo '?' significa que la expresión agrupada puede aparecer una o cero veces."
   ]
  },
  {
   "cell_type": "code",
   "execution_count": 24,
   "metadata": {
    "collapsed": true
   },
   "outputs": [],
   "source": [
    "pueblaRegex = re.compile(r'Puebla (de los Ángeles)?')"
   ]
  },
  {
   "cell_type": "code",
   "execution_count": 25,
   "metadata": {},
   "outputs": [],
   "source": [
    "match_obj_puebla = pueblaRegex.search(\"La hermosa ciudad de Puebla de los Ángeles\")"
   ]
  },
  {
   "cell_type": "code",
   "execution_count": 26,
   "metadata": {},
   "outputs": [
    {
     "name": "stdout",
     "output_type": "stream",
     "text": [
      "Puebla de los Ángeles\n"
     ]
    }
   ],
   "source": [
    "print(match_obj_puebla.group())"
   ]
  },
  {
   "cell_type": "code",
   "execution_count": 27,
   "metadata": {
    "collapsed": true
   },
   "outputs": [],
   "source": [
    "match_obj_puebla2 = pueblaRegex.search(\"La hermosa ciudad de Puebla estaba sienso asediada\")"
   ]
  },
  {
   "cell_type": "code",
   "execution_count": 28,
   "metadata": {},
   "outputs": [
    {
     "name": "stdout",
     "output_type": "stream",
     "text": [
      "Puebla \n"
     ]
    }
   ],
   "source": [
    "print(match_obj_puebla2.group())"
   ]
  },
  {
   "cell_type": "markdown",
   "metadata": {},
   "source": [
    "El signo '+' después del paréntesis significa que la expresión agrupada puede aparecer una o más veces"
   ]
  },
  {
   "cell_type": "code",
   "execution_count": 29,
   "metadata": {},
   "outputs": [],
   "source": [
    "jorgeFalconRegex = re.compile(r'Jo(jo)+rge Falcón')"
   ]
  },
  {
   "cell_type": "code",
   "execution_count": 30,
   "metadata": {
    "collapsed": true
   },
   "outputs": [],
   "source": [
    "match_obj_jorgeFalcon = jorgeFalconRegex.search(\"Mi nombre es Jojojorge Falcón, reír es mi profesión\")"
   ]
  },
  {
   "cell_type": "code",
   "execution_count": 31,
   "metadata": {},
   "outputs": [
    {
     "name": "stdout",
     "output_type": "stream",
     "text": [
      "Jojojorge Falcón\n"
     ]
    }
   ],
   "source": [
    "print(match_obj_jorgeFalcon.group())"
   ]
  },
  {
   "cell_type": "markdown",
   "metadata": {},
   "source": [
    "El signo '*' sirve para 0 o más"
   ]
  },
  {
   "cell_type": "markdown",
   "metadata": {},
   "source": [
    "Si queremos especificar un número exacto de veces, por ejemplo, 'jajaja' utilizamos {3} para indicarlo"
   ]
  },
  {
   "cell_type": "code",
   "execution_count": 32,
   "metadata": {
    "collapsed": true
   },
   "outputs": [],
   "source": [
    "jaRegex = re.compile(r'(ja){3,10}')"
   ]
  },
  {
   "cell_type": "code",
   "execution_count": 33,
   "metadata": {
    "collapsed": true
   },
   "outputs": [],
   "source": [
    "match_obj_ja = jaRegex.search(\"Y le dije jajaja, no me hagas reír\")"
   ]
  },
  {
   "cell_type": "code",
   "execution_count": 34,
   "metadata": {
    "collapsed": true
   },
   "outputs": [],
   "source": [
    "match_obj_ja2 = jaRegex.search(\"Y le dije jajajajajaja, no me hagas reír\")"
   ]
  },
  {
   "cell_type": "code",
   "execution_count": 35,
   "metadata": {},
   "outputs": [
    {
     "name": "stdout",
     "output_type": "stream",
     "text": [
      "jajaja\n"
     ]
    }
   ],
   "source": [
    "print(match_obj_ja.group())"
   ]
  },
  {
   "cell_type": "code",
   "execution_count": 36,
   "metadata": {},
   "outputs": [
    {
     "name": "stdout",
     "output_type": "stream",
     "text": [
      "jajajajajaja\n"
     ]
    }
   ],
   "source": [
    "print(match_obj_ja2.group())"
   ]
  },
  {
   "cell_type": "markdown",
   "metadata": {
    "collapsed": true
   },
   "source": [
    "Podemos buscar entre un grupo de letras con la siguiente sintaxis"
   ]
  },
  {
   "cell_type": "code",
   "execution_count": 37,
   "metadata": {
    "collapsed": true
   },
   "outputs": [],
   "source": [
    "vowelRegex = re.compile(r'[aeiouAEIOU]')"
   ]
  },
  {
   "cell_type": "code",
   "execution_count": 38,
   "metadata": {},
   "outputs": [],
   "source": [
    "match_obj_vowel = vowelRegex.findall(\"Adoro el ketorolaco\")"
   ]
  },
  {
   "cell_type": "code",
   "execution_count": 39,
   "metadata": {},
   "outputs": [
    {
     "name": "stdout",
     "output_type": "stream",
     "text": [
      "['A', 'o', 'o', 'e', 'e', 'o', 'o', 'a', 'o']\n"
     ]
    }
   ],
   "source": [
    "print(match_obj_vowel)"
   ]
  },
  {
   "cell_type": "markdown",
   "metadata": {
    "collapsed": true
   },
   "source": [
    "Si queremos todas aquellos caracteres que no sean vocales lo indicamos con ^ dentro del corchete"
   ]
  },
  {
   "cell_type": "code",
   "execution_count": 40,
   "metadata": {
    "collapsed": true
   },
   "outputs": [],
   "source": [
    "notVowelRegex = re.compile(r'[^aeiouAEIOU]')"
   ]
  },
  {
   "cell_type": "code",
   "execution_count": 41,
   "metadata": {
    "collapsed": true
   },
   "outputs": [],
   "source": [
    "match_obj_notVowel = notVowelRegex.findall(\"Adoro el ketorolaco\")"
   ]
  },
  {
   "cell_type": "code",
   "execution_count": 42,
   "metadata": {},
   "outputs": [
    {
     "name": "stdout",
     "output_type": "stream",
     "text": [
      "['d', 'r', ' ', 'l', ' ', 'k', 't', 'r', 'l', 'c']\n"
     ]
    }
   ],
   "source": [
    "print(match_obj_notVowel)"
   ]
  },
  {
   "cell_type": "markdown",
   "metadata": {
    "collapsed": true
   },
   "source": [
    "Indicamos con ^ la expresión que nos regresa las strings que comienzan con 'Hello'"
   ]
  },
  {
   "cell_type": "code",
   "execution_count": 43,
   "metadata": {
    "collapsed": true
   },
   "outputs": [],
   "source": [
    "startsWithHello = re.compile(r'^Hello')"
   ]
  },
  {
   "cell_type": "code",
   "execution_count": 44,
   "metadata": {
    "collapsed": true
   },
   "outputs": [],
   "source": [
    "match_obj_startsHello = startsWithHello.search(\"Hello World!\")"
   ]
  },
  {
   "cell_type": "code",
   "execution_count": 45,
   "metadata": {},
   "outputs": [
    {
     "name": "stdout",
     "output_type": "stream",
     "text": [
      "Hello\n"
     ]
    }
   ],
   "source": [
    "print(match_obj_startsHello.group())"
   ]
  },
  {
   "cell_type": "markdown",
   "metadata": {},
   "source": [
    "Mientras que '$' nos indica la terminación de palabra que estamos buscando"
   ]
  },
  {
   "cell_type": "code",
   "execution_count": 46,
   "metadata": {
    "collapsed": true
   },
   "outputs": [],
   "source": [
    "endsWithWorld = re.compile(r'World!$')"
   ]
  },
  {
   "cell_type": "code",
   "execution_count": 47,
   "metadata": {
    "collapsed": true
   },
   "outputs": [],
   "source": [
    "match_obj_endsWorld = endsWithWorld.search(\"Hello World!\")"
   ]
  },
  {
   "cell_type": "code",
   "execution_count": 48,
   "metadata": {},
   "outputs": [
    {
     "name": "stdout",
     "output_type": "stream",
     "text": [
      "World!\n"
     ]
    }
   ],
   "source": [
    "print(match_obj_endsWorld.group())"
   ]
  },
  {
   "cell_type": "code",
   "execution_count": 49,
   "metadata": {},
   "outputs": [
    {
     "data": {
      "text/plain": [
       "True"
      ]
     },
     "execution_count": 49,
     "metadata": {},
     "output_type": "execute_result"
    }
   ],
   "source": [
    "endsWithWorld.search(\"Hello World! My name is Juan\") == None"
   ]
  },
  {
   "cell_type": "markdown",
   "metadata": {},
   "source": [
    "Otro caracter que podemos utilizar es .* para indicar que nos regrese cualquier caracter excepto una línea nueva"
   ]
  },
  {
   "cell_type": "code",
   "execution_count": 50,
   "metadata": {},
   "outputs": [],
   "source": [
    "noNewlineRegex = re.compile('.*')"
   ]
  },
  {
   "cell_type": "code",
   "execution_count": 51,
   "metadata": {},
   "outputs": [],
   "source": [
    "match_obj_noNewLine = noNewlineRegex.search('Cuando calienta el sol. \\n Aquí en la playa. \\n Siento mi cuerpo vibrar \\n Cerca de ti')"
   ]
  },
  {
   "cell_type": "code",
   "execution_count": 52,
   "metadata": {},
   "outputs": [
    {
     "name": "stdout",
     "output_type": "stream",
     "text": [
      "Cuando calienta el sol. \n"
     ]
    }
   ],
   "source": [
    "print(match_obj_noNewLine.group())"
   ]
  },
  {
   "cell_type": "markdown",
   "metadata": {},
   "source": [
    "Si quisieramos obtener todas las líneas entonces escribiríamos"
   ]
  },
  {
   "cell_type": "code",
   "execution_count": 55,
   "metadata": {
    "collapsed": true
   },
   "outputs": [],
   "source": [
    "noNewlineRegex = re.compile('.*', re.DOTALL)"
   ]
  },
  {
   "cell_type": "code",
   "execution_count": 56,
   "metadata": {
    "collapsed": true
   },
   "outputs": [],
   "source": [
    "match_obj_noNewLine = noNewlineRegex.search('Cuando calienta el sol. \\n Aquí en la playa. \\n Siento mi cuerpo vibrar \\n Cerca de ti')"
   ]
  },
  {
   "cell_type": "code",
   "execution_count": 57,
   "metadata": {},
   "outputs": [
    {
     "name": "stdout",
     "output_type": "stream",
     "text": [
      "Cuando calienta el sol. \n",
      " Aquí en la playa. \n",
      " Siento mi cuerpo vibrar \n",
      " Cerca de ti\n"
     ]
    }
   ],
   "source": [
    "print(match_obj_noNewLine.group())"
   ]
  },
  {
   "cell_type": "markdown",
   "metadata": {},
   "source": [
    "**Resumen de Símbolos de Regex**\n",
    "<table>\n",
    "<tr> \n",
    "<td> **Símbolo**</td> <td> **Descripción**</td> \n",
    "</tr>\n",
    "<tr> \n",
    "<td> ?</td> <td> Encuentra 0 o más del grupo anterior</td> \n",
    "</tr>\n",
    "<tr> \n",
    "<td> *</td> <td> Encuentra 1 o más del grupo anterior</td> \n",
    "</tr>\n",
    "<tr> \n",
    "<td> {n}</td> <td> Encuentra exactamente n del grupo anterior</td> \n",
    "</tr>\n",
    "<tr> \n",
    "<td> {n,}</td> <td> Encuentra n o más del grupo anterior</td> \n",
    "</tr>\n",
    "<tr> \n",
    "<td> {,m}</td> <td> Encuentra entre 0 y m del grupo anterior</td> \n",
    "</tr>\n",
    "<tr> \n",
    "<td> {n,m}</td> <td> Encuentra entre n y m del grupo anterior</td> \n",
    "</tr>\n",
    "<tr> \n",
    "<td> ^hola </td> <td> El string debe comenzar con hola </td> \n",
    "</tr>\n",
    "<tr> \n",
    "<td> hola$ </td> <td> El string debe terminar con hola</td> \n",
    "</tr>\n",
    "<tr> \n",
    "<td> .</td> <td> Encuentra cualquier caracter excepto nuevas líneas \\n</td> \n",
    "</tr>\n",
    "<tr> \n",
    "<td> \\d \\w \\s </td> <td> Encuentra digitos, palabras o espacios, respectivamente</td> \n",
    "</tr>\n",
    "<tr> \n",
    "<td> \\D \\W \\S </td> <td> Encuentra todo excepto digitos, palabras o espacios, respectivamente</td> \n",
    "</tr>\n",
    "<tr> \n",
    "<td> [abc] </td> <td> Encuentra cualquier caracter dentro de los corchetes (a ó b ó c)</td> \n",
    "</tr>\n",
    "<tr> \n",
    "<td> [^abc] </td> <td> Encuentra cualquier caracter que no esté dentro de los corchetes (que no sea a ó b ó c)</td> \n",
    "</tr>\n",
    "</table>"
   ]
  }
 ],
 "metadata": {
  "kernelspec": {
   "display_name": "Python 3",
   "language": "python",
   "name": "python3"
  },
  "language_info": {
   "codemirror_mode": {
    "name": "ipython",
    "version": 3
   },
   "file_extension": ".py",
   "mimetype": "text/x-python",
   "name": "python",
   "nbconvert_exporter": "python",
   "pygments_lexer": "ipython3",
   "version": "3.6.3"
  }
 },
 "nbformat": 4,
 "nbformat_minor": 2
}
