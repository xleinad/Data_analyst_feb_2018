{
 "cells": [
  {
   "cell_type": "markdown",
   "metadata": {},
   "source": [
    "# Clases en Python"
   ]
  },
  {
   "cell_type": "markdown",
   "metadata": {},
   "source": [
    "Para aprender a crear clases en Python haremos un primer ejemplo de un cohete."
   ]
  },
  {
   "cell_type": "code",
   "execution_count": 1,
   "metadata": {},
   "outputs": [],
   "source": [
    "class Cohete():\n",
    "    # Cohete simula una nave espacial para un juego\n",
    "    #  or simulación de física\n",
    "    \n",
    "    def __init__(self):\n",
    "        # Cada cohete tiene una posición (x,y).\n",
    "        self.x = 0\n",
    "        self.y = 0"
   ]
  },
  {
   "cell_type": "markdown",
   "metadata": {},
   "source": [
    "Lo primero que debemos notar es el método __init__ que define los parámetros necesarios para crear el objeto"
   ]
  },
  {
   "cell_type": "markdown",
   "metadata": {},
   "source": [
    "Veamos que podemos crear un objeto cohete"
   ]
  },
  {
   "cell_type": "code",
   "execution_count": 2,
   "metadata": {},
   "outputs": [
    {
     "data": {
      "text/plain": [
       "<__main__.Cohete at 0x10d5db0f0>"
      ]
     },
     "execution_count": 2,
     "metadata": {},
     "output_type": "execute_result"
    }
   ],
   "source": [
    "mi_cohete = Cohete()\n",
    "mi_cohete"
   ]
  },
  {
   "cell_type": "markdown",
   "metadata": {},
   "source": [
    "wiiiii !!! Lo malo es que nuestro cohete aún no hace nada interesante, cambiemos esta situación agregando un método para cambiarlo de posición"
   ]
  },
  {
   "cell_type": "code",
   "execution_count": 3,
   "metadata": {},
   "outputs": [],
   "source": [
    "class Cohete():\n",
    "    # Cohete simula una nave espacial para un juego\n",
    "    #  or simulación de física\n",
    "    \n",
    "    def __init__(self):\n",
    "        # Cada cohete tiene una posición (x,y).\n",
    "        self.x = 0\n",
    "        self.y = 0\n",
    "        \n",
    "    def move_up(self):\n",
    "    # Incrementar la posición y del cohete.\n",
    "        self.y += 1"
   ]
  },
  {
   "cell_type": "code",
   "execution_count": 4,
   "metadata": {},
   "outputs": [
    {
     "name": "stdout",
     "output_type": "stream",
     "text": [
      "Altura del cohete: 0\n"
     ]
    }
   ],
   "source": [
    "mi_cohete = Cohete()\n",
    "print(\"Altura del cohete: \"+ str(mi_cohete.y))"
   ]
  },
  {
   "cell_type": "code",
   "execution_count": 5,
   "metadata": {},
   "outputs": [
    {
     "name": "stdout",
     "output_type": "stream",
     "text": [
      "Altura del cohete: 1\n"
     ]
    }
   ],
   "source": [
    "mi_cohete.move_up()\n",
    "print(\"Altura del cohete: \"+ str(mi_cohete.y))"
   ]
  },
  {
   "cell_type": "code",
   "execution_count": 6,
   "metadata": {},
   "outputs": [
    {
     "name": "stdout",
     "output_type": "stream",
     "text": [
      "Altura del cohete: 2\n"
     ]
    }
   ],
   "source": [
    "mi_cohete.move_up()\n",
    "print(\"Altura del cohete: \"+ str(mi_cohete.y))"
   ]
  },
  {
   "cell_type": "code",
   "execution_count": 7,
   "metadata": {},
   "outputs": [
    {
     "name": "stdout",
     "output_type": "stream",
     "text": [
      "Altura del cohete: 3\n"
     ]
    }
   ],
   "source": [
    "mi_cohete.move_up()\n",
    "print(\"Altura del cohete: \"+ str(mi_cohete.y))"
   ]
  },
  {
   "cell_type": "markdown",
   "metadata": {},
   "source": [
    "Funciona! Excelente. Ya vimos que un método puede modificar los datos de los atributos internos de un objeto."
   ]
  },
  {
   "cell_type": "markdown",
   "metadata": {},
   "source": [
    "Ahora es importante que veamos que podemos crear no sólo un cohete sino muchos cohetes desde nuestra nueva clase. Cada cohete es una **instancia** independiente del objeto"
   ]
  },
  {
   "cell_type": "code",
   "execution_count": 8,
   "metadata": {},
   "outputs": [],
   "source": [
    "# Crear una flota de 5 cohetes, y guardarlos en una lista.\n",
    "mis_cohetes = []\n",
    "for num in range(0,5):\n",
    "    nuevo_cohete = Cohete()\n",
    "    mis_cohetes.append(nuevo_cohete)"
   ]
  },
  {
   "cell_type": "code",
   "execution_count": 9,
   "metadata": {},
   "outputs": [
    {
     "data": {
      "text/plain": [
       "[<__main__.Cohete at 0x10d5dbb00>,\n",
       " <__main__.Cohete at 0x10d5db550>,\n",
       " <__main__.Cohete at 0x10d5b5e80>,\n",
       " <__main__.Cohete at 0x10d5b5dd8>,\n",
       " <__main__.Cohete at 0x10d5b5e10>]"
      ]
     },
     "execution_count": 9,
     "metadata": {},
     "output_type": "execute_result"
    }
   ],
   "source": [
    "mis_cohetes"
   ]
  },
  {
   "cell_type": "code",
   "execution_count": 10,
   "metadata": {},
   "outputs": [
    {
     "name": "stdout",
     "output_type": "stream",
     "text": [
      "<__main__.Cohete object at 0x10d5dbb00>\n",
      "<__main__.Cohete object at 0x10d5db550>\n",
      "<__main__.Cohete object at 0x10d5b5e80>\n",
      "<__main__.Cohete object at 0x10d5b5dd8>\n",
      "<__main__.Cohete object at 0x10d5b5e10>\n"
     ]
    }
   ],
   "source": [
    "# Mostrar cada cohete como objeto separado\n",
    "for cohetes in mis_cohetes:\n",
    "    print(cohetes)"
   ]
  },
  {
   "cell_type": "markdown",
   "metadata": {},
   "source": [
    "Utilizando list comprehension haz la flotilla de cohetes en una sola línea"
   ]
  },
  {
   "cell_type": "code",
   "execution_count": 11,
   "metadata": {},
   "outputs": [
    {
     "data": {
      "text/plain": [
       "[<__main__.Cohete at 0x10d5f4358>,\n",
       " <__main__.Cohete at 0x10d5f4390>,\n",
       " <__main__.Cohete at 0x10d5f43c8>,\n",
       " <__main__.Cohete at 0x10d5f4438>,\n",
       " <__main__.Cohete at 0x10d5f4470>]"
      ]
     },
     "execution_count": 11,
     "metadata": {},
     "output_type": "execute_result"
    }
   ],
   "source": [
    "mis_cohetes2 = [Cohete() for num in range(0,5)]\n",
    "mis_cohetes2"
   ]
  },
  {
   "cell_type": "markdown",
   "metadata": {},
   "source": [
    "Ahora podemos mostrar que cada cohete tiene una posición distinta moviendo sólo el primer cohete hacia arriba"
   ]
  },
  {
   "cell_type": "code",
   "execution_count": 12,
   "metadata": {},
   "outputs": [],
   "source": [
    "#Mover el primer cohete hacia arriba\n",
    "mis_cohetes[0].move_up()"
   ]
  },
  {
   "cell_type": "code",
   "execution_count": 13,
   "metadata": {},
   "outputs": [
    {
     "name": "stdout",
     "output_type": "stream",
     "text": [
      "La posición y del Cohete es: 1\n",
      "La posición y del Cohete es: 0\n",
      "La posición y del Cohete es: 0\n",
      "La posición y del Cohete es: 0\n",
      "La posición y del Cohete es: 0\n"
     ]
    }
   ],
   "source": [
    "for cohete in mis_cohetes:\n",
    "    print(\"La posición y del Cohete es: \"+ str(cohete.y))"
   ]
  },
  {
   "cell_type": "markdown",
   "metadata": {},
   "source": [
    "Recapitulemos, una **clase** es un conjunto de código que define **atributos** y **métodos** que modelan algo que necesitas programar.\n",
    "<ol> Un **atributo** es una pieza de información. En términos de código, un atributo es una variable dentro de una clase. </ol>\n",
    "<ol> Un **método** es una acción del objeto. En términos de código, un método es una función dentro de una clase. </ol>\n",
    "<ol> Un **objeto** es una instancia particular de una clase. Se pueden tener tantas instancias de una clase como deseemos.</ol>"
   ]
  },
  {
   "cell_type": "markdown",
   "metadata": {},
   "source": [
    "Observemos que **init** es un método especial que se llama al momento de crear un objeto. "
   ]
  },
  {
   "cell_type": "markdown",
   "metadata": {},
   "source": [
    "Cada uno de nuestros métodos acepta un argumento llamado **self** que es una referencia al objeto sobre el cuál se está llamando el método. El argumento self te da acceso a los atributos del objeto."
   ]
  },
  {
   "cell_type": "markdown",
   "metadata": {},
   "source": [
    "Mejoremos nuestra clase Cohete permitiendo crear cohetes que comiencen en posiciones distintas a (0,0)"
   ]
  },
  {
   "cell_type": "code",
   "execution_count": 14,
   "metadata": {},
   "outputs": [],
   "source": [
    "class Cohete():\n",
    "    # Cohete simula una nave espacial para un juego\n",
    "    #  or simulación de física\n",
    "    \n",
    "    def __init__(self, x=0, y=0):\n",
    "        # Cada cohete tiene una posición (x,y).\n",
    "        self.x = x\n",
    "        self.y = y\n",
    "        \n",
    "    def move_up(self):\n",
    "    # Incrementar la posición y del cohete.\n",
    "        self.y += 1"
   ]
  },
  {
   "cell_type": "markdown",
   "metadata": {},
   "source": [
    "Ahora creamos tres nuevos cohetes comenzando desde distintas posiciones"
   ]
  },
  {
   "cell_type": "code",
   "execution_count": 15,
   "metadata": {},
   "outputs": [],
   "source": [
    "cohetes = []\n",
    "cohetes.append(Cohete())\n",
    "cohetes.append(Cohete(0,10))\n",
    "cohetes.append(Cohete(100,0))"
   ]
  },
  {
   "cell_type": "markdown",
   "metadata": {},
   "source": [
    "Ahora mostremos donde se encuentra cada cohete de nuestra lista"
   ]
  },
  {
   "cell_type": "code",
   "execution_count": 16,
   "metadata": {},
   "outputs": [
    {
     "name": "stdout",
     "output_type": "stream",
     "text": [
      "Cohete 0 is at (0, 0).\n",
      "Cohete 1 is at (0, 10).\n",
      "Cohete 2 is at (100, 0).\n"
     ]
    }
   ],
   "source": [
    "for index,cohete in enumerate(cohetes):\n",
    "    print(\"Cohete %d is at (%d, %d).\" % (index, cohete.x, cohete.y))"
   ]
  },
  {
   "cell_type": "markdown",
   "metadata": {},
   "source": [
    "Nota: para más info sobre cómo se utiliza la función enumerate(): https://docs.python.org/3/library/functions.html#enumerate"
   ]
  },
  {
   "cell_type": "markdown",
   "metadata": {},
   "source": [
    "Agreguemos un método adicional llamado get_distance para que nos calcule la distancia entre dos cohetes y generalicemos el método move_up para que se pueda mover también por el eje de las x's"
   ]
  },
  {
   "cell_type": "code",
   "execution_count": 17,
   "metadata": {},
   "outputs": [],
   "source": [
    "from math import sqrt"
   ]
  },
  {
   "cell_type": "code",
   "execution_count": 18,
   "metadata": {},
   "outputs": [],
   "source": [
    "class Cohete():\n",
    "    # Cohete simula una nave espacial para un juego\n",
    "    #  or simulación de física\n",
    "    \n",
    "    def __init__(self, x=0, y=0):\n",
    "        # Cada cohete tiene una posición (x,y).\n",
    "        self.x = x\n",
    "        self.y = y\n",
    "        \n",
    "    def move_cohete(self, x_increment = 0, y_increment=1):\n",
    "    # Incrementar la posición y del cohete.\n",
    "        self.y += y_increment\n",
    "        self.x += x_increment\n",
    "        \n",
    "    def get_distance(self, otro_cohete):\n",
    "        #Calcula la distancia hacia otro cohete y regresa ese valor\n",
    "        distancia = sqrt((self.x-otro_cohete.x)**2+(self.y-otro_cohete.y)**2)\n",
    "        return distancia"
   ]
  },
  {
   "cell_type": "markdown",
   "metadata": {},
   "source": [
    "Ahora crearemos dos cohetes en lugares diferentes"
   ]
  },
  {
   "cell_type": "code",
   "execution_count": 21,
   "metadata": {},
   "outputs": [],
   "source": [
    "cohete_0 = Cohete()\n",
    "cohete_1 = Cohete(5,5)"
   ]
  },
  {
   "cell_type": "code",
   "execution_count": 23,
   "metadata": {},
   "outputs": [
    {
     "name": "stdout",
     "output_type": "stream",
     "text": [
      "Los cohetes están a 7.1 unidades de distancia\n"
     ]
    }
   ],
   "source": [
    "distancia = cohete_0.get_distance(cohete_1)\n",
    "distancia = round(distancia,1)\n",
    "print(\"Los cohetes están a {} unidades de distancia\".format(distancia))"
   ]
  },
  {
   "cell_type": "markdown",
   "metadata": {},
   "source": [
    "**Tiempo de hacer un ejercicio de clases en Python!**"
   ]
  },
  {
   "cell_type": "markdown",
   "metadata": {},
   "source": [
    "Otra de las características de la programación orientada a objetos es denominada **inheritance** (o herencia en español). Esto significa que se puede crear una nueva clase basado en una clase anterior: la nueva clase hereda todos los métodos y atributos propios de la clase base. Asimismo, la nueva clase puede crear métodos y atributos adicionales de acuerdo a como lo necesite. A la clase original se le llama **parent class** (superclase) y a la nueva clase **child class** (subclase)."
   ]
  },
  {
   "cell_type": "markdown",
   "metadata": {},
   "source": [
    "Una de las características más importantes de utilizar inheritance es reutilizar código. Creemos entonces un ejemplo de subclase para nuestra clase cohete. Esta nueva clase se llamará AutobusEspacial y será hijo de nuestra clase Cohete "
   ]
  },
  {
   "cell_type": "code",
   "execution_count": 25,
   "metadata": {},
   "outputs": [],
   "source": [
    "class AutobusEspacial(Cohete):\n",
    "    # Autobús Espacial simula es realmente un cohete reutilizable\n",
    "    \n",
    "    def __init__(self, x=0, y=0, vuelos_completados=0):\n",
    "        super().__init__(x, y)\n",
    "        self.vuelos_completados = vuelos_completados"
   ]
  },
  {
   "cell_type": "code",
   "execution_count": 26,
   "metadata": {},
   "outputs": [
    {
     "name": "stdout",
     "output_type": "stream",
     "text": [
      "<__main__.AutobusEspacial object at 0x10d5f44a8>\n"
     ]
    }
   ],
   "source": [
    "autobus = AutobusEspacial(10,0,3)\n",
    "print(autobus)"
   ]
  },
  {
   "cell_type": "code",
   "execution_count": 27,
   "metadata": {},
   "outputs": [
    {
     "name": "stdout",
     "output_type": "stream",
     "text": [
      "\n",
      "El autobús está en la posición (10, 0).\n",
      "El autobús ha completado 3 vuelos.\n"
     ]
    }
   ],
   "source": [
    "print(\"\\nEl autobús está en la posición (%d, %d).\" % (autobus.x, autobus.y))\n",
    "print(\"El autobús ha completado %d vuelos.\" % autobus.vuelos_completados)"
   ]
  }
 ],
 "metadata": {
  "kernelspec": {
   "display_name": "Python 3",
   "language": "python",
   "name": "python3"
  },
  "language_info": {
   "codemirror_mode": {
    "name": "ipython",
    "version": 3
   },
   "file_extension": ".py",
   "mimetype": "text/x-python",
   "name": "python",
   "nbconvert_exporter": "python",
   "pygments_lexer": "ipython3",
   "version": "3.6.3"
  }
 },
 "nbformat": 4,
 "nbformat_minor": 2
}
