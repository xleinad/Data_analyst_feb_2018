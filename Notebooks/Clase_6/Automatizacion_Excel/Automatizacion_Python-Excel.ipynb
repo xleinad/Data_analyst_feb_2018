{
 "cells": [
  {
   "cell_type": "markdown",
   "metadata": {},
   "source": [
    "# Automatización en Python para Excel"
   ]
  },
  {
   "cell_type": "markdown",
   "metadata": {},
   "source": [
    "Primero importamos las librerías necesarias"
   ]
  },
  {
   "cell_type": "code",
   "execution_count": 79,
   "metadata": {
    "collapsed": true
   },
   "outputs": [],
   "source": [
    "import pandas as pd\n",
    "import numpy as np\n",
    "import matplotlib.pyplot as plt\n",
    "%matplotlib inline"
   ]
  },
  {
   "cell_type": "code",
   "execution_count": 80,
   "metadata": {
    "collapsed": true
   },
   "outputs": [],
   "source": [
    "import openpyxl"
   ]
  },
  {
   "cell_type": "markdown",
   "metadata": {},
   "source": [
    "## Convertir un JSON a un libro de excel"
   ]
  },
  {
   "cell_type": "code",
   "execution_count": 81,
   "metadata": {},
   "outputs": [
    {
     "data": {
      "text/html": [
       "<div>\n",
       "<style>\n",
       "    .dataframe thead tr:only-child th {\n",
       "        text-align: right;\n",
       "    }\n",
       "\n",
       "    .dataframe thead th {\n",
       "        text-align: left;\n",
       "    }\n",
       "\n",
       "    .dataframe tbody tr th {\n",
       "        vertical-align: top;\n",
       "    }\n",
       "</style>\n",
       "<table border=\"1\" class=\"dataframe\">\n",
       "  <thead>\n",
       "    <tr style=\"text-align: right;\">\n",
       "      <th></th>\n",
       "      <th>prizes</th>\n",
       "    </tr>\n",
       "  </thead>\n",
       "  <tbody>\n",
       "    <tr>\n",
       "      <th>0</th>\n",
       "      <td>{'year': '2017', 'category': 'physics', 'laure...</td>\n",
       "    </tr>\n",
       "    <tr>\n",
       "      <th>1</th>\n",
       "      <td>{'year': '2017', 'category': 'chemistry', 'lau...</td>\n",
       "    </tr>\n",
       "    <tr>\n",
       "      <th>2</th>\n",
       "      <td>{'year': '2017', 'category': 'medicine', 'laur...</td>\n",
       "    </tr>\n",
       "    <tr>\n",
       "      <th>3</th>\n",
       "      <td>{'year': '2017', 'category': 'literature', 'la...</td>\n",
       "    </tr>\n",
       "    <tr>\n",
       "      <th>4</th>\n",
       "      <td>{'year': '2017', 'category': 'peace', 'laureat...</td>\n",
       "    </tr>\n",
       "    <tr>\n",
       "      <th>5</th>\n",
       "      <td>{'year': '2017', 'category': 'economics', 'lau...</td>\n",
       "    </tr>\n",
       "    <tr>\n",
       "      <th>6</th>\n",
       "      <td>{'year': '2016', 'category': 'physics', 'laure...</td>\n",
       "    </tr>\n",
       "    <tr>\n",
       "      <th>7</th>\n",
       "      <td>{'year': '2016', 'category': 'chemistry', 'lau...</td>\n",
       "    </tr>\n",
       "    <tr>\n",
       "      <th>8</th>\n",
       "      <td>{'year': '2016', 'category': 'medicine', 'laur...</td>\n",
       "    </tr>\n",
       "    <tr>\n",
       "      <th>9</th>\n",
       "      <td>{'year': '2016', 'category': 'literature', 'la...</td>\n",
       "    </tr>\n",
       "    <tr>\n",
       "      <th>10</th>\n",
       "      <td>{'year': '2016', 'category': 'peace', 'laureat...</td>\n",
       "    </tr>\n",
       "    <tr>\n",
       "      <th>11</th>\n",
       "      <td>{'year': '2016', 'category': 'economics', 'lau...</td>\n",
       "    </tr>\n",
       "    <tr>\n",
       "      <th>12</th>\n",
       "      <td>{'year': '2015', 'category': 'physics', 'laure...</td>\n",
       "    </tr>\n",
       "    <tr>\n",
       "      <th>13</th>\n",
       "      <td>{'year': '2015', 'category': 'chemistry', 'lau...</td>\n",
       "    </tr>\n",
       "    <tr>\n",
       "      <th>14</th>\n",
       "      <td>{'year': '2015', 'category': 'medicine', 'laur...</td>\n",
       "    </tr>\n",
       "    <tr>\n",
       "      <th>15</th>\n",
       "      <td>{'year': '2015', 'category': 'literature', 'la...</td>\n",
       "    </tr>\n",
       "    <tr>\n",
       "      <th>16</th>\n",
       "      <td>{'year': '2015', 'category': 'peace', 'laureat...</td>\n",
       "    </tr>\n",
       "    <tr>\n",
       "      <th>17</th>\n",
       "      <td>{'year': '2015', 'category': 'economics', 'lau...</td>\n",
       "    </tr>\n",
       "    <tr>\n",
       "      <th>18</th>\n",
       "      <td>{'year': '2014', 'category': 'physics', 'laure...</td>\n",
       "    </tr>\n",
       "    <tr>\n",
       "      <th>19</th>\n",
       "      <td>{'year': '2014', 'category': 'chemistry', 'lau...</td>\n",
       "    </tr>\n",
       "    <tr>\n",
       "      <th>20</th>\n",
       "      <td>{'year': '2014', 'category': 'medicine', 'laur...</td>\n",
       "    </tr>\n",
       "    <tr>\n",
       "      <th>21</th>\n",
       "      <td>{'year': '2014', 'category': 'literature', 'la...</td>\n",
       "    </tr>\n",
       "    <tr>\n",
       "      <th>22</th>\n",
       "      <td>{'year': '2014', 'category': 'peace', 'laureat...</td>\n",
       "    </tr>\n",
       "    <tr>\n",
       "      <th>23</th>\n",
       "      <td>{'year': '2014', 'category': 'economics', 'lau...</td>\n",
       "    </tr>\n",
       "    <tr>\n",
       "      <th>24</th>\n",
       "      <td>{'year': '2013', 'category': 'physics', 'laure...</td>\n",
       "    </tr>\n",
       "    <tr>\n",
       "      <th>25</th>\n",
       "      <td>{'year': '2013', 'category': 'chemistry', 'lau...</td>\n",
       "    </tr>\n",
       "    <tr>\n",
       "      <th>26</th>\n",
       "      <td>{'year': '2013', 'category': 'medicine', 'laur...</td>\n",
       "    </tr>\n",
       "    <tr>\n",
       "      <th>27</th>\n",
       "      <td>{'year': '2013', 'category': 'literature', 'la...</td>\n",
       "    </tr>\n",
       "    <tr>\n",
       "      <th>28</th>\n",
       "      <td>{'year': '2013', 'category': 'peace', 'laureat...</td>\n",
       "    </tr>\n",
       "    <tr>\n",
       "      <th>29</th>\n",
       "      <td>{'year': '2013', 'category': 'economics', 'lau...</td>\n",
       "    </tr>\n",
       "    <tr>\n",
       "      <th>...</th>\n",
       "      <td>...</td>\n",
       "    </tr>\n",
       "    <tr>\n",
       "      <th>555</th>\n",
       "      <td>{'year': '1906', 'category': 'physics', 'laure...</td>\n",
       "    </tr>\n",
       "    <tr>\n",
       "      <th>556</th>\n",
       "      <td>{'year': '1906', 'category': 'chemistry', 'lau...</td>\n",
       "    </tr>\n",
       "    <tr>\n",
       "      <th>557</th>\n",
       "      <td>{'year': '1906', 'category': 'medicine', 'laur...</td>\n",
       "    </tr>\n",
       "    <tr>\n",
       "      <th>558</th>\n",
       "      <td>{'year': '1906', 'category': 'literature', 'la...</td>\n",
       "    </tr>\n",
       "    <tr>\n",
       "      <th>559</th>\n",
       "      <td>{'year': '1906', 'category': 'peace', 'laureat...</td>\n",
       "    </tr>\n",
       "    <tr>\n",
       "      <th>560</th>\n",
       "      <td>{'year': '1905', 'category': 'physics', 'laure...</td>\n",
       "    </tr>\n",
       "    <tr>\n",
       "      <th>561</th>\n",
       "      <td>{'year': '1905', 'category': 'chemistry', 'lau...</td>\n",
       "    </tr>\n",
       "    <tr>\n",
       "      <th>562</th>\n",
       "      <td>{'year': '1905', 'category': 'medicine', 'laur...</td>\n",
       "    </tr>\n",
       "    <tr>\n",
       "      <th>563</th>\n",
       "      <td>{'year': '1905', 'category': 'literature', 'la...</td>\n",
       "    </tr>\n",
       "    <tr>\n",
       "      <th>564</th>\n",
       "      <td>{'year': '1905', 'category': 'peace', 'laureat...</td>\n",
       "    </tr>\n",
       "    <tr>\n",
       "      <th>565</th>\n",
       "      <td>{'year': '1904', 'category': 'physics', 'laure...</td>\n",
       "    </tr>\n",
       "    <tr>\n",
       "      <th>566</th>\n",
       "      <td>{'year': '1904', 'category': 'chemistry', 'lau...</td>\n",
       "    </tr>\n",
       "    <tr>\n",
       "      <th>567</th>\n",
       "      <td>{'year': '1904', 'category': 'medicine', 'laur...</td>\n",
       "    </tr>\n",
       "    <tr>\n",
       "      <th>568</th>\n",
       "      <td>{'year': '1904', 'category': 'literature', 'la...</td>\n",
       "    </tr>\n",
       "    <tr>\n",
       "      <th>569</th>\n",
       "      <td>{'year': '1904', 'category': 'peace', 'laureat...</td>\n",
       "    </tr>\n",
       "    <tr>\n",
       "      <th>570</th>\n",
       "      <td>{'year': '1903', 'category': 'physics', 'laure...</td>\n",
       "    </tr>\n",
       "    <tr>\n",
       "      <th>571</th>\n",
       "      <td>{'year': '1903', 'category': 'chemistry', 'lau...</td>\n",
       "    </tr>\n",
       "    <tr>\n",
       "      <th>572</th>\n",
       "      <td>{'year': '1903', 'category': 'medicine', 'laur...</td>\n",
       "    </tr>\n",
       "    <tr>\n",
       "      <th>573</th>\n",
       "      <td>{'year': '1903', 'category': 'literature', 'la...</td>\n",
       "    </tr>\n",
       "    <tr>\n",
       "      <th>574</th>\n",
       "      <td>{'year': '1903', 'category': 'peace', 'laureat...</td>\n",
       "    </tr>\n",
       "    <tr>\n",
       "      <th>575</th>\n",
       "      <td>{'year': '1902', 'category': 'physics', 'laure...</td>\n",
       "    </tr>\n",
       "    <tr>\n",
       "      <th>576</th>\n",
       "      <td>{'year': '1902', 'category': 'chemistry', 'lau...</td>\n",
       "    </tr>\n",
       "    <tr>\n",
       "      <th>577</th>\n",
       "      <td>{'year': '1902', 'category': 'medicine', 'laur...</td>\n",
       "    </tr>\n",
       "    <tr>\n",
       "      <th>578</th>\n",
       "      <td>{'year': '1902', 'category': 'literature', 'la...</td>\n",
       "    </tr>\n",
       "    <tr>\n",
       "      <th>579</th>\n",
       "      <td>{'year': '1902', 'category': 'peace', 'laureat...</td>\n",
       "    </tr>\n",
       "    <tr>\n",
       "      <th>580</th>\n",
       "      <td>{'year': '1901', 'category': 'physics', 'laure...</td>\n",
       "    </tr>\n",
       "    <tr>\n",
       "      <th>581</th>\n",
       "      <td>{'year': '1901', 'category': 'chemistry', 'lau...</td>\n",
       "    </tr>\n",
       "    <tr>\n",
       "      <th>582</th>\n",
       "      <td>{'year': '1901', 'category': 'medicine', 'laur...</td>\n",
       "    </tr>\n",
       "    <tr>\n",
       "      <th>583</th>\n",
       "      <td>{'year': '1901', 'category': 'literature', 'la...</td>\n",
       "    </tr>\n",
       "    <tr>\n",
       "      <th>584</th>\n",
       "      <td>{'year': '1901', 'category': 'peace', 'laureat...</td>\n",
       "    </tr>\n",
       "  </tbody>\n",
       "</table>\n",
       "<p>585 rows × 1 columns</p>\n",
       "</div>"
      ],
      "text/plain": [
       "                                                prizes\n",
       "0    {'year': '2017', 'category': 'physics', 'laure...\n",
       "1    {'year': '2017', 'category': 'chemistry', 'lau...\n",
       "2    {'year': '2017', 'category': 'medicine', 'laur...\n",
       "3    {'year': '2017', 'category': 'literature', 'la...\n",
       "4    {'year': '2017', 'category': 'peace', 'laureat...\n",
       "5    {'year': '2017', 'category': 'economics', 'lau...\n",
       "6    {'year': '2016', 'category': 'physics', 'laure...\n",
       "7    {'year': '2016', 'category': 'chemistry', 'lau...\n",
       "8    {'year': '2016', 'category': 'medicine', 'laur...\n",
       "9    {'year': '2016', 'category': 'literature', 'la...\n",
       "10   {'year': '2016', 'category': 'peace', 'laureat...\n",
       "11   {'year': '2016', 'category': 'economics', 'lau...\n",
       "12   {'year': '2015', 'category': 'physics', 'laure...\n",
       "13   {'year': '2015', 'category': 'chemistry', 'lau...\n",
       "14   {'year': '2015', 'category': 'medicine', 'laur...\n",
       "15   {'year': '2015', 'category': 'literature', 'la...\n",
       "16   {'year': '2015', 'category': 'peace', 'laureat...\n",
       "17   {'year': '2015', 'category': 'economics', 'lau...\n",
       "18   {'year': '2014', 'category': 'physics', 'laure...\n",
       "19   {'year': '2014', 'category': 'chemistry', 'lau...\n",
       "20   {'year': '2014', 'category': 'medicine', 'laur...\n",
       "21   {'year': '2014', 'category': 'literature', 'la...\n",
       "22   {'year': '2014', 'category': 'peace', 'laureat...\n",
       "23   {'year': '2014', 'category': 'economics', 'lau...\n",
       "24   {'year': '2013', 'category': 'physics', 'laure...\n",
       "25   {'year': '2013', 'category': 'chemistry', 'lau...\n",
       "26   {'year': '2013', 'category': 'medicine', 'laur...\n",
       "27   {'year': '2013', 'category': 'literature', 'la...\n",
       "28   {'year': '2013', 'category': 'peace', 'laureat...\n",
       "29   {'year': '2013', 'category': 'economics', 'lau...\n",
       "..                                                 ...\n",
       "555  {'year': '1906', 'category': 'physics', 'laure...\n",
       "556  {'year': '1906', 'category': 'chemistry', 'lau...\n",
       "557  {'year': '1906', 'category': 'medicine', 'laur...\n",
       "558  {'year': '1906', 'category': 'literature', 'la...\n",
       "559  {'year': '1906', 'category': 'peace', 'laureat...\n",
       "560  {'year': '1905', 'category': 'physics', 'laure...\n",
       "561  {'year': '1905', 'category': 'chemistry', 'lau...\n",
       "562  {'year': '1905', 'category': 'medicine', 'laur...\n",
       "563  {'year': '1905', 'category': 'literature', 'la...\n",
       "564  {'year': '1905', 'category': 'peace', 'laureat...\n",
       "565  {'year': '1904', 'category': 'physics', 'laure...\n",
       "566  {'year': '1904', 'category': 'chemistry', 'lau...\n",
       "567  {'year': '1904', 'category': 'medicine', 'laur...\n",
       "568  {'year': '1904', 'category': 'literature', 'la...\n",
       "569  {'year': '1904', 'category': 'peace', 'laureat...\n",
       "570  {'year': '1903', 'category': 'physics', 'laure...\n",
       "571  {'year': '1903', 'category': 'chemistry', 'lau...\n",
       "572  {'year': '1903', 'category': 'medicine', 'laur...\n",
       "573  {'year': '1903', 'category': 'literature', 'la...\n",
       "574  {'year': '1903', 'category': 'peace', 'laureat...\n",
       "575  {'year': '1902', 'category': 'physics', 'laure...\n",
       "576  {'year': '1902', 'category': 'chemistry', 'lau...\n",
       "577  {'year': '1902', 'category': 'medicine', 'laur...\n",
       "578  {'year': '1902', 'category': 'literature', 'la...\n",
       "579  {'year': '1902', 'category': 'peace', 'laureat...\n",
       "580  {'year': '1901', 'category': 'physics', 'laure...\n",
       "581  {'year': '1901', 'category': 'chemistry', 'lau...\n",
       "582  {'year': '1901', 'category': 'medicine', 'laur...\n",
       "583  {'year': '1901', 'category': 'literature', 'la...\n",
       "584  {'year': '1901', 'category': 'peace', 'laureat...\n",
       "\n",
       "[585 rows x 1 columns]"
      ]
     },
     "execution_count": 81,
     "metadata": {},
     "output_type": "execute_result"
    }
   ],
   "source": [
    "df = pd.read_json(\"http://api.nobelprize.org/v1/prize.json\")\n",
    "df"
   ]
  },
  {
   "cell_type": "code",
   "execution_count": 82,
   "metadata": {
    "collapsed": true
   },
   "outputs": [],
   "source": [
    "df2 = df.to_dict()"
   ]
  },
  {
   "cell_type": "code",
   "execution_count": 83,
   "metadata": {},
   "outputs": [
    {
     "data": {
      "text/plain": [
       "{'category': 'peace',\n",
       " 'laureates': [{'firstname': 'Jean Henry',\n",
       "   'id': '462',\n",
       "   'share': '2',\n",
       "   'surname': 'Dunant'},\n",
       "  {'firstname': 'Frédéric', 'id': '463', 'share': '2', 'surname': 'Passy'}],\n",
       " 'year': '1901'}"
      ]
     },
     "execution_count": 83,
     "metadata": {},
     "output_type": "execute_result"
    }
   ],
   "source": [
    "df2['prizes'][584]"
   ]
  },
  {
   "cell_type": "code",
   "execution_count": 84,
   "metadata": {},
   "outputs": [
    {
     "data": {
      "text/plain": [
       "585"
      ]
     },
     "execution_count": 84,
     "metadata": {},
     "output_type": "execute_result"
    }
   ],
   "source": [
    "len(df2['prizes'])"
   ]
  },
  {
   "cell_type": "code",
   "execution_count": 85,
   "metadata": {},
   "outputs": [
    {
     "data": {
      "text/html": [
       "<div>\n",
       "<style>\n",
       "    .dataframe thead tr:only-child th {\n",
       "        text-align: right;\n",
       "    }\n",
       "\n",
       "    .dataframe thead th {\n",
       "        text-align: left;\n",
       "    }\n",
       "\n",
       "    .dataframe tbody tr th {\n",
       "        vertical-align: top;\n",
       "    }\n",
       "</style>\n",
       "<table border=\"1\" class=\"dataframe\">\n",
       "  <thead>\n",
       "    <tr style=\"text-align: right;\">\n",
       "      <th></th>\n",
       "      <th>firstname</th>\n",
       "      <th>id</th>\n",
       "      <th>motivation</th>\n",
       "      <th>share</th>\n",
       "      <th>surname</th>\n",
       "    </tr>\n",
       "  </thead>\n",
       "  <tbody>\n",
       "    <tr>\n",
       "      <th>0</th>\n",
       "      <td>Rainer</td>\n",
       "      <td>941</td>\n",
       "      <td>\"for decisive contributions to the LIGO detect...</td>\n",
       "      <td>2</td>\n",
       "      <td>Weiss</td>\n",
       "    </tr>\n",
       "    <tr>\n",
       "      <th>1</th>\n",
       "      <td>Barry C.</td>\n",
       "      <td>942</td>\n",
       "      <td>\"for decisive contributions to the LIGO detect...</td>\n",
       "      <td>4</td>\n",
       "      <td>Barish</td>\n",
       "    </tr>\n",
       "    <tr>\n",
       "      <th>2</th>\n",
       "      <td>Kip S.</td>\n",
       "      <td>943</td>\n",
       "      <td>\"for decisive contributions to the LIGO detect...</td>\n",
       "      <td>4</td>\n",
       "      <td>Thorne</td>\n",
       "    </tr>\n",
       "  </tbody>\n",
       "</table>\n",
       "</div>"
      ],
      "text/plain": [
       "  firstname   id                                         motivation share  \\\n",
       "0    Rainer  941  \"for decisive contributions to the LIGO detect...     2   \n",
       "1  Barry C.  942  \"for decisive contributions to the LIGO detect...     4   \n",
       "2    Kip S.  943  \"for decisive contributions to the LIGO detect...     4   \n",
       "\n",
       "  surname  \n",
       "0   Weiss  \n",
       "1  Barish  \n",
       "2  Thorne  "
      ]
     },
     "execution_count": 85,
     "metadata": {},
     "output_type": "execute_result"
    }
   ],
   "source": [
    "pd.DataFrame(df2['prizes'][0]['laureates'])"
   ]
  },
  {
   "cell_type": "code",
   "execution_count": 86,
   "metadata": {},
   "outputs": [],
   "source": [
    "nobel = pd.DataFrame()\n",
    "for prize in range(0,len(df2['prizes'])):\n",
    "    laureates = pd.DataFrame(df2['prizes'][prize]['laureates'])\n",
    "    laureates['category'] = df2['prizes'][prize]['category']\n",
    "    laureates['year'] = df2['prizes'][prize]['year']\n",
    "    nobel = nobel.append(laureates,ignore_index=True) "
   ]
  },
  {
   "cell_type": "code",
   "execution_count": 87,
   "metadata": {},
   "outputs": [
    {
     "data": {
      "text/html": [
       "<div>\n",
       "<style>\n",
       "    .dataframe thead tr:only-child th {\n",
       "        text-align: right;\n",
       "    }\n",
       "\n",
       "    .dataframe thead th {\n",
       "        text-align: left;\n",
       "    }\n",
       "\n",
       "    .dataframe tbody tr th {\n",
       "        vertical-align: top;\n",
       "    }\n",
       "</style>\n",
       "<table border=\"1\" class=\"dataframe\">\n",
       "  <thead>\n",
       "    <tr style=\"text-align: right;\">\n",
       "      <th></th>\n",
       "      <th>category</th>\n",
       "      <th>firstname</th>\n",
       "      <th>id</th>\n",
       "      <th>motivation</th>\n",
       "      <th>share</th>\n",
       "      <th>surname</th>\n",
       "      <th>year</th>\n",
       "    </tr>\n",
       "  </thead>\n",
       "  <tbody>\n",
       "    <tr>\n",
       "      <th>0</th>\n",
       "      <td>physics</td>\n",
       "      <td>Rainer</td>\n",
       "      <td>941</td>\n",
       "      <td>\"for decisive contributions to the LIGO detect...</td>\n",
       "      <td>2</td>\n",
       "      <td>Weiss</td>\n",
       "      <td>2017</td>\n",
       "    </tr>\n",
       "    <tr>\n",
       "      <th>1</th>\n",
       "      <td>physics</td>\n",
       "      <td>Barry C.</td>\n",
       "      <td>942</td>\n",
       "      <td>\"for decisive contributions to the LIGO detect...</td>\n",
       "      <td>4</td>\n",
       "      <td>Barish</td>\n",
       "      <td>2017</td>\n",
       "    </tr>\n",
       "    <tr>\n",
       "      <th>2</th>\n",
       "      <td>physics</td>\n",
       "      <td>Kip S.</td>\n",
       "      <td>943</td>\n",
       "      <td>\"for decisive contributions to the LIGO detect...</td>\n",
       "      <td>4</td>\n",
       "      <td>Thorne</td>\n",
       "      <td>2017</td>\n",
       "    </tr>\n",
       "    <tr>\n",
       "      <th>3</th>\n",
       "      <td>chemistry</td>\n",
       "      <td>Jacques</td>\n",
       "      <td>944</td>\n",
       "      <td>\"for developing cryo-electron microscopy for t...</td>\n",
       "      <td>3</td>\n",
       "      <td>Dubochet</td>\n",
       "      <td>2017</td>\n",
       "    </tr>\n",
       "    <tr>\n",
       "      <th>4</th>\n",
       "      <td>chemistry</td>\n",
       "      <td>Joachim</td>\n",
       "      <td>945</td>\n",
       "      <td>\"for developing cryo-electron microscopy for t...</td>\n",
       "      <td>3</td>\n",
       "      <td>Frank</td>\n",
       "      <td>2017</td>\n",
       "    </tr>\n",
       "  </tbody>\n",
       "</table>\n",
       "</div>"
      ],
      "text/plain": [
       "    category firstname   id  \\\n",
       "0    physics    Rainer  941   \n",
       "1    physics  Barry C.  942   \n",
       "2    physics    Kip S.  943   \n",
       "3  chemistry   Jacques  944   \n",
       "4  chemistry   Joachim  945   \n",
       "\n",
       "                                          motivation share   surname  year  \n",
       "0  \"for decisive contributions to the LIGO detect...     2     Weiss  2017  \n",
       "1  \"for decisive contributions to the LIGO detect...     4    Barish  2017  \n",
       "2  \"for decisive contributions to the LIGO detect...     4    Thorne  2017  \n",
       "3  \"for developing cryo-electron microscopy for t...     3  Dubochet  2017  \n",
       "4  \"for developing cryo-electron microscopy for t...     3     Frank  2017  "
      ]
     },
     "execution_count": 87,
     "metadata": {},
     "output_type": "execute_result"
    }
   ],
   "source": [
    "nobel.head()"
   ]
  },
  {
   "cell_type": "code",
   "execution_count": 88,
   "metadata": {},
   "outputs": [
    {
     "data": {
      "text/html": [
       "<div>\n",
       "<style>\n",
       "    .dataframe thead tr:only-child th {\n",
       "        text-align: right;\n",
       "    }\n",
       "\n",
       "    .dataframe thead th {\n",
       "        text-align: left;\n",
       "    }\n",
       "\n",
       "    .dataframe tbody tr th {\n",
       "        vertical-align: top;\n",
       "    }\n",
       "</style>\n",
       "<table border=\"1\" class=\"dataframe\">\n",
       "  <thead>\n",
       "    <tr style=\"text-align: right;\">\n",
       "      <th></th>\n",
       "      <th>category</th>\n",
       "      <th>firstname</th>\n",
       "      <th>id</th>\n",
       "      <th>motivation</th>\n",
       "      <th>share</th>\n",
       "      <th>surname</th>\n",
       "      <th>year</th>\n",
       "    </tr>\n",
       "  </thead>\n",
       "  <tbody>\n",
       "    <tr>\n",
       "      <th>918</th>\n",
       "      <td>chemistry</td>\n",
       "      <td>Jacobus Henricus</td>\n",
       "      <td>160</td>\n",
       "      <td>\"in recognition of the extraordinary services ...</td>\n",
       "      <td>1</td>\n",
       "      <td>van 't Hoff</td>\n",
       "      <td>1901</td>\n",
       "    </tr>\n",
       "    <tr>\n",
       "      <th>919</th>\n",
       "      <td>medicine</td>\n",
       "      <td>Emil Adolf</td>\n",
       "      <td>293</td>\n",
       "      <td>\"for his work on serum therapy, especially its...</td>\n",
       "      <td>1</td>\n",
       "      <td>von Behring</td>\n",
       "      <td>1901</td>\n",
       "    </tr>\n",
       "    <tr>\n",
       "      <th>920</th>\n",
       "      <td>literature</td>\n",
       "      <td>Sully</td>\n",
       "      <td>569</td>\n",
       "      <td>\"in special recognition of his poetic composit...</td>\n",
       "      <td>1</td>\n",
       "      <td>Prudhomme</td>\n",
       "      <td>1901</td>\n",
       "    </tr>\n",
       "    <tr>\n",
       "      <th>921</th>\n",
       "      <td>peace</td>\n",
       "      <td>Jean Henry</td>\n",
       "      <td>462</td>\n",
       "      <td>NaN</td>\n",
       "      <td>2</td>\n",
       "      <td>Dunant</td>\n",
       "      <td>1901</td>\n",
       "    </tr>\n",
       "    <tr>\n",
       "      <th>922</th>\n",
       "      <td>peace</td>\n",
       "      <td>Frédéric</td>\n",
       "      <td>463</td>\n",
       "      <td>NaN</td>\n",
       "      <td>2</td>\n",
       "      <td>Passy</td>\n",
       "      <td>1901</td>\n",
       "    </tr>\n",
       "  </tbody>\n",
       "</table>\n",
       "</div>"
      ],
      "text/plain": [
       "       category         firstname   id  \\\n",
       "918   chemistry  Jacobus Henricus  160   \n",
       "919    medicine        Emil Adolf  293   \n",
       "920  literature             Sully  569   \n",
       "921       peace        Jean Henry  462   \n",
       "922       peace          Frédéric  463   \n",
       "\n",
       "                                            motivation share      surname  \\\n",
       "918  \"in recognition of the extraordinary services ...     1  van 't Hoff   \n",
       "919  \"for his work on serum therapy, especially its...     1  von Behring   \n",
       "920  \"in special recognition of his poetic composit...     1    Prudhomme   \n",
       "921                                                NaN     2       Dunant   \n",
       "922                                                NaN     2        Passy   \n",
       "\n",
       "     year  \n",
       "918  1901  \n",
       "919  1901  \n",
       "920  1901  \n",
       "921  1901  \n",
       "922  1901  "
      ]
     },
     "execution_count": 88,
     "metadata": {},
     "output_type": "execute_result"
    }
   ],
   "source": [
    "nobel.tail()"
   ]
  },
  {
   "cell_type": "code",
   "execution_count": 89,
   "metadata": {},
   "outputs": [
    {
     "name": "stdout",
     "output_type": "stream",
     "text": [
      "<class 'pandas.core.frame.DataFrame'>\n",
      "RangeIndex: 923 entries, 0 to 922\n",
      "Data columns (total 7 columns):\n",
      "category      923 non-null object\n",
      "firstname     923 non-null object\n",
      "id            923 non-null object\n",
      "motivation    835 non-null object\n",
      "share         923 non-null object\n",
      "surname       923 non-null object\n",
      "year          923 non-null object\n",
      "dtypes: object(7)\n",
      "memory usage: 50.6+ KB\n"
     ]
    }
   ],
   "source": [
    "nobel.info()"
   ]
  },
  {
   "cell_type": "code",
   "execution_count": 90,
   "metadata": {},
   "outputs": [],
   "source": [
    "columns = ['id','share','year']\n",
    "for col in columns:\n",
    "    nobel[col] = pd.to_numeric(nobel[col])"
   ]
  },
  {
   "cell_type": "code",
   "execution_count": 91,
   "metadata": {},
   "outputs": [
    {
     "name": "stdout",
     "output_type": "stream",
     "text": [
      "<class 'pandas.core.frame.DataFrame'>\n",
      "RangeIndex: 923 entries, 0 to 922\n",
      "Data columns (total 7 columns):\n",
      "category      923 non-null object\n",
      "firstname     923 non-null object\n",
      "id            923 non-null int64\n",
      "motivation    835 non-null object\n",
      "share         923 non-null int64\n",
      "surname       923 non-null object\n",
      "year          923 non-null int64\n",
      "dtypes: int64(3), object(4)\n",
      "memory usage: 50.6+ KB\n"
     ]
    }
   ],
   "source": [
    "nobel.info()"
   ]
  },
  {
   "cell_type": "code",
   "execution_count": 92,
   "metadata": {
    "collapsed": true
   },
   "outputs": [],
   "source": [
    "from openpyxl.utils.dataframe import dataframe_to_rows"
   ]
  },
  {
   "cell_type": "code",
   "execution_count": 93,
   "metadata": {},
   "outputs": [],
   "source": [
    "wb = openpyxl.Workbook()\n",
    "ws = wb.active"
   ]
  },
  {
   "cell_type": "code",
   "execution_count": 94,
   "metadata": {},
   "outputs": [],
   "source": [
    "for r in dataframe_to_rows(nobel, index=False, header=True):\n",
    "    ws.append(r)"
   ]
  },
  {
   "cell_type": "code",
   "execution_count": 95,
   "metadata": {
    "collapsed": true
   },
   "outputs": [],
   "source": [
    "for cell in ws[1]:\n",
    "    cell.style = 'Pandas'"
   ]
  },
  {
   "cell_type": "code",
   "execution_count": 96,
   "metadata": {
    "collapsed": true
   },
   "outputs": [],
   "source": [
    "wb.save(\"pandas_nobel.xlsx\")"
   ]
  },
  {
   "cell_type": "markdown",
   "metadata": {},
   "source": [
    "## Cargar DataFrame desde Excel"
   ]
  },
  {
   "cell_type": "code",
   "execution_count": 97,
   "metadata": {
    "collapsed": true
   },
   "outputs": [],
   "source": [
    "wb_votacion_2006 = openpyxl.load_workbook(\"votacion_pres_2006.xlsx\")"
   ]
  },
  {
   "cell_type": "code",
   "execution_count": 98,
   "metadata": {},
   "outputs": [
    {
     "name": "stdout",
     "output_type": "stream",
     "text": [
      "['votacion_pres_2006']\n"
     ]
    }
   ],
   "source": [
    "print(wb_votacion_2006.get_sheet_names())"
   ]
  },
  {
   "cell_type": "code",
   "execution_count": 99,
   "metadata": {},
   "outputs": [],
   "source": [
    "ws_votacion_2006 = wb_votacion_2006['votacion_pres_2006']"
   ]
  },
  {
   "cell_type": "code",
   "execution_count": 100,
   "metadata": {},
   "outputs": [],
   "source": [
    "data = ws_votacion_2006.values\n",
    "cols = next(data)"
   ]
  },
  {
   "cell_type": "code",
   "execution_count": 101,
   "metadata": {},
   "outputs": [
    {
     "data": {
      "text/html": [
       "<div>\n",
       "<style>\n",
       "    .dataframe thead tr:only-child th {\n",
       "        text-align: right;\n",
       "    }\n",
       "\n",
       "    .dataframe thead th {\n",
       "        text-align: left;\n",
       "    }\n",
       "\n",
       "    .dataframe tbody tr th {\n",
       "        vertical-align: top;\n",
       "    }\n",
       "</style>\n",
       "<table border=\"1\" class=\"dataframe\">\n",
       "  <thead>\n",
       "    <tr style=\"text-align: right;\">\n",
       "      <th></th>\n",
       "      <th>id_estado</th>\n",
       "      <th>distrito</th>\n",
       "      <th>seccion</th>\n",
       "      <th>id_casilla</th>\n",
       "      <th>tipo_casilla</th>\n",
       "      <th>ext_contigua</th>\n",
       "      <th>tipo_candidatura</th>\n",
       "      <th>tipo_acta</th>\n",
       "      <th>lista_nominal</th>\n",
       "      <th>no_votos_nulos</th>\n",
       "      <th>...</th>\n",
       "      <th>orden</th>\n",
       "      <th>pan</th>\n",
       "      <th>apm</th>\n",
       "      <th>pbt</th>\n",
       "      <th>na</th>\n",
       "      <th>asdc</th>\n",
       "      <th>municipio</th>\n",
       "      <th>paquete_entregado</th>\n",
       "      <th>casilla_instalada</th>\n",
       "      <th>fecha_hora</th>\n",
       "    </tr>\n",
       "  </thead>\n",
       "  <tbody>\n",
       "    <tr>\n",
       "      <th>0</th>\n",
       "      <td>1</td>\n",
       "      <td>1</td>\n",
       "      <td>0</td>\n",
       "      <td>1</td>\n",
       "      <td>B</td>\n",
       "      <td>0</td>\n",
       "      <td>6</td>\n",
       "      <td>1</td>\n",
       "      <td>120</td>\n",
       "      <td>0</td>\n",
       "      <td>...</td>\n",
       "      <td>1</td>\n",
       "      <td>53</td>\n",
       "      <td>4</td>\n",
       "      <td>18</td>\n",
       "      <td>0</td>\n",
       "      <td>1</td>\n",
       "      <td>0</td>\n",
       "      <td>0</td>\n",
       "      <td>0</td>\n",
       "      <td>2006-05-07 23:22:10</td>\n",
       "    </tr>\n",
       "    <tr>\n",
       "      <th>1</th>\n",
       "      <td>1</td>\n",
       "      <td>1</td>\n",
       "      <td>338</td>\n",
       "      <td>1</td>\n",
       "      <td>B</td>\n",
       "      <td>0</td>\n",
       "      <td>1</td>\n",
       "      <td>1</td>\n",
       "      <td>689</td>\n",
       "      <td>12</td>\n",
       "      <td>...</td>\n",
       "      <td>1</td>\n",
       "      <td>202</td>\n",
       "      <td>45</td>\n",
       "      <td>65</td>\n",
       "      <td>12</td>\n",
       "      <td>12</td>\n",
       "      <td>2</td>\n",
       "      <td>1</td>\n",
       "      <td>1</td>\n",
       "      <td>2006-05-07 08:17:05</td>\n",
       "    </tr>\n",
       "    <tr>\n",
       "      <th>2</th>\n",
       "      <td>1</td>\n",
       "      <td>1</td>\n",
       "      <td>338</td>\n",
       "      <td>1</td>\n",
       "      <td>C</td>\n",
       "      <td>0</td>\n",
       "      <td>1</td>\n",
       "      <td>1</td>\n",
       "      <td>689</td>\n",
       "      <td>7</td>\n",
       "      <td>...</td>\n",
       "      <td>2</td>\n",
       "      <td>175</td>\n",
       "      <td>38</td>\n",
       "      <td>56</td>\n",
       "      <td>3</td>\n",
       "      <td>8</td>\n",
       "      <td>2</td>\n",
       "      <td>1</td>\n",
       "      <td>1</td>\n",
       "      <td>2006-05-07 08:22:24</td>\n",
       "    </tr>\n",
       "    <tr>\n",
       "      <th>3</th>\n",
       "      <td>1</td>\n",
       "      <td>1</td>\n",
       "      <td>339</td>\n",
       "      <td>1</td>\n",
       "      <td>B</td>\n",
       "      <td>0</td>\n",
       "      <td>1</td>\n",
       "      <td>1</td>\n",
       "      <td>630</td>\n",
       "      <td>0</td>\n",
       "      <td>...</td>\n",
       "      <td>3</td>\n",
       "      <td>165</td>\n",
       "      <td>50</td>\n",
       "      <td>48</td>\n",
       "      <td>7</td>\n",
       "      <td>13</td>\n",
       "      <td>2</td>\n",
       "      <td>1</td>\n",
       "      <td>1</td>\n",
       "      <td>2006-05-07 08:24:47</td>\n",
       "    </tr>\n",
       "    <tr>\n",
       "      <th>4</th>\n",
       "      <td>1</td>\n",
       "      <td>1</td>\n",
       "      <td>339</td>\n",
       "      <td>1</td>\n",
       "      <td>C</td>\n",
       "      <td>0</td>\n",
       "      <td>1</td>\n",
       "      <td>1</td>\n",
       "      <td>631</td>\n",
       "      <td>6</td>\n",
       "      <td>...</td>\n",
       "      <td>4</td>\n",
       "      <td>174</td>\n",
       "      <td>64</td>\n",
       "      <td>32</td>\n",
       "      <td>9</td>\n",
       "      <td>7</td>\n",
       "      <td>2</td>\n",
       "      <td>1</td>\n",
       "      <td>1</td>\n",
       "      <td>2006-05-07 08:25:03</td>\n",
       "    </tr>\n",
       "  </tbody>\n",
       "</table>\n",
       "<p>5 rows × 23 columns</p>\n",
       "</div>"
      ],
      "text/plain": [
       "   id_estado  distrito  seccion  id_casilla tipo_casilla  ext_contigua  \\\n",
       "0          1         1        0           1            B             0   \n",
       "1          1         1      338           1            B             0   \n",
       "2          1         1      338           1            C             0   \n",
       "3          1         1      339           1            B             0   \n",
       "4          1         1      339           1            C             0   \n",
       "\n",
       "   tipo_candidatura  tipo_acta  lista_nominal  no_votos_nulos  \\\n",
       "0                 6          1            120               0   \n",
       "1                 1          1            689              12   \n",
       "2                 1          1            689               7   \n",
       "3                 1          1            630               0   \n",
       "4                 1          1            631               6   \n",
       "\n",
       "          ...          orden  pan  apm  pbt  na  asdc  municipio  \\\n",
       "0         ...              1   53    4   18   0     1          0   \n",
       "1         ...              1  202   45   65  12    12          2   \n",
       "2         ...              2  175   38   56   3     8          2   \n",
       "3         ...              3  165   50   48   7    13          2   \n",
       "4         ...              4  174   64   32   9     7          2   \n",
       "\n",
       "   paquete_entregado  casilla_instalada          fecha_hora  \n",
       "0                  0                  0 2006-05-07 23:22:10  \n",
       "1                  1                  1 2006-05-07 08:17:05  \n",
       "2                  1                  1 2006-05-07 08:22:24  \n",
       "3                  1                  1 2006-05-07 08:24:47  \n",
       "4                  1                  1 2006-05-07 08:25:03  \n",
       "\n",
       "[5 rows x 23 columns]"
      ]
     },
     "execution_count": 101,
     "metadata": {},
     "output_type": "execute_result"
    }
   ],
   "source": [
    "df_vot_2006 = pd.DataFrame(data=data, columns=cols)\n",
    "df_vot_2006.head()"
   ]
  },
  {
   "cell_type": "code",
   "execution_count": 102,
   "metadata": {},
   "outputs": [
    {
     "name": "stdout",
     "output_type": "stream",
     "text": [
      "<class 'pandas.core.frame.DataFrame'>\n",
      "RangeIndex: 130788 entries, 0 to 130787\n",
      "Data columns (total 23 columns):\n",
      "id_estado            130788 non-null int64\n",
      "distrito             130788 non-null int64\n",
      "seccion              130788 non-null int64\n",
      "id_casilla           130788 non-null int64\n",
      "tipo_casilla         130788 non-null object\n",
      "ext_contigua         130788 non-null int64\n",
      "tipo_candidatura     130788 non-null int64\n",
      "tipo_acta            130788 non-null int64\n",
      "lista_nominal        130788 non-null int64\n",
      "no_votos_nulos       130788 non-null int64\n",
      "no_votos_can_nreg    130788 non-null int64\n",
      "no_votos_validos     130788 non-null int64\n",
      "total_votos          130788 non-null int64\n",
      "orden                130788 non-null int64\n",
      "pan                  130788 non-null int64\n",
      "apm                  130788 non-null int64\n",
      "pbt                  130788 non-null int64\n",
      "na                   130788 non-null int64\n",
      "asdc                 130788 non-null int64\n",
      "municipio            130788 non-null int64\n",
      "paquete_entregado    130788 non-null int64\n",
      "casilla_instalada    130788 non-null int64\n",
      "fecha_hora           130788 non-null datetime64[ns]\n",
      "dtypes: datetime64[ns](1), int64(21), object(1)\n",
      "memory usage: 23.0+ MB\n"
     ]
    }
   ],
   "source": [
    "df_vot_2006.info()"
   ]
  },
  {
   "cell_type": "markdown",
   "metadata": {},
   "source": [
    "## Estudio de Caso"
   ]
  },
  {
   "cell_type": "code",
   "execution_count": 103,
   "metadata": {},
   "outputs": [
    {
     "data": {
      "text/plain": [
       "0         63.333333\n",
       "1         51.233672\n",
       "2         43.251089\n",
       "3         44.920635\n",
       "4         47.068146\n",
       "5         57.166392\n",
       "6         53.377265\n",
       "7         62.688822\n",
       "8         59.276018\n",
       "9         58.168761\n",
       "10        49.910233\n",
       "11        62.745098\n",
       "12        61.064426\n",
       "13        64.475524\n",
       "14        49.183007\n",
       "15        57.748777\n",
       "16        50.407830\n",
       "17        47.368421\n",
       "18        45.161290\n",
       "19        50.254669\n",
       "20        62.889518\n",
       "21        49.433428\n",
       "22        57.819905\n",
       "23        55.292259\n",
       "24        59.621451\n",
       "25        54.188948\n",
       "26        50.267380\n",
       "27        50.000000\n",
       "28        47.766323\n",
       "29        50.943396\n",
       "            ...    \n",
       "130758    50.911854\n",
       "130759    61.456103\n",
       "130760    58.886510\n",
       "130761    52.025586\n",
       "130762    55.650320\n",
       "130763    56.660040\n",
       "130764    59.443340\n",
       "130765    65.042980\n",
       "130766    55.696203\n",
       "130767    63.988095\n",
       "130768    51.550388\n",
       "130769    31.016043\n",
       "130770    54.030501\n",
       "130771    54.484305\n",
       "130772    48.373102\n",
       "130773    59.782609\n",
       "130774    51.627907\n",
       "130775    53.023256\n",
       "130776    61.538462\n",
       "130777    65.551181\n",
       "130778    61.328125\n",
       "130779    58.823529\n",
       "130780    48.022599\n",
       "130781    62.184874\n",
       "130782    54.037267\n",
       "130783    83.582090\n",
       "130784    55.801105\n",
       "130785    60.805861\n",
       "130786    66.425993\n",
       "130787    39.587629\n",
       "Name: prop_vot, Length: 130788, dtype: float64"
      ]
     },
     "execution_count": 103,
     "metadata": {},
     "output_type": "execute_result"
    }
   ],
   "source": [
    "df_vot_2006['prop_vot']= (df_vot_2006['total_votos']/df_vot_2006['lista_nominal']*100)\n",
    "df_vot_2006['prop_vot']"
   ]
  },
  {
   "cell_type": "code",
   "execution_count": 104,
   "metadata": {},
   "outputs": [
    {
     "data": {
      "text/plain": [
       "0         0.000000\n",
       "1         3.399433\n",
       "2         2.348993\n",
       "3         0.000000\n",
       "4         2.020202\n",
       "5         2.305476\n",
       "6         3.703704\n",
       "7         2.168675\n",
       "8         2.035623\n",
       "9         2.160494\n",
       "10        1.438849\n",
       "11        3.571429\n",
       "12        3.211009\n",
       "13        2.603037\n",
       "14        2.325581\n",
       "15        2.259887\n",
       "16        1.941748\n",
       "17        1.075269\n",
       "18        1.879699\n",
       "19        6.081081\n",
       "20        1.801802\n",
       "21        3.724928\n",
       "22        3.551913\n",
       "23        3.142857\n",
       "24        1.851852\n",
       "25        2.960526\n",
       "26        3.900709\n",
       "27        0.687285\n",
       "28        2.517986\n",
       "29        2.693603\n",
       "            ...   \n",
       "130758    1.194030\n",
       "130759    2.090592\n",
       "130760    2.545455\n",
       "130761    2.459016\n",
       "130762    1.149425\n",
       "130763    2.807018\n",
       "130764    2.341137\n",
       "130765    0.000000\n",
       "130766    5.303030\n",
       "130767    1.860465\n",
       "130768    2.255639\n",
       "130769    5.172414\n",
       "130770    2.419355\n",
       "130771    2.880658\n",
       "130772    3.587444\n",
       "130773    4.242424\n",
       "130774    1.351351\n",
       "130775    3.070175\n",
       "130776    1.602564\n",
       "130777    1.501502\n",
       "130778    0.000000\n",
       "130779    8.000000\n",
       "130780    3.529412\n",
       "130781    4.054054\n",
       "130782    0.000000\n",
       "130783    1.785714\n",
       "130784    4.950495\n",
       "130785    0.602410\n",
       "130786    4.891304\n",
       "130787    4.687500\n",
       "Name: prop_nulos, Length: 130788, dtype: float64"
      ]
     },
     "execution_count": 104,
     "metadata": {},
     "output_type": "execute_result"
    }
   ],
   "source": [
    "df_vot_2006['prop_nulos']= (df_vot_2006['no_votos_nulos']/df_vot_2006['total_votos']*100)\n",
    "df_vot_2006['prop_nulos']"
   ]
  },
  {
   "cell_type": "code",
   "execution_count": 105,
   "metadata": {},
   "outputs": [
    {
     "data": {
      "text/plain": [
       "2421      10.465116\n",
       "2431      10.373444\n",
       "2845      10.273973\n",
       "3944      14.716981\n",
       "4115      50.000000\n",
       "4198      11.217949\n",
       "4837      10.294118\n",
       "5072      13.333333\n",
       "5607      46.562500\n",
       "5623      11.614731\n",
       "5791      11.500975\n",
       "5799      11.497326\n",
       "5901      10.218978\n",
       "6212      10.028653\n",
       "6260      12.169312\n",
       "6295      10.216718\n",
       "6822      11.711712\n",
       "7053      10.661765\n",
       "7426      50.000000\n",
       "7739      12.500000\n",
       "7790      11.787072\n",
       "8348      12.000000\n",
       "10263     14.210526\n",
       "10434     22.421525\n",
       "10459     16.793893\n",
       "10471     43.502825\n",
       "10489     10.727969\n",
       "10491     14.583333\n",
       "10494     12.169312\n",
       "10557     13.478261\n",
       "            ...    \n",
       "125974    10.505837\n",
       "126086    10.823529\n",
       "126186    11.572052\n",
       "127404    41.184388\n",
       "127599    24.260355\n",
       "127965    11.370262\n",
       "128041    13.966480\n",
       "128141    15.873016\n",
       "128605    10.493827\n",
       "128670    10.294118\n",
       "128762    10.638298\n",
       "128932    11.320755\n",
       "129019    11.111111\n",
       "129089    12.213740\n",
       "129092    16.071429\n",
       "129166    10.169492\n",
       "129217    11.290323\n",
       "129312    12.121212\n",
       "129367    10.679612\n",
       "129493    10.344828\n",
       "129622    10.784314\n",
       "129628    11.206897\n",
       "129671    17.857143\n",
       "129701    50.000000\n",
       "129743    10.714286\n",
       "129832    12.121212\n",
       "129858    10.322581\n",
       "129870    11.904762\n",
       "130111    11.246201\n",
       "130605    10.526316\n",
       "Name: prop_nulos, Length: 1348, dtype: float64"
      ]
     },
     "execution_count": 105,
     "metadata": {},
     "output_type": "execute_result"
    }
   ],
   "source": [
    "df_mas_del_10_nulos = df_vot_2006[df_vot_2006['prop_nulos']>10]\n",
    "df_mas_del_10_nulos['prop_nulos']"
   ]
  },
  {
   "cell_type": "code",
   "execution_count": 106,
   "metadata": {},
   "outputs": [
    {
     "data": {
      "text/plain": [
       "1348"
      ]
     },
     "execution_count": 106,
     "metadata": {},
     "output_type": "execute_result"
    }
   ],
   "source": [
    "len(df_mas_del_10_nulos['prop_nulos'])"
   ]
  },
  {
   "cell_type": "code",
   "execution_count": 107,
   "metadata": {},
   "outputs": [],
   "source": [
    "partidos = ['pan','pbt','apm','total_votos']"
   ]
  },
  {
   "cell_type": "code",
   "execution_count": 108,
   "metadata": {
    "scrolled": false
   },
   "outputs": [
    {
     "data": {
      "text/plain": [
       "{'apm': [9301441, 22.26],\n",
       " 'pan': [15000284, 35.89],\n",
       " 'pbt': [14756350, 35.31],\n",
       " 'total_votos': [41791322, 100.0]}"
      ]
     },
     "execution_count": 108,
     "metadata": {},
     "output_type": "execute_result"
    }
   ],
   "source": [
    "res_2006 = {partido: [df_vot_2006[partido].sum(),round(df_vot_2006[partido].sum()/df_vot_2006['total_votos'].sum()*100,2)] for partido in partidos}\n",
    "res_2006"
   ]
  },
  {
   "cell_type": "code",
   "execution_count": 109,
   "metadata": {
    "scrolled": true
   },
   "outputs": [
    {
     "name": "stdout",
     "output_type": "stream",
     "text": [
      "PAN 15000284 35.89\n",
      "PBT 14756350 35.31\n",
      "APM 9301441 22.26\n",
      "TOTAL_VOTOS 41791322 100.0\n"
     ]
    }
   ],
   "source": [
    "for partido in partidos:\n",
    "    print( partido.upper() + \" \" + str(res_2006[partido][0]) + \" \" +  str(res_2006[partido][1]))"
   ]
  },
  {
   "cell_type": "code",
   "execution_count": 110,
   "metadata": {},
   "outputs": [
    {
     "data": {
      "text/plain": [
       "{'apm': [100698, 32.55],\n",
       " 'pan': [70652, 22.84],\n",
       " 'pbt': [81528, 26.36],\n",
       " 'total_votos': [309331, 100.0]}"
      ]
     },
     "execution_count": 110,
     "metadata": {},
     "output_type": "execute_result"
    }
   ],
   "source": [
    "res_2006_10mas = {partido: [df_mas_del_10_nulos[partido].sum(),round(df_mas_del_10_nulos[partido].sum()/df_mas_del_10_nulos['total_votos'].sum()*100,2)] for partido in partidos}\n",
    "res_2006_10mas"
   ]
  },
  {
   "cell_type": "code",
   "execution_count": 111,
   "metadata": {},
   "outputs": [
    {
     "name": "stdout",
     "output_type": "stream",
     "text": [
      "PAN 70652 22.84\n",
      "PBT 81528 26.36\n",
      "APM 100698 32.55\n",
      "TOTAL_VOTOS 309331 100.0\n"
     ]
    }
   ],
   "source": [
    "for partido in partidos:\n",
    "    print( partido.upper() + \" \" + str(res_2006_10mas[partido][0]) + \" \" +  str(res_2006_10mas[partido][1]))"
   ]
  },
  {
   "cell_type": "code",
   "execution_count": 112,
   "metadata": {
    "collapsed": true
   },
   "outputs": [],
   "source": [
    "df_vot_2006['pan-pbt'] = df_vot_2006['pan']-df_vot_2006['pbt']"
   ]
  },
  {
   "cell_type": "code",
   "execution_count": 113,
   "metadata": {},
   "outputs": [],
   "source": [
    "gran_dif = (df_vot_2006['pan-pbt']>200) | (df_vot_2006['pan-pbt']<-200)"
   ]
  },
  {
   "cell_type": "code",
   "execution_count": 114,
   "metadata": {},
   "outputs": [
    {
     "data": {
      "text/plain": [
       "9785"
      ]
     },
     "execution_count": 114,
     "metadata": {},
     "output_type": "execute_result"
    }
   ],
   "source": [
    "df_gran_dif_2006 = df_vot_2006[gran_dif]\n",
    "len(df_gran_dif_2006)"
   ]
  },
  {
   "cell_type": "code",
   "execution_count": 115,
   "metadata": {
    "scrolled": false
   },
   "outputs": [
    {
     "data": {
      "text/plain": [
       "{'apm': [635253, 14.99],\n",
       " 'pan': [1706917, 40.270000000000003],\n",
       " 'pbt': [1701090, 40.140000000000001],\n",
       " 'total_votos': [4238222, 100.0]}"
      ]
     },
     "execution_count": 115,
     "metadata": {},
     "output_type": "execute_result"
    }
   ],
   "source": [
    "res_gran_dif_2006 = {partido: [df_gran_dif_2006[partido].sum(),round(df_gran_dif_2006[partido].sum()/df_gran_dif_2006['total_votos'].sum()*100,2)] for partido in partidos}\n",
    "res_gran_dif_2006"
   ]
  },
  {
   "cell_type": "code",
   "execution_count": 116,
   "metadata": {
    "scrolled": true
   },
   "outputs": [
    {
     "name": "stdout",
     "output_type": "stream",
     "text": [
      "PAN 1706917 40.27\n",
      "PBT 1701090 40.14\n",
      "APM 635253 14.99\n",
      "TOTAL_VOTOS 4238222 100.0\n"
     ]
    }
   ],
   "source": [
    "for partido in partidos:\n",
    "    print( partido.upper() + \" \" + str(res_gran_dif_2006[partido][0]) + \" \" +  str(res_gran_dif_2006[partido][1]))"
   ]
  },
  {
   "cell_type": "code",
   "execution_count": 117,
   "metadata": {},
   "outputs": [
    {
     "data": {
      "text/plain": [
       "101509"
      ]
     },
     "execution_count": 117,
     "metadata": {},
     "output_type": "execute_result"
    }
   ],
   "source": [
    "df_alta_votacion = df_vot_2006[df_vot_2006['prop_vot']>50]\n",
    "len(df_alta_votacion['prop_vot'])"
   ]
  },
  {
   "cell_type": "code",
   "execution_count": 118,
   "metadata": {},
   "outputs": [
    {
     "data": {
      "text/plain": [
       "{'apm': [7414727, 21.16],\n",
       " 'pan': [12838633, 36.640000000000001],\n",
       " 'pbt': [12523725, 35.740000000000002],\n",
       " 'total_votos': [35041853, 100.0]}"
      ]
     },
     "execution_count": 118,
     "metadata": {},
     "output_type": "execute_result"
    }
   ],
   "source": [
    "res_alta_votacion_2006 = {partido: [df_alta_votacion[partido].sum(),round(df_alta_votacion[partido].sum()/df_alta_votacion['total_votos'].sum()*100,2)] for partido in partidos}\n",
    "res_alta_votacion_2006"
   ]
  },
  {
   "cell_type": "markdown",
   "metadata": {},
   "source": [
    "## Gráficas en Excel"
   ]
  },
  {
   "cell_type": "code",
   "execution_count": 119,
   "metadata": {
    "collapsed": true
   },
   "outputs": [],
   "source": [
    "from openpyxl.chart import BarChart, Series, Reference"
   ]
  },
  {
   "cell_type": "code",
   "execution_count": 120,
   "metadata": {
    "collapsed": true
   },
   "outputs": [],
   "source": [
    "wb = openpyxl.Workbook(write_only=True)\n",
    "ws = wb.create_sheet()"
   ]
  },
  {
   "cell_type": "code",
   "execution_count": 121,
   "metadata": {
    "collapsed": true
   },
   "outputs": [],
   "source": [
    "resultados = [res_2006,res_2006_10mas,res_gran_dif_2006,res_alta_votacion_2006]\n",
    "partidos_chart = ['pan','pbt','apm']"
   ]
  },
  {
   "cell_type": "code",
   "execution_count": 122,
   "metadata": {},
   "outputs": [],
   "source": [
    "data =[[round(res[partido][1],2) for partido in partidos_chart] for res in resultados] "
   ]
  },
  {
   "cell_type": "code",
   "execution_count": 123,
   "metadata": {},
   "outputs": [
    {
     "data": {
      "text/plain": [
       "[['pan', 'pbt', 'apm'],\n",
       " [35.89, 35.31, 22.26],\n",
       " [22.84, 26.36, 32.55],\n",
       " [40.270000000000003, 40.140000000000001, 14.99],\n",
       " [36.640000000000001, 35.740000000000002, 21.16],\n",
       " ['2006', 'Nulos', 'Gran Diferencia', 'Votación Alta']]"
      ]
     },
     "execution_count": 123,
     "metadata": {},
     "output_type": "execute_result"
    }
   ],
   "source": [
    "rows = [partidos_chart] + data + [['2006','Nulos','Gran Diferencia','Votación Alta']]\n",
    "rows"
   ]
  },
  {
   "cell_type": "code",
   "execution_count": 124,
   "metadata": {},
   "outputs": [],
   "source": [
    "for row in rows:\n",
    "    ws.append(row)"
   ]
  },
  {
   "cell_type": "code",
   "execution_count": 125,
   "metadata": {},
   "outputs": [],
   "source": [
    "chart1 = BarChart()\n",
    "chart1.type = \"col\"\n",
    "chart1.style = 10\n",
    "chart1.title = \"Elecciones Presidenciales 2006\"\n",
    "chart1.y_axis.title = '% de votación'\n",
    "chart1.x_axis.title = 'Escenarios'\n",
    "data = Reference(ws, min_col=1, min_row=1, max_row=5, max_col=3)\n",
    "cats = Reference(ws, min_col=1, min_row=6, max_row=6, max_col=4)\n",
    "chart1.add_data(data, titles_from_data=True)\n",
    "chart1.set_categories(cats)\n",
    "chart1.shape = 4\n",
    "ws.add_chart(chart1, \"A10\")"
   ]
  },
  {
   "cell_type": "code",
   "execution_count": 126,
   "metadata": {
    "collapsed": true
   },
   "outputs": [],
   "source": [
    "from copy import deepcopy\n",
    "\n",
    "chart2 = deepcopy(chart1)\n",
    "chart2.style = 11\n",
    "chart2.type = \"bar\"\n",
    "chart2.title = \"Elecciones Presidenciales 2016\"\n",
    "\n",
    "ws.add_chart(chart2, \"H10\")"
   ]
  },
  {
   "cell_type": "code",
   "execution_count": 127,
   "metadata": {
    "collapsed": true
   },
   "outputs": [],
   "source": [
    "wb.save(\"bar.xlsx\")"
   ]
  },
  {
   "cell_type": "markdown",
   "metadata": {},
   "source": [
    "## Reportes de Ventas"
   ]
  },
  {
   "cell_type": "code",
   "execution_count": 401,
   "metadata": {},
   "outputs": [
    {
     "data": {
      "text/html": [
       "<div>\n",
       "<style>\n",
       "    .dataframe thead tr:only-child th {\n",
       "        text-align: right;\n",
       "    }\n",
       "\n",
       "    .dataframe thead th {\n",
       "        text-align: left;\n",
       "    }\n",
       "\n",
       "    .dataframe tbody tr th {\n",
       "        vertical-align: top;\n",
       "    }\n",
       "</style>\n",
       "<table border=\"1\" class=\"dataframe\">\n",
       "  <thead>\n",
       "    <tr style=\"text-align: right;\">\n",
       "      <th></th>\n",
       "      <th>date</th>\n",
       "      <th>id</th>\n",
       "      <th>amount</th>\n",
       "      <th>size</th>\n",
       "      <th>gender</th>\n",
       "    </tr>\n",
       "  </thead>\n",
       "  <tbody>\n",
       "    <tr>\n",
       "      <th>0</th>\n",
       "      <td>2017-01-05</td>\n",
       "      <td>1</td>\n",
       "      <td>$2759.25</td>\n",
       "      <td>XS</td>\n",
       "      <td>Female</td>\n",
       "    </tr>\n",
       "    <tr>\n",
       "      <th>1</th>\n",
       "      <td>2017-01-18</td>\n",
       "      <td>2</td>\n",
       "      <td>$4809.65</td>\n",
       "      <td>3XL</td>\n",
       "      <td>Female</td>\n",
       "    </tr>\n",
       "    <tr>\n",
       "      <th>2</th>\n",
       "      <td>2017-01-02</td>\n",
       "      <td>3</td>\n",
       "      <td>$195.69</td>\n",
       "      <td>M</td>\n",
       "      <td>Female</td>\n",
       "    </tr>\n",
       "    <tr>\n",
       "      <th>3</th>\n",
       "      <td>2017-01-28</td>\n",
       "      <td>4</td>\n",
       "      <td>$3569.84</td>\n",
       "      <td>L</td>\n",
       "      <td>Female</td>\n",
       "    </tr>\n",
       "    <tr>\n",
       "      <th>4</th>\n",
       "      <td>2017-01-28</td>\n",
       "      <td>5</td>\n",
       "      <td>$4033.22</td>\n",
       "      <td>S</td>\n",
       "      <td>Male</td>\n",
       "    </tr>\n",
       "  </tbody>\n",
       "</table>\n",
       "</div>"
      ],
      "text/plain": [
       "        date  id    amount size  gender\n",
       "0 2017-01-05   1  $2759.25   XS  Female\n",
       "1 2017-01-18   2  $4809.65  3XL  Female\n",
       "2 2017-01-02   3   $195.69    M  Female\n",
       "3 2017-01-28   4  $3569.84    L  Female\n",
       "4 2017-01-28   5  $4033.22    S    Male"
      ]
     },
     "execution_count": 401,
     "metadata": {},
     "output_type": "execute_result"
    }
   ],
   "source": [
    "df = pd.read_excel('sales_data/1_Ene2017_Sales.xlsx')\n",
    "df.head()"
   ]
  },
  {
   "cell_type": "code",
   "execution_count": 402,
   "metadata": {},
   "outputs": [
    {
     "name": "stdout",
     "output_type": "stream",
     "text": [
      "<class 'pandas.core.frame.DataFrame'>\n",
      "RangeIndex: 1000 entries, 0 to 999\n",
      "Data columns (total 5 columns):\n",
      "date      1000 non-null datetime64[ns]\n",
      "id        1000 non-null int64\n",
      "amount    1000 non-null object\n",
      "size      1000 non-null object\n",
      "gender    1000 non-null object\n",
      "dtypes: datetime64[ns](1), int64(1), object(3)\n",
      "memory usage: 39.1+ KB\n"
     ]
    }
   ],
   "source": [
    "df.info()"
   ]
  },
  {
   "cell_type": "code",
   "execution_count": 413,
   "metadata": {},
   "outputs": [
    {
     "data": {
      "text/plain": [
       "0    2759.25\n",
       "1    4809.65\n",
       "2     195.69\n",
       "3    3569.84\n",
       "4    4033.22\n",
       "Name: amount, dtype: float64"
      ]
     },
     "execution_count": 413,
     "metadata": {},
     "output_type": "execute_result"
    }
   ],
   "source": [
    "df['amount'] = df['amount'].replace('[/$,]','',regex=True).astype(float)\n",
    "df['amount'].head()"
   ]
  },
  {
   "cell_type": "code",
   "execution_count": 416,
   "metadata": {},
   "outputs": [
    {
     "data": {
      "text/plain": [
       "0    1\n",
       "1    1\n",
       "2    1\n",
       "3    1\n",
       "4    1\n",
       "Name: month, dtype: int64"
      ]
     },
     "execution_count": 416,
     "metadata": {},
     "output_type": "execute_result"
    }
   ],
   "source": [
    "df['month'] = df['date'].dt.month\n",
    "df['month'].head()"
   ]
  },
  {
   "cell_type": "code",
   "execution_count": 421,
   "metadata": {},
   "outputs": [
    {
     "data": {
      "text/html": [
       "<div>\n",
       "<style>\n",
       "    .dataframe thead tr:only-child th {\n",
       "        text-align: right;\n",
       "    }\n",
       "\n",
       "    .dataframe thead th {\n",
       "        text-align: left;\n",
       "    }\n",
       "\n",
       "    .dataframe tbody tr th {\n",
       "        vertical-align: top;\n",
       "    }\n",
       "</style>\n",
       "<table border=\"1\" class=\"dataframe\">\n",
       "  <thead>\n",
       "    <tr style=\"text-align: right;\">\n",
       "      <th></th>\n",
       "      <th>id</th>\n",
       "      <th>amount</th>\n",
       "      <th>size</th>\n",
       "      <th>gender</th>\n",
       "      <th>month</th>\n",
       "    </tr>\n",
       "    <tr>\n",
       "      <th>date</th>\n",
       "      <th></th>\n",
       "      <th></th>\n",
       "      <th></th>\n",
       "      <th></th>\n",
       "      <th></th>\n",
       "    </tr>\n",
       "  </thead>\n",
       "  <tbody>\n",
       "    <tr>\n",
       "      <th>2017-01-05</th>\n",
       "      <td>1</td>\n",
       "      <td>2759.25</td>\n",
       "      <td>XS</td>\n",
       "      <td>Female</td>\n",
       "      <td>1</td>\n",
       "    </tr>\n",
       "    <tr>\n",
       "      <th>2017-01-18</th>\n",
       "      <td>2</td>\n",
       "      <td>4809.65</td>\n",
       "      <td>3XL</td>\n",
       "      <td>Female</td>\n",
       "      <td>1</td>\n",
       "    </tr>\n",
       "    <tr>\n",
       "      <th>2017-01-02</th>\n",
       "      <td>3</td>\n",
       "      <td>195.69</td>\n",
       "      <td>M</td>\n",
       "      <td>Female</td>\n",
       "      <td>1</td>\n",
       "    </tr>\n",
       "    <tr>\n",
       "      <th>2017-01-28</th>\n",
       "      <td>4</td>\n",
       "      <td>3569.84</td>\n",
       "      <td>L</td>\n",
       "      <td>Female</td>\n",
       "      <td>1</td>\n",
       "    </tr>\n",
       "    <tr>\n",
       "      <th>2017-01-28</th>\n",
       "      <td>5</td>\n",
       "      <td>4033.22</td>\n",
       "      <td>S</td>\n",
       "      <td>Male</td>\n",
       "      <td>1</td>\n",
       "    </tr>\n",
       "  </tbody>\n",
       "</table>\n",
       "</div>"
      ],
      "text/plain": [
       "            id   amount size  gender  month\n",
       "date                                       \n",
       "2017-01-05   1  2759.25   XS  Female      1\n",
       "2017-01-18   2  4809.65  3XL  Female      1\n",
       "2017-01-02   3   195.69    M  Female      1\n",
       "2017-01-28   4  3569.84    L  Female      1\n",
       "2017-01-28   5  4033.22    S    Male      1"
      ]
     },
     "execution_count": 421,
     "metadata": {},
     "output_type": "execute_result"
    }
   ],
   "source": [
    "df.set_index(keys'date',inplace=True)\n",
    "df.head()"
   ]
  },
  {
   "cell_type": "code",
   "execution_count": 422,
   "metadata": {
    "collapsed": true
   },
   "outputs": [],
   "source": [
    "meses = ['Ene','Feb','Mar','Abr','May','Jun','Jul','Ago','Sep','Oct','Nov','Dic']"
   ]
  },
  {
   "cell_type": "code",
   "execution_count": 427,
   "metadata": {
    "collapsed": true
   },
   "outputs": [],
   "source": [
    "rutas = []\n",
    "i = 1\n",
    "for mes in meses:\n",
    "    rutas.append('sales_data/'+ str(i)+'_'+ mes +'2017_Sales.xlsx')\n",
    "    i += 1 "
   ]
  },
  {
   "cell_type": "code",
   "execution_count": 428,
   "metadata": {},
   "outputs": [
    {
     "data": {
      "text/plain": [
       "['sales_data/1_Ene2017_Sales.xlsx',\n",
       " 'sales_data/2_Feb2017_Sales.xlsx',\n",
       " 'sales_data/3_Mar2017_Sales.xlsx',\n",
       " 'sales_data/4_Abr2017_Sales.xlsx',\n",
       " 'sales_data/5_May2017_Sales.xlsx',\n",
       " 'sales_data/6_Jun2017_Sales.xlsx',\n",
       " 'sales_data/7_Jul2017_Sales.xlsx',\n",
       " 'sales_data/8_Ago2017_Sales.xlsx',\n",
       " 'sales_data/9_Sep2017_Sales.xlsx',\n",
       " 'sales_data/10_Oct2017_Sales.xlsx',\n",
       " 'sales_data/11_Nov2017_Sales.xlsx',\n",
       " 'sales_data/12_Dic2017_Sales.xlsx']"
      ]
     },
     "execution_count": 428,
     "metadata": {},
     "output_type": "execute_result"
    }
   ],
   "source": [
    "rutas"
   ]
  },
  {
   "cell_type": "code",
   "execution_count": 430,
   "metadata": {},
   "outputs": [],
   "source": [
    "def procesar_ventas(ruta):\n",
    "    df = pd.read_excel(ruta)\n",
    "    df['amount'] = df['amount'].replace('[/$,]','',regex=True).astype(float)\n",
    "    df['month'] = df['date'].dt.month\n",
    "    df.set_index(keys='date',inplace=True)\n",
    "    return df"
   ]
  },
  {
   "cell_type": "code",
   "execution_count": 434,
   "metadata": {
    "collapsed": true
   },
   "outputs": [],
   "source": [
    "def concatenar_meses_ventas(rutas):\n",
    "    df = pd.DataFrame()\n",
    "    for ruta in rutas:\n",
    "        df = df.append(procesar_ventas(ruta))\n",
    "    return df"
   ]
  },
  {
   "cell_type": "code",
   "execution_count": 436,
   "metadata": {},
   "outputs": [
    {
     "data": {
      "text/html": [
       "<div>\n",
       "<style>\n",
       "    .dataframe thead tr:only-child th {\n",
       "        text-align: right;\n",
       "    }\n",
       "\n",
       "    .dataframe thead th {\n",
       "        text-align: left;\n",
       "    }\n",
       "\n",
       "    .dataframe tbody tr th {\n",
       "        vertical-align: top;\n",
       "    }\n",
       "</style>\n",
       "<table border=\"1\" class=\"dataframe\">\n",
       "  <thead>\n",
       "    <tr style=\"text-align: right;\">\n",
       "      <th></th>\n",
       "      <th>id</th>\n",
       "      <th>amount</th>\n",
       "      <th>size</th>\n",
       "      <th>gender</th>\n",
       "      <th>month</th>\n",
       "    </tr>\n",
       "    <tr>\n",
       "      <th>date</th>\n",
       "      <th></th>\n",
       "      <th></th>\n",
       "      <th></th>\n",
       "      <th></th>\n",
       "      <th></th>\n",
       "    </tr>\n",
       "  </thead>\n",
       "  <tbody>\n",
       "    <tr>\n",
       "      <th>2017-12-28</th>\n",
       "      <td>996</td>\n",
       "      <td>2514.05</td>\n",
       "      <td>L</td>\n",
       "      <td>Female</td>\n",
       "      <td>12</td>\n",
       "    </tr>\n",
       "    <tr>\n",
       "      <th>2017-12-21</th>\n",
       "      <td>997</td>\n",
       "      <td>2190.12</td>\n",
       "      <td>XL</td>\n",
       "      <td>Female</td>\n",
       "      <td>12</td>\n",
       "    </tr>\n",
       "    <tr>\n",
       "      <th>2017-12-10</th>\n",
       "      <td>998</td>\n",
       "      <td>905.67</td>\n",
       "      <td>M</td>\n",
       "      <td>Female</td>\n",
       "      <td>12</td>\n",
       "    </tr>\n",
       "    <tr>\n",
       "      <th>2017-12-13</th>\n",
       "      <td>999</td>\n",
       "      <td>2338.87</td>\n",
       "      <td>L</td>\n",
       "      <td>Male</td>\n",
       "      <td>12</td>\n",
       "    </tr>\n",
       "    <tr>\n",
       "      <th>2017-12-06</th>\n",
       "      <td>1000</td>\n",
       "      <td>3862.26</td>\n",
       "      <td>S</td>\n",
       "      <td>Female</td>\n",
       "      <td>12</td>\n",
       "    </tr>\n",
       "  </tbody>\n",
       "</table>\n",
       "</div>"
      ],
      "text/plain": [
       "              id   amount size  gender  month\n",
       "date                                         \n",
       "2017-12-28   996  2514.05    L  Female     12\n",
       "2017-12-21   997  2190.12   XL  Female     12\n",
       "2017-12-10   998   905.67    M  Female     12\n",
       "2017-12-13   999  2338.87    L    Male     12\n",
       "2017-12-06  1000  3862.26    S  Female     12"
      ]
     },
     "execution_count": 436,
     "metadata": {},
     "output_type": "execute_result"
    }
   ],
   "source": [
    "df = concatenar_meses_ventas(rutas)\n",
    "df.tail()"
   ]
  },
  {
   "cell_type": "code",
   "execution_count": 438,
   "metadata": {},
   "outputs": [
    {
     "data": {
      "text/html": [
       "<div>\n",
       "<style>\n",
       "    .dataframe thead tr:only-child th {\n",
       "        text-align: right;\n",
       "    }\n",
       "\n",
       "    .dataframe thead th {\n",
       "        text-align: left;\n",
       "    }\n",
       "\n",
       "    .dataframe tbody tr th {\n",
       "        vertical-align: top;\n",
       "    }\n",
       "</style>\n",
       "<table border=\"1\" class=\"dataframe\">\n",
       "  <thead>\n",
       "    <tr style=\"text-align: right;\">\n",
       "      <th></th>\n",
       "      <th>amount</th>\n",
       "    </tr>\n",
       "    <tr>\n",
       "      <th>month</th>\n",
       "      <th></th>\n",
       "    </tr>\n",
       "  </thead>\n",
       "  <tbody>\n",
       "    <tr>\n",
       "      <th>1</th>\n",
       "      <td>2441153.08</td>\n",
       "    </tr>\n",
       "    <tr>\n",
       "      <th>2</th>\n",
       "      <td>2517905.46</td>\n",
       "    </tr>\n",
       "    <tr>\n",
       "      <th>3</th>\n",
       "      <td>2437852.15</td>\n",
       "    </tr>\n",
       "    <tr>\n",
       "      <th>4</th>\n",
       "      <td>2552323.58</td>\n",
       "    </tr>\n",
       "    <tr>\n",
       "      <th>5</th>\n",
       "      <td>2482136.35</td>\n",
       "    </tr>\n",
       "    <tr>\n",
       "      <th>6</th>\n",
       "      <td>2491805.34</td>\n",
       "    </tr>\n",
       "    <tr>\n",
       "      <th>7</th>\n",
       "      <td>2542345.27</td>\n",
       "    </tr>\n",
       "    <tr>\n",
       "      <th>8</th>\n",
       "      <td>2478649.75</td>\n",
       "    </tr>\n",
       "    <tr>\n",
       "      <th>9</th>\n",
       "      <td>2516667.20</td>\n",
       "    </tr>\n",
       "    <tr>\n",
       "      <th>10</th>\n",
       "      <td>2538660.16</td>\n",
       "    </tr>\n",
       "    <tr>\n",
       "      <th>11</th>\n",
       "      <td>2510940.44</td>\n",
       "    </tr>\n",
       "    <tr>\n",
       "      <th>12</th>\n",
       "      <td>2502648.58</td>\n",
       "    </tr>\n",
       "  </tbody>\n",
       "</table>\n",
       "</div>"
      ],
      "text/plain": [
       "           amount\n",
       "month            \n",
       "1      2441153.08\n",
       "2      2517905.46\n",
       "3      2437852.15\n",
       "4      2552323.58\n",
       "5      2482136.35\n",
       "6      2491805.34\n",
       "7      2542345.27\n",
       "8      2478649.75\n",
       "9      2516667.20\n",
       "10     2538660.16\n",
       "11     2510940.44\n",
       "12     2502648.58"
      ]
     },
     "execution_count": 438,
     "metadata": {},
     "output_type": "execute_result"
    }
   ],
   "source": [
    "df[['amount','month']].groupby('month').sum()"
   ]
  },
  {
   "cell_type": "code",
   "execution_count": 442,
   "metadata": {
    "collapsed": true
   },
   "outputs": [],
   "source": [
    "df.pivot_table?"
   ]
  },
  {
   "cell_type": "code",
   "execution_count": 443,
   "metadata": {},
   "outputs": [
    {
     "data": {
      "text/html": [
       "<div>\n",
       "<style>\n",
       "    .dataframe thead tr:only-child th {\n",
       "        text-align: right;\n",
       "    }\n",
       "\n",
       "    .dataframe thead th {\n",
       "        text-align: left;\n",
       "    }\n",
       "\n",
       "    .dataframe tbody tr th {\n",
       "        vertical-align: top;\n",
       "    }\n",
       "</style>\n",
       "<table border=\"1\" class=\"dataframe\">\n",
       "  <thead>\n",
       "    <tr style=\"text-align: right;\">\n",
       "      <th>gender</th>\n",
       "      <th>Female</th>\n",
       "      <th>Male</th>\n",
       "    </tr>\n",
       "    <tr>\n",
       "      <th>size</th>\n",
       "      <th></th>\n",
       "      <th></th>\n",
       "    </tr>\n",
       "  </thead>\n",
       "  <tbody>\n",
       "    <tr>\n",
       "      <th>2XL</th>\n",
       "      <td>2058517.60</td>\n",
       "      <td>2075699.00</td>\n",
       "    </tr>\n",
       "    <tr>\n",
       "      <th>3XL</th>\n",
       "      <td>2099091.53</td>\n",
       "      <td>2076458.05</td>\n",
       "    </tr>\n",
       "    <tr>\n",
       "      <th>L</th>\n",
       "      <td>2097829.45</td>\n",
       "      <td>2175832.61</td>\n",
       "    </tr>\n",
       "    <tr>\n",
       "      <th>M</th>\n",
       "      <td>2145611.80</td>\n",
       "      <td>2090039.20</td>\n",
       "    </tr>\n",
       "    <tr>\n",
       "      <th>S</th>\n",
       "      <td>2361348.23</td>\n",
       "      <td>2125754.28</td>\n",
       "    </tr>\n",
       "    <tr>\n",
       "      <th>XL</th>\n",
       "      <td>2191027.89</td>\n",
       "      <td>2169165.42</td>\n",
       "    </tr>\n",
       "    <tr>\n",
       "      <th>XS</th>\n",
       "      <td>2104176.12</td>\n",
       "      <td>2242536.18</td>\n",
       "    </tr>\n",
       "  </tbody>\n",
       "</table>\n",
       "</div>"
      ],
      "text/plain": [
       "gender      Female        Male\n",
       "size                          \n",
       "2XL     2058517.60  2075699.00\n",
       "3XL     2099091.53  2076458.05\n",
       "L       2097829.45  2175832.61\n",
       "M       2145611.80  2090039.20\n",
       "S       2361348.23  2125754.28\n",
       "XL      2191027.89  2169165.42\n",
       "XS      2104176.12  2242536.18"
      ]
     },
     "execution_count": 443,
     "metadata": {},
     "output_type": "execute_result"
    }
   ],
   "source": [
    "df.pivot_table(values='amount',index='size',columns='gender',aggfunc='sum')"
   ]
  },
  {
   "cell_type": "code",
   "execution_count": 446,
   "metadata": {},
   "outputs": [
    {
     "data": {
      "text/html": [
       "<div>\n",
       "<style>\n",
       "    .dataframe thead tr:only-child th {\n",
       "        text-align: right;\n",
       "    }\n",
       "\n",
       "    .dataframe thead th {\n",
       "        text-align: left;\n",
       "    }\n",
       "\n",
       "    .dataframe tbody tr th {\n",
       "        vertical-align: top;\n",
       "    }\n",
       "</style>\n",
       "<table border=\"1\" class=\"dataframe\">\n",
       "  <thead>\n",
       "    <tr style=\"text-align: right;\">\n",
       "      <th>gender</th>\n",
       "      <th>Female</th>\n",
       "      <th>Male</th>\n",
       "    </tr>\n",
       "    <tr>\n",
       "      <th>size</th>\n",
       "      <th></th>\n",
       "      <th></th>\n",
       "    </tr>\n",
       "  </thead>\n",
       "  <tbody>\n",
       "    <tr>\n",
       "      <th>2XL</th>\n",
       "      <td>167154.36</td>\n",
       "      <td>203430.69</td>\n",
       "    </tr>\n",
       "    <tr>\n",
       "      <th>3XL</th>\n",
       "      <td>208435.31</td>\n",
       "      <td>192819.22</td>\n",
       "    </tr>\n",
       "    <tr>\n",
       "      <th>L</th>\n",
       "      <td>146533.50</td>\n",
       "      <td>188757.23</td>\n",
       "    </tr>\n",
       "    <tr>\n",
       "      <th>M</th>\n",
       "      <td>159440.50</td>\n",
       "      <td>179399.97</td>\n",
       "    </tr>\n",
       "    <tr>\n",
       "      <th>S</th>\n",
       "      <td>198537.25</td>\n",
       "      <td>165278.90</td>\n",
       "    </tr>\n",
       "    <tr>\n",
       "      <th>XL</th>\n",
       "      <td>189443.76</td>\n",
       "      <td>155746.17</td>\n",
       "    </tr>\n",
       "    <tr>\n",
       "      <th>XS</th>\n",
       "      <td>170243.87</td>\n",
       "      <td>217124.54</td>\n",
       "    </tr>\n",
       "  </tbody>\n",
       "</table>\n",
       "</div>"
      ],
      "text/plain": [
       "gender     Female       Male\n",
       "size                        \n",
       "2XL     167154.36  203430.69\n",
       "3XL     208435.31  192819.22\n",
       "L       146533.50  188757.23\n",
       "M       159440.50  179399.97\n",
       "S       198537.25  165278.90\n",
       "XL      189443.76  155746.17\n",
       "XS      170243.87  217124.54"
      ]
     },
     "execution_count": 446,
     "metadata": {},
     "output_type": "execute_result"
    }
   ],
   "source": [
    "df['7-2017'].pivot_table(values='amount',index='size',columns='gender',aggfunc='sum')"
   ]
  },
  {
   "cell_type": "code",
   "execution_count": 447,
   "metadata": {
    "collapsed": true
   },
   "outputs": [],
   "source": [
    "df.to_csv('sales2017.csv')"
   ]
  }
 ],
 "metadata": {
  "kernelspec": {
   "display_name": "Python 3",
   "language": "python",
   "name": "python3"
  }
 },
 "nbformat": 4,
 "nbformat_minor": 2
}
