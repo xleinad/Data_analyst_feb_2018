{
 "cells": [
  {
   "cell_type": "markdown",
   "metadata": {},
   "source": [
    "# Introducción a APIs"
   ]
  },
  {
   "cell_type": "markdown",
   "metadata": {},
   "source": [
    "Las APIs se utilizan para conectarse con diversas aplicaciones que viven en un servidor (en Alaska). Para utilizar una API se establece una conexión un servidor remoto que te regresa los datos que necesitas (normalmente en formato JSON)."
   ]
  },
  {
   "cell_type": "markdown",
   "metadata": {},
   "source": [
    "¿Por qué utilizamos APIs en vez de descargar la base de datos?\n",
    "<li> Los datos cambian rápido (ej. precios de acciones) </li>\n",
    "<li> Requieres una pequeña pieza de información de una base de datos grande (ej. comentarios vs. base de datos de facebook)</li>\n",
    "<li> Necesitas utilizar el procesamiento de la aplicación (ej. API de spotify te puede dar el género de una canción vs crear de cero un algoritmo que te genere el género musical </li>"
   ]
  },
  {
   "cell_type": "markdown",
   "metadata": {},
   "source": [
    "Las APIs viven en servidores remotos. Por ejemplo, cuando escribimos www.google.com en nuestro browser le estamos pidiendo al servidor que nos regrese los datos de la página de google. Del mismo modo, nosotros solicitaremos datos a la API y nos lo regresará en formato JSON."
   ]
  },
  {
   "cell_type": "markdown",
   "metadata": {},
   "source": [
    "## Requests"
   ]
  },
  {
   "cell_type": "markdown",
   "metadata": {},
   "source": [
    "### Get requests"
   ]
  },
  {
   "cell_type": "markdown",
   "metadata": {},
   "source": [
    "Existen varios tipos de requests que pedirle al servidor de la página. El más utilizado es el 'get' request que se utiliza para obtener datos."
   ]
  },
  {
   "cell_type": "markdown",
   "metadata": {},
   "source": [
    "Podemos hacer entonces un get request para pedir datos al API de [OpenNotify](http://open-notify.org/) que es un API para acceder datos de la NASA."
   ]
  },
  {
   "cell_type": "markdown",
   "metadata": {},
   "source": [
    "OpenNotify tiene varios **endpoints**. Un endpoint es la ruta de un servidor que se usa para obtener distintos datos de la API. Para utilizarlos debemos agregar el endpoint a la *url base* de la API "
   ]
  },
  {
   "cell_type": "markdown",
   "metadata": {},
   "source": [
    "El primer endpoint que vamos a ver es el iss-now.json. Este endpoint nos da los datos actuales de la latitud y longitud de la estación espacial internacional. ¿Qué categoría(s) de uso para API cumple esta API?"
   ]
  },
  {
   "cell_type": "markdown",
   "metadata": {},
   "source": [
    "La *url base* para la API de OpenNotify es http://api.open-notify.org, entonces la añadiremos siempre al principio de nuestros endpoints"
   ]
  },
  {
   "cell_type": "markdown",
   "metadata": {},
   "source": [
    "Primero, una vez instalada, importamos la librería requests: pip3 install requests"
   ]
  },
  {
   "cell_type": "code",
   "execution_count": 1,
   "metadata": {},
   "outputs": [],
   "source": [
    "import requests"
   ]
  },
  {
   "cell_type": "code",
   "execution_count": 2,
   "metadata": {},
   "outputs": [],
   "source": [
    "# Utiliza un get request para obtener la posición actual de la estación espacial internacional desde la API de opennotify.\n",
    "respuesta = requests.get(\"http://api.open-notify.org/iss-now.json\")"
   ]
  },
  {
   "cell_type": "code",
   "execution_count": 3,
   "metadata": {},
   "outputs": [
    {
     "data": {
      "text/plain": [
       "<Response [200]>"
      ]
     },
     "execution_count": 3,
     "metadata": {},
     "output_type": "execute_result"
    }
   ],
   "source": [
    "respuesta"
   ]
  },
  {
   "cell_type": "code",
   "execution_count": 4,
   "metadata": {},
   "outputs": [
    {
     "name": "stdout",
     "output_type": "stream",
     "text": [
      "200\n"
     ]
    }
   ],
   "source": [
    "# Status Code de la respuesta\n",
    "print(respuesta.status_code)"
   ]
  },
  {
   "cell_type": "markdown",
   "metadata": {},
   "source": [
    "### Status Code"
   ]
  },
  {
   "cell_type": "markdown",
   "metadata": {},
   "source": [
    "El request que hicimos tiene un status_code de 200. Un status_code se regresa por cada request que le hacemos a un servidor web y nos indica que sucedió con nuestro request al servidor. "
   ]
  },
  {
   "cell_type": "markdown",
   "metadata": {},
   "source": [
    "Aquí hay algunos códigos relevantes y su significado\n",
    "<li> **200**: Todo bien, se regresó el resultado (si existe) </li> \n",
    "<li> **301**: El servidor te redirige a un endpoint diferente (lo que sucede cuando cambia la dirección o nombre del endpoint)</li> \n",
    "<li> **401**: El servidor piensa que no te estás autenticado. Esto sucede cuando no tienes las credenciales correctas para acceder al servidor</li> \n",
    "<li> **400**: El servidor piensa que hiciste mal el request. Esto sucede cuando no mandas los datos correctos. </li> \n",
    "<li> **403**: El recurso que tratas de acceder está prohibido (no tienes los permisos necesarios para verlo) </li> \n",
    "<li> **404**: El recurso que tratas de acceder no se encontró en el servidor </li> "
   ]
  },
  {
   "cell_type": "markdown",
   "metadata": {},
   "source": [
    "Podemos hacer ahora un request al API http://api.open-notify.org/iss-pass, un endpoint que no existe, para ver qué sucede"
   ]
  },
  {
   "cell_type": "code",
   "execution_count": 7,
   "metadata": {},
   "outputs": [],
   "source": [
    "respuesta = requests.get(\"http://api.open-notify.org/iss-pass\")"
   ]
  },
  {
   "cell_type": "code",
   "execution_count": 8,
   "metadata": {},
   "outputs": [
    {
     "name": "stdout",
     "output_type": "stream",
     "text": [
      "404\n"
     ]
    }
   ],
   "source": [
    "print(respuesta.status_code)"
   ]
  },
  {
   "cell_type": "markdown",
   "metadata": {},
   "source": [
    "Si agregamos .json al final del endpoint como se indica obtenemos una repuesta diferenta"
   ]
  },
  {
   "cell_type": "code",
   "execution_count": 7,
   "metadata": {},
   "outputs": [
    {
     "name": "stdout",
     "output_type": "stream",
     "text": [
      "400\n"
     ]
    }
   ],
   "source": [
    "respuesta = requests.get(\"http://api.open-notify.org/iss-pass.json\")\n",
    "print(respuesta.status_code)"
   ]
  },
  {
   "cell_type": "markdown",
   "metadata": {},
   "source": [
    "En nuestra último requests obtuvimos un status code de **400**, lo que indica que hicimos mal el request."
   ]
  },
  {
   "cell_type": "markdown",
   "metadata": {},
   "source": [
    "Si leemos la documentación de la API de OpenNotify, entonces el endpoint ISSPASS requiere dos parámetros: lat y lon (indicado la latitud y longitud respectivamente). Los parámetros se pasan con el argumento 'params' con un diccionario. Entonces escribimos:"
   ]
  },
  {
   "cell_type": "code",
   "execution_count": 12,
   "metadata": {},
   "outputs": [
    {
     "name": "stdout",
     "output_type": "stream",
     "text": [
      "b'{\\n  \"message\": \"success\", \\n  \"request\": {\\n    \"altitude\": 100, \\n    \"datetime\": 1509034999, \\n    \"latitude\": 40.71, \\n    \"longitude\": -74.0, \\n    \"passes\": 5\\n  }, \\n  \"response\": [\\n    {\\n      \"duration\": 629, \\n      \"risetime\": 1509040086\\n    }, \\n    {\\n      \"duration\": 598, \\n      \"risetime\": 1509045882\\n    }, \\n    {\\n      \"duration\": 533, \\n      \"risetime\": 1509100115\\n    }, \\n    {\\n      \"duration\": 638, \\n      \"risetime\": 1509105828\\n    }, \\n    {\\n      \"duration\": 577, \\n      \"risetime\": 1509111674\\n    }\\n  ]\\n}\\n'\n",
      "b'{\\n  \"message\": \"success\", \\n  \"request\": {\\n    \"altitude\": 100, \\n    \"datetime\": 1509033827, \\n    \"latitude\": 40.71, \\n    \"longitude\": -74.0, \\n    \"passes\": 5\\n  }, \\n  \"response\": [\\n    {\\n      \"duration\": 558, \\n      \"risetime\": 1509034293\\n    }, \\n    {\\n      \"duration\": 629, \\n      \"risetime\": 1509040086\\n    }, \\n    {\\n      \"duration\": 598, \\n      \"risetime\": 1509045882\\n    }, \\n    {\\n      \"duration\": 533, \\n      \"risetime\": 1509100115\\n    }, \\n    {\\n      \"duration\": 638, \\n      \"risetime\": 1509105828\\n    }\\n  ]\\n}\\n'\n"
     ]
    }
   ],
   "source": [
    "# Indica los parámetros que queremos pasar a la API.\n",
    "# Esta es la latitud de la ciudad de Nueva York.\n",
    "parametros = {\"lat\": 40.71, \"lon\": -74}\n",
    "\n",
    "# Hacer una get request con estos parámetros\n",
    "respuesta = requests.get(\"http://api.open-notify.org/iss-pass.json\", params=parametros)\n",
    "\n",
    "# Imprime el contenido de la respuesta (los datos que regreso el servidor)\n",
    "print(respuesta.content)\n",
    "\n",
    "# Esto nos da el mismo resultado que las líneas anteriores\n",
    "respuesta = requests.get(\"http://api.open-notify.org/iss-pass.json?lat=40.71&lon=-74\")\n",
    "print(respuesta.content)"
   ]
  },
  {
   "cell_type": "markdown",
   "metadata": {},
   "source": [
    "### JSON"
   ]
  },
  {
   "cell_type": "markdown",
   "metadata": {},
   "source": [
    "La información se transmite en internet por medio de bytes que son recibidos por nuestro programa como un string."
   ]
  },
  {
   "cell_type": "markdown",
   "metadata": {},
   "source": [
    "Como podemos ver es difícil leer esta información en el formato en que está. Afortunadamente por eso existe el formato JSON (JavaScript Object Notation) que es fácil de leer entre máquinas y que Python soporta con la librería JSON"
   ]
  },
  {
   "cell_type": "markdown",
   "metadata": {},
   "source": [
    "La librería JSON tiene dos métodos principales: \n",
    "<li> **dumps**: toma un objeto de Python y lo convierte en una JSON String </li> \n",
    "<li> **loads**: toma una JSON String y la convierte en un objeto de python </li> "
   ]
  },
  {
   "cell_type": "markdown",
   "metadata": {},
   "source": [
    "Trabajemos un ejemplo para poder comprender esta librería:"
   ]
  },
  {
   "cell_type": "code",
   "execution_count": 9,
   "metadata": {},
   "outputs": [
    {
     "data": {
      "text/plain": [
       "list"
      ]
     },
     "execution_count": 9,
     "metadata": {},
     "output_type": "execute_result"
    }
   ],
   "source": [
    "best_food_chains = [\"Taco Bell\", \"Shake Shack\", \"Chipotle\"]\n",
    "\n",
    "# Esto es una lista list.\n",
    "type(best_food_chains)"
   ]
  },
  {
   "cell_type": "markdown",
   "metadata": {},
   "source": [
    "Importamos entonces la librería de JSON y convertimos nuestra lista en un string"
   ]
  },
  {
   "cell_type": "code",
   "execution_count": 10,
   "metadata": {},
   "outputs": [],
   "source": [
    "import json"
   ]
  },
  {
   "cell_type": "code",
   "execution_count": 11,
   "metadata": {},
   "outputs": [
    {
     "data": {
      "text/plain": [
       "str"
      ]
     },
     "execution_count": 11,
     "metadata": {},
     "output_type": "execute_result"
    }
   ],
   "source": [
    "# Con json.dumps convertimos best_food_chains a un string.\n",
    "best_food_chains_string = json.dumps(best_food_chains)\n",
    "type(best_food_chains_string)"
   ]
  },
  {
   "cell_type": "code",
   "execution_count": 12,
   "metadata": {},
   "outputs": [
    {
     "data": {
      "text/plain": [
       "'[\"Taco Bell\", \"Shake Shack\", \"Chipotle\"]'"
      ]
     },
     "execution_count": 12,
     "metadata": {},
     "output_type": "execute_result"
    }
   ],
   "source": [
    "best_food_chains_string"
   ]
  },
  {
   "cell_type": "markdown",
   "metadata": {},
   "source": [
    "mismo que podemos importar de regreso con la función loads para re-convertirlo una lista"
   ]
  },
  {
   "cell_type": "code",
   "execution_count": 13,
   "metadata": {},
   "outputs": [
    {
     "data": {
      "text/plain": [
       "['Taco Bell', 'Shake Shack', 'Chipotle']"
      ]
     },
     "execution_count": 13,
     "metadata": {},
     "output_type": "execute_result"
    }
   ],
   "source": [
    "json.loads(best_food_chains_string)"
   ]
  },
  {
   "cell_type": "markdown",
   "metadata": {},
   "source": [
    "Lo mismo aplica para un diccionario"
   ]
  },
  {
   "cell_type": "code",
   "execution_count": 14,
   "metadata": {},
   "outputs": [],
   "source": [
    "# Hacemos un diccionario\n",
    "fast_food_franchise = {\n",
    "    \"Subway\": 24722,\n",
    "    \"McDonalds\": 14098,\n",
    "    \"Starbucks\": 10821,\n",
    "    \"Pizza Hut\": 7600\n",
    "}"
   ]
  },
  {
   "cell_type": "code",
   "execution_count": 15,
   "metadata": {},
   "outputs": [
    {
     "data": {
      "text/plain": [
       "str"
      ]
     },
     "execution_count": 15,
     "metadata": {},
     "output_type": "execute_result"
    }
   ],
   "source": [
    "# Lo pasamos a un string con la función dumps\n",
    "fast_food_franchise_string = json.dumps(fast_food_franchise)\n",
    "type(fast_food_franchise_string)"
   ]
  },
  {
   "cell_type": "code",
   "execution_count": 16,
   "metadata": {},
   "outputs": [
    {
     "data": {
      "text/plain": [
       "'{\"Subway\": 24722, \"McDonalds\": 14098, \"Starbucks\": 10821, \"Pizza Hut\": 7600}'"
      ]
     },
     "execution_count": 16,
     "metadata": {},
     "output_type": "execute_result"
    }
   ],
   "source": [
    "fast_food_franchise_string"
   ]
  },
  {
   "cell_type": "markdown",
   "metadata": {},
   "source": [
    "### Obteniendo el JSON de un API request"
   ]
  },
  {
   "cell_type": "markdown",
   "metadata": {},
   "source": [
    "Podemos obtener la respuesta en formato JSON utilizando el método .json()"
   ]
  },
  {
   "cell_type": "code",
   "execution_count": 17,
   "metadata": {},
   "outputs": [],
   "source": [
    "# La misma respuesta que pedimos antes, pero con las coordenadas de San Francisco.\n",
    "parametros = {\"lat\": 37.78, \"lon\": -122.41}\n",
    "respuesta = requests.get(\"http://api.open-notify.org/iss-pass.json\", params=parametros)"
   ]
  },
  {
   "cell_type": "code",
   "execution_count": 18,
   "metadata": {},
   "outputs": [
    {
     "data": {
      "text/plain": [
       "{'message': 'success',\n",
       " 'request': {'altitude': 100,\n",
       "  'datetime': 1520100899,\n",
       "  'latitude': 37.78,\n",
       "  'longitude': -122.41,\n",
       "  'passes': 5},\n",
       " 'response': [{'duration': 623, 'risetime': 1520101273},\n",
       "  {'duration': 593, 'risetime': 1520107068},\n",
       "  {'duration': 604, 'risetime': 1520161196},\n",
       "  {'duration': 621, 'risetime': 1520166971},\n",
       "  {'duration': 507, 'risetime': 1520172866}]}"
      ]
     },
     "execution_count": 18,
     "metadata": {},
     "output_type": "execute_result"
    }
   ],
   "source": [
    "# Obtener la respuesta data como un objeto de Python.Verificar que es un diccionario.\n",
    "data = respuesta.json()\n",
    "data"
   ]
  },
  {
   "cell_type": "code",
   "execution_count": 19,
   "metadata": {},
   "outputs": [
    {
     "data": {
      "text/plain": [
       "dict"
      ]
     },
     "execution_count": 19,
     "metadata": {},
     "output_type": "execute_result"
    }
   ],
   "source": [
    "type(data)"
   ]
  },
  {
   "cell_type": "markdown",
   "metadata": {},
   "source": [
    "### Headers y Content-type"
   ]
  },
  {
   "cell_type": "markdown",
   "metadata": {},
   "source": [
    "Además de los datos y el status_code en response también obtenemos otros metadatos (data sobre la data). Por ejemplo, información sobre cómo los datos fueron generados y cómo decodificarlos, lo que se guarda en el atributo **headers**"
   ]
  },
  {
   "cell_type": "markdown",
   "metadata": {},
   "source": [
    "Headers se muestra como un diccionario. Uno de los 'keys' de este diccionario es *Content-Type*"
   ]
  },
  {
   "cell_type": "markdown",
   "metadata": {},
   "source": [
    "Podemos ver que "
   ]
  },
  {
   "cell_type": "code",
   "execution_count": 20,
   "metadata": {},
   "outputs": [
    {
     "data": {
      "text/plain": [
       "{'Server': 'nginx/1.10.3', 'Date': 'Sat, 03 Mar 2018 18:15:27 GMT', 'Content-Type': 'application/json', 'Content-Length': '521', 'Connection': 'keep-alive', 'Via': '1.1 vegur'}"
      ]
     },
     "execution_count": 20,
     "metadata": {},
     "output_type": "execute_result"
    }
   ],
   "source": [
    "respuesta.headers"
   ]
  },
  {
   "cell_type": "code",
   "execution_count": 21,
   "metadata": {},
   "outputs": [
    {
     "data": {
      "text/plain": [
       "'application/json'"
      ]
     },
     "execution_count": 21,
     "metadata": {},
     "output_type": "execute_result"
    }
   ],
   "source": [
    "respuesta.headers['Content-Type']"
   ]
  },
  {
   "cell_type": "markdown",
   "metadata": {},
   "source": [
    "### Encontrando el número de personas en el espacio"
   ]
  },
  {
   "cell_type": "markdown",
   "metadata": {},
   "source": [
    "OpenNotify tiene un endpoint, astros.json, que indica cuántas personas están actualmente en el espacio"
   ]
  },
  {
   "cell_type": "markdown",
   "metadata": {},
   "source": [
    "Nos conectamos al endpoint y le pedimos que nos transforme el resultado en un objeto tipo 'json'"
   ]
  },
  {
   "cell_type": "code",
   "execution_count": 22,
   "metadata": {},
   "outputs": [],
   "source": [
    "# Obtener la respuesta del endpoint del API.\n",
    "response = requests.get(\"http://api.open-notify.org/astros.json\")\n",
    "data = response.json()"
   ]
  },
  {
   "cell_type": "code",
   "execution_count": 23,
   "metadata": {},
   "outputs": [
    {
     "data": {
      "text/plain": [
       "{'message': 'success',\n",
       " 'number': 3,\n",
       " 'people': [{'craft': 'ISS', 'name': 'Anton Shkaplerov'},\n",
       "  {'craft': 'ISS', 'name': 'Scott Tingle'},\n",
       "  {'craft': 'ISS', 'name': 'Norishige Kanai'}]}"
      ]
     },
     "execution_count": 23,
     "metadata": {},
     "output_type": "execute_result"
    }
   ],
   "source": [
    "data"
   ]
  },
  {
   "cell_type": "code",
   "execution_count": 24,
   "metadata": {},
   "outputs": [
    {
     "data": {
      "text/plain": [
       "3"
      ]
     },
     "execution_count": 24,
     "metadata": {},
     "output_type": "execute_result"
    }
   ],
   "source": [
    "# Número de personas actualmente en el espacio\n",
    "data[\"number\"]"
   ]
  }
 ],
 "metadata": {
  "kernelspec": {
   "display_name": "Python 3",
   "language": "python",
   "name": "python3"
  },
  "language_info": {
   "codemirror_mode": {
    "name": "ipython",
    "version": 3
   },
   "file_extension": ".py",
   "mimetype": "text/x-python",
   "name": "python",
   "nbconvert_exporter": "python",
   "pygments_lexer": "ipython3",
   "version": "3.6.3"
  }
 },
 "nbformat": 4,
 "nbformat_minor": 2
}
