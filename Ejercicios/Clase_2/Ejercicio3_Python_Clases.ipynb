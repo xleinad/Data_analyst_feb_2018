{
 "cells": [
  {
   "cell_type": "markdown",
   "metadata": {},
   "source": [
    "# Ejercicio Clases en Python"
   ]
  },
  {
   "cell_type": "markdown",
   "metadata": {},
   "source": [
    "### Clase Cohete"
   ]
  },
  {
   "cell_type": "markdown",
   "metadata": {},
   "source": [
    "Con base en el ejemplo que vimos crea una clase cohete. Crea tres nuevos método para la clase:\n",
    "1. Crea un método launch() que imprima un string que diga \"¡El cohete a despegado! e incremente el valor en y en 10 unidades\"\n",
    "2. Crea un método aterrizar_cohete() que simplemente coloque los valores de las coordenadas 'x' y 'y' en (0,0)\n",
    "3. Crea un método safety_check() que tome como argumento otro cohete y utilice el método get_distance() para determinar si la distancia entre dos cohetes es muy corta. Si la distancia es menor o igual a dos unidades el método debe dar un mensaje \"Los cohetes han chocado!\", mientras que si es mayor a dos unidades pero menor o igual a 10 unidades debe decir \"Alerta: los cohetes se encuentran demasiado cerca\"\n",
    "\n",
    "Haz una demostración de que tus nuevos métodos para la clase cohete funcionan"
   ]
  },
  {
   "cell_type": "code",
   "execution_count": null,
   "metadata": {
    "collapsed": true
   },
   "outputs": [],
   "source": []
  },
  {
   "cell_type": "code",
   "execution_count": null,
   "metadata": {
    "collapsed": true
   },
   "outputs": [],
   "source": []
  },
  {
   "cell_type": "code",
   "execution_count": null,
   "metadata": {
    "collapsed": true
   },
   "outputs": [],
   "source": []
  },
  {
   "cell_type": "code",
   "execution_count": null,
   "metadata": {
    "collapsed": true
   },
   "outputs": [],
   "source": []
  },
  {
   "cell_type": "markdown",
   "metadata": {},
   "source": [
    "### Clase Persona"
   ]
  },
  {
   "cell_type": "markdown",
   "metadata": {},
   "source": [
    "En este ejercicio vas a crear una clase persona lo más completa que te sea posible. Estas son las instrucciones:\n",
    "    1. Define una clase Persona\n",
    "    2. En la función init define al menos 10 atributos de una persona\n",
    "    3. Escribe un método describir_persona() que nos presente información sobre esta persona\n",
    "    4. Escribe un método cumple() que incremente la edad de la persona 1 año y le de un mensaje de cumpleaños\n",
    "    5. Escribe un método caminar() que cambie las posiciones x,y de una persona\n",
    "    6. Escribe un método regresar_a_casa() que regrese las posiciones x,y de una persona al (0,0)\n",
    "    7. Crea 5 personas y ejemplifica cada uno de los métodos que creaste"
   ]
  },
  {
   "cell_type": "code",
   "execution_count": null,
   "metadata": {
    "collapsed": true
   },
   "outputs": [],
   "source": []
  },
  {
   "cell_type": "code",
   "execution_count": null,
   "metadata": {
    "collapsed": true
   },
   "outputs": [],
   "source": []
  },
  {
   "cell_type": "code",
   "execution_count": null,
   "metadata": {
    "collapsed": true
   },
   "outputs": [],
   "source": []
  },
  {
   "cell_type": "code",
   "execution_count": null,
   "metadata": {
    "collapsed": true
   },
   "outputs": [],
   "source": []
  }
 ],
 "metadata": {
  "kernelspec": {
   "display_name": "Python 3",
   "language": "python",
   "name": "python3"
  },
  "language_info": {
   "codemirror_mode": {
    "name": "ipython",
    "version": 3
   },
   "file_extension": ".py",
   "mimetype": "text/x-python",
   "name": "python",
   "nbconvert_exporter": "python",
   "pygments_lexer": "ipython3",
   "version": "3.6.3"
  }
 },
 "nbformat": 4,
 "nbformat_minor": 2
}
