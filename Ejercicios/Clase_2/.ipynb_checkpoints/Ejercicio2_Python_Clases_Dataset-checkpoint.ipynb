{
 "cells": [
  {
   "cell_type": "markdown",
   "metadata": {},
   "source": [
    "# Ejercicios Clases en Python "
   ]
  },
  {
   "cell_type": "markdown",
   "metadata": {},
   "source": [
    "### Ejercicio 1\n",
    "- Crea una clase llamada Dataset \n",
    "- Dentro de esa clase crea un atributo type y asignale el calor \"csv\"\n",
    "- Imprime el valor del atributo type para una instancia de Dataset"
   ]
  },
  {
   "cell_type": "code",
   "execution_count": null,
   "metadata": {},
   "outputs": [],
   "source": []
  },
  {
   "cell_type": "markdown",
   "metadata": {},
   "source": [
    "Para añadir datos de manera dinámica a nuestro objeto debemos incluir una nueva variable en nuestro método init"
   ]
  },
  {
   "cell_type": "markdown",
   "metadata": {},
   "source": [
    "### Ejercicio 2: \n",
    "- Añade un parámetro 'data' al método __init__() y asiganlo al atributo self.data\n",
    "- Lee los datos desde nfl.csv a la variable nfl_data utilizando el módulo csv y la función reader\n",
    "- Haz una instancia de la clase y pasa la lista nfl_data al método init, asigna el nuevo objeto a la variable 'nfl_dataset'\n",
    "- Utiliza el atributo 'data' para accesar los datos contenidos en 'nfl_dataset' y asignalo a la variable 'dataset_data'"
   ]
  },
  {
   "cell_type": "code",
   "execution_count": null,
   "metadata": {},
   "outputs": [],
   "source": []
  },
  {
   "cell_type": "code",
   "execution_count": null,
   "metadata": {},
   "outputs": [],
   "source": []
  },
  {
   "cell_type": "code",
   "execution_count": null,
   "metadata": {},
   "outputs": [],
   "source": []
  },
  {
   "cell_type": "code",
   "execution_count": null,
   "metadata": {},
   "outputs": [],
   "source": []
  },
  {
   "cell_type": "markdown",
   "metadata": {},
   "source": [
    "### Ejercicio 3:\n",
    "- Agrega un nuevo método a la clase llamado print_head() que tome como argumento en número de filas 'num_rows'\n",
    "- Crea una instancia de la clase Dataset e incializalo con nfl_data, asignándolo a la variable nfl_dataset\n",
    "- Utiliza el método print_head() que creaste con num_rows = 5 como parámetro"
   ]
  },
  {
   "cell_type": "code",
   "execution_count": null,
   "metadata": {},
   "outputs": [],
   "source": []
  },
  {
   "cell_type": "code",
   "execution_count": null,
   "metadata": {},
   "outputs": [],
   "source": []
  },
  {
   "cell_type": "code",
   "execution_count": null,
   "metadata": {},
   "outputs": [],
   "source": []
  },
  {
   "cell_type": "markdown",
   "metadata": {},
   "source": [
    "Vemos que esto nos causa un problema y es que tenemos siempre el header como primer fila. Nos gustaría para poder manejarlo de mejor forma que el header estuviera separado de nuestros datos"
   ]
  },
  {
   "cell_type": "markdown",
   "metadata": {},
   "source": [
    "### Ejercicio 4:\n",
    "- Agrega el código para extraer el header al init y asignalo a un atributo llamado self.header\n",
    "- Crea una variable llamada nfl_header y asignale el atributo header para verificar que funciona"
   ]
  },
  {
   "cell_type": "code",
   "execution_count": null,
   "metadata": {},
   "outputs": [],
   "source": []
  },
  {
   "cell_type": "code",
   "execution_count": null,
   "metadata": {},
   "outputs": [],
   "source": []
  },
  {
   "cell_type": "markdown",
   "metadata": {},
   "source": [
    "### Ejercicio 5:\n",
    "- Agrega un método llamado column() que a partir de un 'label' o etiqueta busque el índice que ocupa en el header y regrese una lista con todos los datos incluidos en dicha columna \n",
    "- Si el label no está incluido en el header debe regresar 'None'\n",
    "- Tip: utiliza enumerate para obtener el índice de cada columna\n",
    "- Crea una variable llamada year_column y que obtenga el valor de aplicar el método .column('year')\n",
    "- Crea una variable llamada player_column y que obtenga el valor de aplicar el método .column('player')"
   ]
  },
  {
   "cell_type": "code",
   "execution_count": null,
   "metadata": {},
   "outputs": [],
   "source": []
  },
  {
   "cell_type": "code",
   "execution_count": null,
   "metadata": {},
   "outputs": [],
   "source": []
  },
  {
   "cell_type": "code",
   "execution_count": null,
   "metadata": {},
   "outputs": [],
   "source": []
  },
  {
   "cell_type": "code",
   "execution_count": null,
   "metadata": {},
   "outputs": [],
   "source": []
  },
  {
   "cell_type": "markdown",
   "metadata": {},
   "source": [
    "Agreguemos un método que nos permita contrar entradas únicas en cada columna. Dado que ya imprimimos todo el output de una columna este ejercicio no debe ser muy difícil"
   ]
  },
  {
   "cell_type": "markdown",
   "metadata": {},
   "source": [
    "Recordemos que la función set() nos regresa los elementos únicos de una lista. Veamos un ejemplo:"
   ]
  },
  {
   "cell_type": "code",
   "execution_count": 35,
   "metadata": {},
   "outputs": [
    {
     "data": {
      "text/plain": [
       "{1, 2}"
      ]
     },
     "execution_count": 35,
     "metadata": {},
     "output_type": "execute_result"
    }
   ],
   "source": [
    "weeks = [1,1,1,1,1,2,2,2,2]\n",
    "unique_weeks = set(weeks)\n",
    "unique_weeks"
   ]
  },
  {
   "cell_type": "code",
   "execution_count": 36,
   "metadata": {},
   "outputs": [
    {
     "data": {
      "text/plain": [
       "set"
      ]
     },
     "execution_count": 36,
     "metadata": {},
     "output_type": "execute_result"
    }
   ],
   "source": [
    "type(unique_weeks)"
   ]
  },
  {
   "cell_type": "markdown",
   "metadata": {},
   "source": [
    "### Ejercicio 6:\n",
    "- Agrega un método a Dataset que se llame count_unique() y que tome un label como argumento para obtener el set de elementos únicos del resultado del método column y regrese la cuenta total.\n",
    "- Crea una instancia y cuenta el total de valores únicos de la columna year"
   ]
  },
  {
   "cell_type": "code",
   "execution_count": null,
   "metadata": {},
   "outputs": [],
   "source": []
  },
  {
   "cell_type": "code",
   "execution_count": null,
   "metadata": {},
   "outputs": [],
   "source": []
  },
  {
   "cell_type": "code",
   "execution_count": null,
   "metadata": {},
   "outputs": [],
   "source": []
  },
  {
   "cell_type": "code",
   "execution_count": null,
   "metadata": {},
   "outputs": [],
   "source": [
    "print(nfl_dataset)"
   ]
  },
  {
   "cell_type": "markdown",
   "metadata": {},
   "source": [
    "Como hemos visto existen ciertos métodos especiales tales como init que le dicen cosas particulares al intérprete de Python acerca de nuestros objetos. Otro de estos métodos es str que le dice como imprimirlo"
   ]
  },
  {
   "cell_type": "markdown",
   "metadata": {},
   "source": [
    "### Ejercicio 7\n",
    "- Agrega un método __str__() y convierte las 10 primeras filas de self.data a un string que regrese este método\n",
    "- Crea una instancia llamada nfl_dataset y utiliza print sobre ella"
   ]
  },
  {
   "cell_type": "code",
   "execution_count": null,
   "metadata": {},
   "outputs": [],
   "source": []
  },
  {
   "cell_type": "code",
   "execution_count": null,
   "metadata": {},
   "outputs": [],
   "source": []
  },
  {
   "cell_type": "code",
   "execution_count": null,
   "metadata": {},
   "outputs": [],
   "source": []
  }
 ],
 "metadata": {
  "kernelspec": {
   "display_name": "Python 3",
   "language": "python",
   "name": "python3"
  },
  "language_info": {
   "codemirror_mode": {
    "name": "ipython",
    "version": 3
   },
   "file_extension": ".py",
   "mimetype": "text/x-python",
   "name": "python",
   "nbconvert_exporter": "python",
   "pygments_lexer": "ipython3",
   "version": "3.6.3"
  }
 },
 "nbformat": 4,
 "nbformat_minor": 2
}
