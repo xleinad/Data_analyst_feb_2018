{
 "cells": [
  {
   "cell_type": "markdown",
   "metadata": {},
   "source": [
    "# Ejercicios Clases en Python "
   ]
  },
  {
   "cell_type": "markdown",
   "metadata": {},
   "source": [
    "### Ejercicio 1\n",
    "- Crea una clase llamada Dataset \n",
    "- Dentro de esa clase crea un atributo type y asignale el calor \"csv\"\n",
    "- Imprime el valor del atributo type para una instancia de Dataset"
   ]
  },
  {
   "cell_type": "code",
   "execution_count": 8,
   "metadata": {},
   "outputs": [
    {
     "name": "stdout",
     "output_type": "stream",
     "text": [
      "csv\n"
     ]
    }
   ],
   "source": [
    "class Dataset():\n",
    "    \n",
    "    def __init__(self):\n",
    "        self.type = \"csv\"\n",
    "    \n",
    "dataset = Dataset()\n",
    "print(dataset.type)"
   ]
  },
  {
   "cell_type": "markdown",
   "metadata": {},
   "source": [
    "Para añadir datos de manera dinámica a nuestro objeto debemos incluir una nueva variable en nuestro método init"
   ]
  },
  {
   "cell_type": "markdown",
   "metadata": {},
   "source": [
    "### Ejercicio 2: \n",
    "- Añade un parámetro 'data' al método __init__() y asiganlo al atributo self.data\n",
    "- Lee los datos desde nfl.csv a la variable nfl_data utilizando el módulo csv y la función reader\n",
    "- Haz una instancia de la clase y pasa la lista nfl_data al método init, asigna el nuevo objeto a la variable 'nfl_dataset'\n",
    "- Utiliza el atributo 'data' para accesar los datos contenidos en 'nfl_dataset' y asignalo a la variable 'dataset_data'"
   ]
  },
  {
   "cell_type": "code",
   "execution_count": 9,
   "metadata": {},
   "outputs": [],
   "source": [
    "class Dataset:\n",
    "    def __init__(self,data):\n",
    "        self.type = \"csv\"\n",
    "        self.data = data "
   ]
  },
  {
   "cell_type": "code",
   "execution_count": 42,
   "metadata": {},
   "outputs": [],
   "source": [
    "import csv\n",
    "f = open('nfl.csv','r')\n",
    "csvreader = csv.reader(f)\n",
    "nfl_data = list(csvreader)"
   ]
  },
  {
   "cell_type": "code",
   "execution_count": 20,
   "metadata": {},
   "outputs": [
    {
     "data": {
      "text/plain": [
       "<__main__.Dataset at 0x10eed43c8>"
      ]
     },
     "execution_count": 20,
     "metadata": {},
     "output_type": "execute_result"
    }
   ],
   "source": [
    "nfl_dataset = Dataset(nfl_data)\n",
    "nfl_dataset"
   ]
  },
  {
   "cell_type": "code",
   "execution_count": 21,
   "metadata": {},
   "outputs": [
    {
     "data": {
      "text/plain": [
       "[['', 'year', 'week', 'winner', 'looser'],\n",
       " ['', '2009', '1', 'Pittsburgh Steelers', 'Tennessee Titans'],\n",
       " ['0', '2009', '1', 'Minnesota Vikings', 'Cleveland Browns'],\n",
       " ['1', '2009', '1', 'New York Giants', 'Washington Redskins'],\n",
       " ['2', '2009', '1', 'San Francisco 49ers', 'Arizona Cardinals'],\n",
       " ['3', '2009', '1', 'Seattle Seahawks', 'St. Louis Rams'],\n",
       " ['4', '2009', '1', 'Philadelphia Eagles', 'Carolina Panthers'],\n",
       " ['5', '2009', '1', 'New York Jets', 'Houston Texans'],\n",
       " ['6', '2009', '1', 'Atlanta Falcons', 'Miami Dolphins'],\n",
       " ['7', '2009', '1', 'Baltimore Ravens', 'Kansas City Chiefs']]"
      ]
     },
     "execution_count": 21,
     "metadata": {},
     "output_type": "execute_result"
    }
   ],
   "source": [
    "dataset_data = nfl_dataset.data \n",
    "dataset_data[:10]"
   ]
  },
  {
   "cell_type": "markdown",
   "metadata": {},
   "source": [
    "### Ejercicio 3:\n",
    "- Agrega un nuevo método a la clase llamado print_head() que tome como argumento en número de filas 'num_rows'\n",
    "- Crea una instancia de la clase Dataset e incializalo con nfl_data, asignándolo a la variable nfl_dataset\n",
    "- Utiliza el método print_head() que creaste con num_rows = 5 como parámetro"
   ]
  },
  {
   "cell_type": "code",
   "execution_count": 23,
   "metadata": {},
   "outputs": [],
   "source": [
    "class Dataset:\n",
    "    def __init__(self, data):\n",
    "        self.data = data\n",
    "    \n",
    "    def print_head(self, num_rows):\n",
    "        print(self.data[:num_rows])"
   ]
  },
  {
   "cell_type": "code",
   "execution_count": 24,
   "metadata": {},
   "outputs": [],
   "source": [
    "nfl_dataset = Dataset(nfl_data)"
   ]
  },
  {
   "cell_type": "code",
   "execution_count": 25,
   "metadata": {},
   "outputs": [
    {
     "name": "stdout",
     "output_type": "stream",
     "text": [
      "[['', 'year', 'week', 'winner', 'looser'], ['', '2009', '1', 'Pittsburgh Steelers', 'Tennessee Titans'], ['0', '2009', '1', 'Minnesota Vikings', 'Cleveland Browns'], ['1', '2009', '1', 'New York Giants', 'Washington Redskins'], ['2', '2009', '1', 'San Francisco 49ers', 'Arizona Cardinals']]\n"
     ]
    }
   ],
   "source": [
    "nfl_dataset.print_head(5)"
   ]
  },
  {
   "cell_type": "markdown",
   "metadata": {},
   "source": [
    "Vemos que esto nos causa un problema y es que tenemos siempre el header como primer fila. Nos gustaría para poder manejarlo de mejor forma que el header estuviera separado de nuestros datos"
   ]
  },
  {
   "cell_type": "markdown",
   "metadata": {},
   "source": [
    "### Ejercicio 4:\n",
    "- Agrega el código para extraer el header al init y asignalo a un atributo llamado self.header\n",
    "- Crea una variable llamada nfl_header y asignale el atributo header para verificar que funciona"
   ]
  },
  {
   "cell_type": "code",
   "execution_count": 26,
   "metadata": {},
   "outputs": [],
   "source": [
    "class Dataset:\n",
    "    def __init__(self, data):\n",
    "        self.header = data[0]\n",
    "        self.data = data[1:]"
   ]
  },
  {
   "cell_type": "code",
   "execution_count": 28,
   "metadata": {},
   "outputs": [
    {
     "data": {
      "text/plain": [
       "['', 'year', 'week', 'winner', 'looser']"
      ]
     },
     "execution_count": 28,
     "metadata": {},
     "output_type": "execute_result"
    }
   ],
   "source": [
    "nfl_dataset = Dataset(nfl_data)\n",
    "nfl_header = nfl_dataset.header\n",
    "nfl_header"
   ]
  },
  {
   "cell_type": "markdown",
   "metadata": {},
   "source": [
    "### Ejercicio 5:\n",
    "- Agrega un método llamado column() que a partir de un 'label' o etiqueta busque el índice que ocupa en el header y regrese una lista con todos los datos incluidos en dicha columna \n",
    "- Si el label no está incluido en el header debe regresar 'None'\n",
    "- Tip: utiliza enumerate para obtener el índice de cada columna\n",
    "- Crea una variable llamada year_column y que obtenga el valor de aplicar el método .column('year')\n",
    "- Crea una variable llamada player_column y que obtenga el valor de aplicar el método .column('player')"
   ]
  },
  {
   "cell_type": "code",
   "execution_count": 29,
   "metadata": {},
   "outputs": [],
   "source": [
    "class Dataset:\n",
    "    def __init__(self, data):\n",
    "        self.header = data[0]\n",
    "        self.data = data[1:]\n",
    "     \n",
    "    def column(self,label):\n",
    "        if label not in self.header:\n",
    "            return None\n",
    "        \n",
    "        index = 0\n",
    "        for idx,element in enumerate(self.header):\n",
    "            if label == element:\n",
    "                index = idx\n",
    "        \n",
    "        return [row[index] for row in self.data]"
   ]
  },
  {
   "cell_type": "code",
   "execution_count": 30,
   "metadata": {},
   "outputs": [],
   "source": [
    "nfl_dataset = Dataset(nfl_data)"
   ]
  },
  {
   "cell_type": "code",
   "execution_count": 32,
   "metadata": {
    "collapsed": true
   },
   "outputs": [
    {
     "data": {
      "text/plain": [
       "['2009',\n",
       " '2009',\n",
       " '2009',\n",
       " '2009',\n",
       " '2009',\n",
       " '2009',\n",
       " '2009',\n",
       " '2009',\n",
       " '2009',\n",
       " '2009',\n",
       " '2009',\n",
       " '2009',\n",
       " '2009',\n",
       " '2009',\n",
       " '2009',\n",
       " '2009',\n",
       " '2009',\n",
       " '2009',\n",
       " '2009',\n",
       " '2009',\n",
       " '2009',\n",
       " '2009',\n",
       " '2009',\n",
       " '2009',\n",
       " '2009',\n",
       " '2009',\n",
       " '2009',\n",
       " '2009',\n",
       " '2009',\n",
       " '2009',\n",
       " '2009',\n",
       " '2009',\n",
       " '2009',\n",
       " '2009',\n",
       " '2009',\n",
       " '2009',\n",
       " '2009',\n",
       " '2009',\n",
       " '2009',\n",
       " '2009',\n",
       " '2009',\n",
       " '2009',\n",
       " '2009',\n",
       " '2009',\n",
       " '2009',\n",
       " '2009',\n",
       " '2009',\n",
       " '2009',\n",
       " '2009',\n",
       " '2009',\n",
       " '2009',\n",
       " '2009',\n",
       " '2009',\n",
       " '2009',\n",
       " '2009',\n",
       " '2009',\n",
       " '2009',\n",
       " '2009',\n",
       " '2009',\n",
       " '2009',\n",
       " '2009',\n",
       " '2009',\n",
       " '2009',\n",
       " '2009',\n",
       " '2009',\n",
       " '2009',\n",
       " '2009',\n",
       " '2009',\n",
       " '2009',\n",
       " '2009',\n",
       " '2009',\n",
       " '2009',\n",
       " '2009',\n",
       " '2009',\n",
       " '2009',\n",
       " '2009',\n",
       " '2009',\n",
       " '2009',\n",
       " '2009',\n",
       " '2009',\n",
       " '2009',\n",
       " '2009',\n",
       " '2009',\n",
       " '2009',\n",
       " '2009',\n",
       " '2009',\n",
       " '2009',\n",
       " '2009',\n",
       " '2009',\n",
       " '2009',\n",
       " '2009',\n",
       " '2009',\n",
       " '2009',\n",
       " '2009',\n",
       " '2009',\n",
       " '2009',\n",
       " '2009',\n",
       " '2009',\n",
       " '2009',\n",
       " '2009',\n",
       " '2009',\n",
       " '2009',\n",
       " '2009',\n",
       " '2009',\n",
       " '2009',\n",
       " '2009',\n",
       " '2009',\n",
       " '2009',\n",
       " '2009',\n",
       " '2009',\n",
       " '2009',\n",
       " '2009',\n",
       " '2009',\n",
       " '2009',\n",
       " '2009',\n",
       " '2009',\n",
       " '2009',\n",
       " '2009',\n",
       " '2009',\n",
       " '2009',\n",
       " '2009',\n",
       " '2009',\n",
       " '2009',\n",
       " '2009',\n",
       " '2009',\n",
       " '2009',\n",
       " '2009',\n",
       " '2009',\n",
       " '2009',\n",
       " '2009',\n",
       " '2009',\n",
       " '2009',\n",
       " '2009',\n",
       " '2009',\n",
       " '2009',\n",
       " '2009',\n",
       " '2009',\n",
       " '2009',\n",
       " '2009',\n",
       " '2009',\n",
       " '2009',\n",
       " '2009',\n",
       " '2009',\n",
       " '2009',\n",
       " '2009',\n",
       " '2009',\n",
       " '2009',\n",
       " '2009',\n",
       " '2009',\n",
       " '2009',\n",
       " '2009',\n",
       " '2009',\n",
       " '2009',\n",
       " '2009',\n",
       " '2009',\n",
       " '2009',\n",
       " '2009',\n",
       " '2009',\n",
       " '2009',\n",
       " '2009',\n",
       " '2009',\n",
       " '2009',\n",
       " '2009',\n",
       " '2009',\n",
       " '2009',\n",
       " '2009',\n",
       " '2009',\n",
       " '2009',\n",
       " '2009',\n",
       " '2009',\n",
       " '2009',\n",
       " '2009',\n",
       " '2009',\n",
       " '2009',\n",
       " '2009',\n",
       " '2009',\n",
       " '2009',\n",
       " '2009',\n",
       " '2009',\n",
       " '2009',\n",
       " '2009',\n",
       " '2009',\n",
       " '2009',\n",
       " '2009',\n",
       " '2009',\n",
       " '2009',\n",
       " '2009',\n",
       " '2009',\n",
       " '2009',\n",
       " '2009',\n",
       " '2009',\n",
       " '2009',\n",
       " '2009',\n",
       " '2009',\n",
       " '2009',\n",
       " '2009',\n",
       " '2009',\n",
       " '2009',\n",
       " '2009',\n",
       " '2009',\n",
       " '2009',\n",
       " '2009',\n",
       " '2009',\n",
       " '2009',\n",
       " '2009',\n",
       " '2009',\n",
       " '2009',\n",
       " '2009',\n",
       " '2009',\n",
       " '2009',\n",
       " '2009',\n",
       " '2009',\n",
       " '2009',\n",
       " '2009',\n",
       " '2009',\n",
       " '2009',\n",
       " '2009',\n",
       " '2009',\n",
       " '2009',\n",
       " '2009',\n",
       " '2009',\n",
       " '2009',\n",
       " '2009',\n",
       " '2009',\n",
       " '2009',\n",
       " '2009',\n",
       " '2009',\n",
       " '2009',\n",
       " '2009',\n",
       " '2009',\n",
       " '2009',\n",
       " '2009',\n",
       " '2009',\n",
       " '2009',\n",
       " '2009',\n",
       " '2009']"
      ]
     },
     "execution_count": 32,
     "metadata": {},
     "output_type": "execute_result"
    }
   ],
   "source": [
    "year_column = nfl_dataset.column('year')\n",
    "year_column"
   ]
  },
  {
   "cell_type": "code",
   "execution_count": 33,
   "metadata": {},
   "outputs": [],
   "source": [
    "player_column = nfl_dataset.column('player')\n",
    "player_column"
   ]
  },
  {
   "cell_type": "markdown",
   "metadata": {},
   "source": [
    "Agreguemos un método que nos permita contrar entradas únicas en cada columna. Dado que ya imprimimos todo el output de una columna este ejercicio no debe ser muy difícil"
   ]
  },
  {
   "cell_type": "markdown",
   "metadata": {},
   "source": [
    "Recordemos que la función set() nos regresa los elementos únicos de una lista. Veamos un ejemplo:"
   ]
  },
  {
   "cell_type": "code",
   "execution_count": 35,
   "metadata": {},
   "outputs": [
    {
     "data": {
      "text/plain": [
       "{1, 2}"
      ]
     },
     "execution_count": 35,
     "metadata": {},
     "output_type": "execute_result"
    }
   ],
   "source": [
    "weeks = [1,1,1,1,1,2,2,2,2]\n",
    "unique_weeks = set(weeks)\n",
    "unique_weeks"
   ]
  },
  {
   "cell_type": "code",
   "execution_count": 36,
   "metadata": {},
   "outputs": [
    {
     "data": {
      "text/plain": [
       "set"
      ]
     },
     "execution_count": 36,
     "metadata": {},
     "output_type": "execute_result"
    }
   ],
   "source": [
    "type(unique_weeks)"
   ]
  },
  {
   "cell_type": "markdown",
   "metadata": {},
   "source": [
    "### Ejercicio 6:\n",
    "- Agrega un método a Dataset que se llame count_unique() y que tome un label como argumento para obtener el set de elementos únicos del resultado del método column y regrese la cuenta total.\n",
    "- Crea una instancia y cuenta el total de valores únicos de la columna year"
   ]
  },
  {
   "cell_type": "code",
   "execution_count": 43,
   "metadata": {},
   "outputs": [],
   "source": [
    "class Dataset:\n",
    "    def __init__(self, data):\n",
    "        self.header = data[0]\n",
    "        self.data = data[1:]\n",
    "    \n",
    "    def column(self, label):\n",
    "        if label not in self.header:\n",
    "            return None\n",
    "        \n",
    "        index = 0\n",
    "        for idx, element in enumerate(self.header):\n",
    "            if label == element:\n",
    "                index = idx\n",
    "        \n",
    "        column = []\n",
    "        for row in self.data:\n",
    "            column.append(row[index])\n",
    "        return column\n",
    "    \n",
    "    def count_unique(self,label):\n",
    "        unique_results = set(self.column(label))\n",
    "        return len(unique_results)"
   ]
  },
  {
   "cell_type": "code",
   "execution_count": 44,
   "metadata": {},
   "outputs": [],
   "source": [
    "nfl_dataset = Dataset(nfl_data)"
   ]
  },
  {
   "cell_type": "code",
   "execution_count": 45,
   "metadata": {},
   "outputs": [
    {
     "data": {
      "text/plain": [
       "5"
      ]
     },
     "execution_count": 45,
     "metadata": {},
     "output_type": "execute_result"
    }
   ],
   "source": [
    "total_years = nfl_dataset.count_unique('year')\n",
    "total_years"
   ]
  },
  {
   "cell_type": "code",
   "execution_count": null,
   "metadata": {},
   "outputs": [],
   "source": [
    "print(nfl_dataset)"
   ]
  },
  {
   "cell_type": "markdown",
   "metadata": {},
   "source": [
    "Como hemos visto existen ciertos métodos especiales tales como init que le dicen cosas particulares al intérprete de Python acerca de nuestros objetos. Otro de estos métodos es str que le dice como imprimirlo"
   ]
  },
  {
   "cell_type": "markdown",
   "metadata": {},
   "source": [
    "### Ejercicio 7\n",
    "- Agrega un método __str__() y convierte las 10 primeras filas de self.data a un string que regrese este método\n",
    "- Crea una instancia llamada nfl_dataset y utiliza print sobre ella"
   ]
  },
  {
   "cell_type": "code",
   "execution_count": 46,
   "metadata": {},
   "outputs": [],
   "source": [
    "class Dataset:\n",
    "    def __init__(self, data):\n",
    "        self.header = data[0]\n",
    "        self.data = data[1:]\n",
    "    \n",
    "    def __str__(self):\n",
    "        return str(self.data[:10])\n",
    "    \n",
    "    def column(self, label):\n",
    "        if label not in self.header:\n",
    "            return None\n",
    "        \n",
    "        index = 0\n",
    "        for idx, element in enumerate(self.header):\n",
    "            if label == element:\n",
    "                index = idx\n",
    "        \n",
    "        column = []\n",
    "        for row in self.data:\n",
    "            column.append(row[index])\n",
    "        return column\n",
    "    \n",
    "        \n",
    "    def count_unique(self, label):\n",
    "        unique_results = set(self.column(label))\n",
    "        count = len(unique_results)\n",
    "        return count"
   ]
  },
  {
   "cell_type": "code",
   "execution_count": 47,
   "metadata": {},
   "outputs": [],
   "source": [
    "nfl_dataset = Dataset(nfl_data)"
   ]
  },
  {
   "cell_type": "code",
   "execution_count": 48,
   "metadata": {},
   "outputs": [
    {
     "name": "stdout",
     "output_type": "stream",
     "text": [
      "[['2009', '1', 'Pittsburgh Steelers', 'Tennessee Titans'], ['2009', '1', 'Minnesota Vikings', 'Cleveland Browns'], ['2009', '1', 'New York Giants', 'Washington Redskins'], ['2009', '1', 'San Francisco 49ers', 'Arizona Cardinals'], ['2009', '1', 'Seattle Seahawks', 'St. Louis Rams'], ['2009', '1', 'Philadelphia Eagles', 'Carolina Panthers'], ['2009', '1', 'New York Jets', 'Houston Texans'], ['2009', '1', 'Atlanta Falcons', 'Miami Dolphins'], ['2009', '1', 'Baltimore Ravens', 'Kansas City Chiefs'], ['2009', '1', 'Indianapolis Colts', 'Jacksonville Jaguars']]\n"
     ]
    }
   ],
   "source": [
    "print(nfl_dataset)"
   ]
  }
 ],
 "metadata": {
  "kernelspec": {
   "display_name": "Python 3",
   "language": "python",
   "name": "python3"
  },
  "language_info": {
   "codemirror_mode": {
    "name": "ipython",
    "version": 3
   },
   "file_extension": ".py",
   "mimetype": "text/x-python",
   "name": "python",
   "nbconvert_exporter": "python",
   "pygments_lexer": "ipython3",
   "version": "3.6.3"
  }
 },
 "nbformat": 4,
 "nbformat_minor": 2
}
